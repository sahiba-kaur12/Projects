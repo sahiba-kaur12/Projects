{
 "cells": [
  {
   "cell_type": "markdown",
   "metadata": {},
   "source": [
    "# Hacker News Posts Analysis\n",
    "\n",
    "Hacker News is a site started by the startup incubator Y Combinator, where user-submitted stories (known as \"posts\") receive votes and comments, similar to reddit. Hacker News is a site started by the startup incubator Y Combinator, where user-submitted stories (known as \"posts\") receive votes and comments, similar to reddit. \n",
    "\n",
    "The dataset used for the analysis is retreived by obtaining a random sample of **20,000** rows from the data which was obtained by removing all the of the rows without any comments.\n",
    "\n",
    "**Description of the dataset:**\n",
    "1. **id**: the unique identifier from Hacker News for the post\n",
    "2. **title**: the title of the post\n",
    "3. **url**: the URL that the posts links to, if the post has a URL\n",
    "4. **num_points**: the number of points the post acquired, calculated as the total number of upvotes minus the total number of downvotes\n",
    "5.**num_comments**: the number of comments on the post\n",
    "6. **author**: the username of the person who submitted the post\n",
    "7. **created_at**: the date and time of the post's submission\n",
    "\n",
    "Let us explore a few rows of the dataset.\n"
   ]
  },
  {
   "cell_type": "code",
   "execution_count": 1,
   "metadata": {},
   "outputs": [],
   "source": [
    "import warnings\n",
    "warnings.filterwarnings('ignore')"
   ]
  },
  {
   "cell_type": "code",
   "execution_count": 2,
   "metadata": {},
   "outputs": [],
   "source": [
    "import pandas as pd\n",
    "data=pd.read_csv(\"hacker_news.csv\")"
   ]
  },
  {
   "cell_type": "code",
   "execution_count": 3,
   "metadata": {},
   "outputs": [
    {
     "data": {
      "text/html": [
       "<div>\n",
       "<style scoped>\n",
       "    .dataframe tbody tr th:only-of-type {\n",
       "        vertical-align: middle;\n",
       "    }\n",
       "\n",
       "    .dataframe tbody tr th {\n",
       "        vertical-align: top;\n",
       "    }\n",
       "\n",
       "    .dataframe thead th {\n",
       "        text-align: right;\n",
       "    }\n",
       "</style>\n",
       "<table border=\"1\" class=\"dataframe\">\n",
       "  <thead>\n",
       "    <tr style=\"text-align: right;\">\n",
       "      <th></th>\n",
       "      <th>id</th>\n",
       "      <th>title</th>\n",
       "      <th>url</th>\n",
       "      <th>num_points</th>\n",
       "      <th>num_comments</th>\n",
       "      <th>author</th>\n",
       "      <th>created_at</th>\n",
       "    </tr>\n",
       "  </thead>\n",
       "  <tbody>\n",
       "    <tr>\n",
       "      <th>0</th>\n",
       "      <td>12224879</td>\n",
       "      <td>Interactive Dynamic Video</td>\n",
       "      <td>http://www.interactivedynamicvideo.com/</td>\n",
       "      <td>386</td>\n",
       "      <td>52</td>\n",
       "      <td>ne0phyte</td>\n",
       "      <td>8/4/2016 11:52</td>\n",
       "    </tr>\n",
       "    <tr>\n",
       "      <th>1</th>\n",
       "      <td>10975351</td>\n",
       "      <td>How to Use Open Source and Shut the Fuck Up at...</td>\n",
       "      <td>http://hueniverse.com/2016/01/26/how-to-use-op...</td>\n",
       "      <td>39</td>\n",
       "      <td>10</td>\n",
       "      <td>josep2</td>\n",
       "      <td>1/26/2016 19:30</td>\n",
       "    </tr>\n",
       "    <tr>\n",
       "      <th>2</th>\n",
       "      <td>11964716</td>\n",
       "      <td>Florida DJs May Face Felony for April Fools' W...</td>\n",
       "      <td>http://www.thewire.com/entertainment/2013/04/f...</td>\n",
       "      <td>2</td>\n",
       "      <td>1</td>\n",
       "      <td>vezycash</td>\n",
       "      <td>6/23/2016 22:20</td>\n",
       "    </tr>\n",
       "    <tr>\n",
       "      <th>3</th>\n",
       "      <td>11919867</td>\n",
       "      <td>Technology ventures: From Idea to Enterprise</td>\n",
       "      <td>https://www.amazon.com/Technology-Ventures-Ent...</td>\n",
       "      <td>3</td>\n",
       "      <td>1</td>\n",
       "      <td>hswarna</td>\n",
       "      <td>6/17/2016 0:01</td>\n",
       "    </tr>\n",
       "    <tr>\n",
       "      <th>4</th>\n",
       "      <td>10301696</td>\n",
       "      <td>Note by Note: The Making of Steinway L1037 (2007)</td>\n",
       "      <td>http://www.nytimes.com/2007/11/07/movies/07ste...</td>\n",
       "      <td>8</td>\n",
       "      <td>2</td>\n",
       "      <td>walterbell</td>\n",
       "      <td>9/30/2015 4:12</td>\n",
       "    </tr>\n",
       "  </tbody>\n",
       "</table>\n",
       "</div>"
      ],
      "text/plain": [
       "         id                                              title  \\\n",
       "0  12224879                          Interactive Dynamic Video   \n",
       "1  10975351  How to Use Open Source and Shut the Fuck Up at...   \n",
       "2  11964716  Florida DJs May Face Felony for April Fools' W...   \n",
       "3  11919867       Technology ventures: From Idea to Enterprise   \n",
       "4  10301696  Note by Note: The Making of Steinway L1037 (2007)   \n",
       "\n",
       "                                                 url  num_points  \\\n",
       "0            http://www.interactivedynamicvideo.com/         386   \n",
       "1  http://hueniverse.com/2016/01/26/how-to-use-op...          39   \n",
       "2  http://www.thewire.com/entertainment/2013/04/f...           2   \n",
       "3  https://www.amazon.com/Technology-Ventures-Ent...           3   \n",
       "4  http://www.nytimes.com/2007/11/07/movies/07ste...           8   \n",
       "\n",
       "   num_comments      author       created_at  \n",
       "0            52    ne0phyte   8/4/2016 11:52  \n",
       "1            10      josep2  1/26/2016 19:30  \n",
       "2             1    vezycash  6/23/2016 22:20  \n",
       "3             1     hswarna   6/17/2016 0:01  \n",
       "4             2  walterbell   9/30/2015 4:12  "
      ]
     },
     "execution_count": 3,
     "metadata": {},
     "output_type": "execute_result"
    }
   ],
   "source": [
    "data=pd.DataFrame(data)\n",
    "data[:5]"
   ]
  },
  {
   "cell_type": "markdown",
   "metadata": {},
   "source": [
    "We're specifically interested in posts with titles that begin with either **Ask HN or Show HN**. Users submit Ask HN posts to ask the Hacker News community a specific question. \n",
    "Likewise, users submit Show HN posts to show the Hacker News community a project, product, or just something interesting."
   ]
  },
  {
   "cell_type": "markdown",
   "metadata": {},
   "source": [
    "Since we're only concerned with post titles beginning with Ask HN or Show HN, we'll create a new column, \"post_type\" that categorizes each data row into ask hn or show hn. "
   ]
  },
  {
   "cell_type": "code",
   "execution_count": 4,
   "metadata": {},
   "outputs": [],
   "source": [
    "import numpy as np\n",
    "conditions = [\n",
    "    (data['title'].str.startswith(\"Ask HN\")==True),\n",
    "    (data['title'].str.startswith(\"Show HN\")==True)\n",
    "    ]\n",
    "        \n",
    "values = [\"ask hn\",\"show hn\"]\n",
    "data['post_type'] = np.select(conditions, values)\n"
   ]
  },
  {
   "cell_type": "markdown",
   "metadata": {},
   "source": [
    "Now we will seperate ASK HN and SHOW HN posts."
   ]
  },
  {
   "cell_type": "code",
   "execution_count": 5,
   "metadata": {},
   "outputs": [
    {
     "data": {
      "text/html": [
       "<div>\n",
       "<style scoped>\n",
       "    .dataframe tbody tr th:only-of-type {\n",
       "        vertical-align: middle;\n",
       "    }\n",
       "\n",
       "    .dataframe tbody tr th {\n",
       "        vertical-align: top;\n",
       "    }\n",
       "\n",
       "    .dataframe thead th {\n",
       "        text-align: right;\n",
       "    }\n",
       "</style>\n",
       "<table border=\"1\" class=\"dataframe\">\n",
       "  <thead>\n",
       "    <tr style=\"text-align: right;\">\n",
       "      <th></th>\n",
       "      <th>id</th>\n",
       "      <th>title</th>\n",
       "      <th>url</th>\n",
       "      <th>num_points</th>\n",
       "      <th>num_comments</th>\n",
       "      <th>author</th>\n",
       "      <th>created_at</th>\n",
       "      <th>post_type</th>\n",
       "    </tr>\n",
       "  </thead>\n",
       "  <tbody>\n",
       "    <tr>\n",
       "      <th>7</th>\n",
       "      <td>12296411</td>\n",
       "      <td>Ask HN: How to improve my personal website?</td>\n",
       "      <td>NaN</td>\n",
       "      <td>2</td>\n",
       "      <td>6</td>\n",
       "      <td>ahmedbaracat</td>\n",
       "      <td>8/16/2016 9:55</td>\n",
       "      <td>ask hn</td>\n",
       "    </tr>\n",
       "    <tr>\n",
       "      <th>17</th>\n",
       "      <td>10610020</td>\n",
       "      <td>Ask HN: Am I the only one outraged by Twitter ...</td>\n",
       "      <td>NaN</td>\n",
       "      <td>28</td>\n",
       "      <td>29</td>\n",
       "      <td>tkfx</td>\n",
       "      <td>11/22/2015 13:43</td>\n",
       "      <td>ask hn</td>\n",
       "    </tr>\n",
       "    <tr>\n",
       "      <th>22</th>\n",
       "      <td>11610310</td>\n",
       "      <td>Ask HN: Aby recent changes to CSS that broke m...</td>\n",
       "      <td>NaN</td>\n",
       "      <td>1</td>\n",
       "      <td>1</td>\n",
       "      <td>polskibus</td>\n",
       "      <td>5/2/2016 10:14</td>\n",
       "      <td>ask hn</td>\n",
       "    </tr>\n",
       "    <tr>\n",
       "      <th>30</th>\n",
       "      <td>12210105</td>\n",
       "      <td>Ask HN: Looking for Employee #3 How do I do it?</td>\n",
       "      <td>NaN</td>\n",
       "      <td>1</td>\n",
       "      <td>3</td>\n",
       "      <td>sph130</td>\n",
       "      <td>8/2/2016 14:20</td>\n",
       "      <td>ask hn</td>\n",
       "    </tr>\n",
       "    <tr>\n",
       "      <th>31</th>\n",
       "      <td>10394168</td>\n",
       "      <td>Ask HN: Someone offered to buy my browser exte...</td>\n",
       "      <td>NaN</td>\n",
       "      <td>28</td>\n",
       "      <td>17</td>\n",
       "      <td>roykolak</td>\n",
       "      <td>10/15/2015 16:38</td>\n",
       "      <td>ask hn</td>\n",
       "    </tr>\n",
       "    <tr>\n",
       "      <th>...</th>\n",
       "      <td>...</td>\n",
       "      <td>...</td>\n",
       "      <td>...</td>\n",
       "      <td>...</td>\n",
       "      <td>...</td>\n",
       "      <td>...</td>\n",
       "      <td>...</td>\n",
       "      <td>...</td>\n",
       "    </tr>\n",
       "    <tr>\n",
       "      <th>20039</th>\n",
       "      <td>10994357</td>\n",
       "      <td>Ask HN: Is it feasible to port Apple's Swift t...</td>\n",
       "      <td>NaN</td>\n",
       "      <td>3</td>\n",
       "      <td>17</td>\n",
       "      <td>schappim</td>\n",
       "      <td>1/29/2016 9:42</td>\n",
       "      <td>ask hn</td>\n",
       "    </tr>\n",
       "    <tr>\n",
       "      <th>20042</th>\n",
       "      <td>12241954</td>\n",
       "      <td>Ask HN: What to do when a developer goes dark?</td>\n",
       "      <td>NaN</td>\n",
       "      <td>3</td>\n",
       "      <td>3</td>\n",
       "      <td>bittysdad</td>\n",
       "      <td>8/7/2016 12:58</td>\n",
       "      <td>ask hn</td>\n",
       "    </tr>\n",
       "    <tr>\n",
       "      <th>20045</th>\n",
       "      <td>12029526</td>\n",
       "      <td>Ask HN: Killer app for AR?</td>\n",
       "      <td>NaN</td>\n",
       "      <td>2</td>\n",
       "      <td>2</td>\n",
       "      <td>davidiach</td>\n",
       "      <td>7/4/2016 8:50</td>\n",
       "      <td>ask hn</td>\n",
       "    </tr>\n",
       "    <tr>\n",
       "      <th>20048</th>\n",
       "      <td>11227969</td>\n",
       "      <td>Ask HN: How do you balance a serious relations...</td>\n",
       "      <td>NaN</td>\n",
       "      <td>10</td>\n",
       "      <td>4</td>\n",
       "      <td>audace</td>\n",
       "      <td>3/5/2016 1:25</td>\n",
       "      <td>ask hn</td>\n",
       "    </tr>\n",
       "    <tr>\n",
       "      <th>20061</th>\n",
       "      <td>11743946</td>\n",
       "      <td>Ask HN: Why are papers still published as PDFs?</td>\n",
       "      <td>NaN</td>\n",
       "      <td>4</td>\n",
       "      <td>2</td>\n",
       "      <td>adius</td>\n",
       "      <td>5/21/2016 9:22</td>\n",
       "      <td>ask hn</td>\n",
       "    </tr>\n",
       "  </tbody>\n",
       "</table>\n",
       "<p>1742 rows × 8 columns</p>\n",
       "</div>"
      ],
      "text/plain": [
       "             id                                              title  url  \\\n",
       "7      12296411        Ask HN: How to improve my personal website?  NaN   \n",
       "17     10610020  Ask HN: Am I the only one outraged by Twitter ...  NaN   \n",
       "22     11610310  Ask HN: Aby recent changes to CSS that broke m...  NaN   \n",
       "30     12210105    Ask HN: Looking for Employee #3 How do I do it?  NaN   \n",
       "31     10394168  Ask HN: Someone offered to buy my browser exte...  NaN   \n",
       "...         ...                                                ...  ...   \n",
       "20039  10994357  Ask HN: Is it feasible to port Apple's Swift t...  NaN   \n",
       "20042  12241954     Ask HN: What to do when a developer goes dark?  NaN   \n",
       "20045  12029526                         Ask HN: Killer app for AR?  NaN   \n",
       "20048  11227969  Ask HN: How do you balance a serious relations...  NaN   \n",
       "20061  11743946    Ask HN: Why are papers still published as PDFs?  NaN   \n",
       "\n",
       "       num_points  num_comments        author        created_at post_type  \n",
       "7               2             6  ahmedbaracat    8/16/2016 9:55    ask hn  \n",
       "17             28            29          tkfx  11/22/2015 13:43    ask hn  \n",
       "22              1             1     polskibus    5/2/2016 10:14    ask hn  \n",
       "30              1             3        sph130    8/2/2016 14:20    ask hn  \n",
       "31             28            17      roykolak  10/15/2015 16:38    ask hn  \n",
       "...           ...           ...           ...               ...       ...  \n",
       "20039           3            17      schappim    1/29/2016 9:42    ask hn  \n",
       "20042           3             3     bittysdad    8/7/2016 12:58    ask hn  \n",
       "20045           2             2     davidiach     7/4/2016 8:50    ask hn  \n",
       "20048          10             4        audace     3/5/2016 1:25    ask hn  \n",
       "20061           4             2         adius    5/21/2016 9:22    ask hn  \n",
       "\n",
       "[1742 rows x 8 columns]"
      ]
     },
     "execution_count": 5,
     "metadata": {},
     "output_type": "execute_result"
    }
   ],
   "source": [
    "ask_hn=data[data[\"post_type\"]==\"ask hn\"]\n",
    "ask_hn"
   ]
  },
  {
   "cell_type": "code",
   "execution_count": 6,
   "metadata": {},
   "outputs": [
    {
     "data": {
      "text/html": [
       "<div>\n",
       "<style scoped>\n",
       "    .dataframe tbody tr th:only-of-type {\n",
       "        vertical-align: middle;\n",
       "    }\n",
       "\n",
       "    .dataframe tbody tr th {\n",
       "        vertical-align: top;\n",
       "    }\n",
       "\n",
       "    .dataframe thead th {\n",
       "        text-align: right;\n",
       "    }\n",
       "</style>\n",
       "<table border=\"1\" class=\"dataframe\">\n",
       "  <thead>\n",
       "    <tr style=\"text-align: right;\">\n",
       "      <th></th>\n",
       "      <th>id</th>\n",
       "      <th>title</th>\n",
       "      <th>url</th>\n",
       "      <th>num_points</th>\n",
       "      <th>num_comments</th>\n",
       "      <th>author</th>\n",
       "      <th>created_at</th>\n",
       "      <th>post_type</th>\n",
       "    </tr>\n",
       "  </thead>\n",
       "  <tbody>\n",
       "    <tr>\n",
       "      <th>13</th>\n",
       "      <td>10627194</td>\n",
       "      <td>Show HN: Wio Link  ESP8266 Based Web of Things...</td>\n",
       "      <td>https://iot.seeed.cc</td>\n",
       "      <td>26</td>\n",
       "      <td>22</td>\n",
       "      <td>kfihihc</td>\n",
       "      <td>11/25/2015 14:03</td>\n",
       "      <td>show hn</td>\n",
       "    </tr>\n",
       "    <tr>\n",
       "      <th>39</th>\n",
       "      <td>10646440</td>\n",
       "      <td>Show HN: Something pointless I made</td>\n",
       "      <td>http://dn.ht/picklecat/</td>\n",
       "      <td>747</td>\n",
       "      <td>102</td>\n",
       "      <td>dhotson</td>\n",
       "      <td>11/29/2015 22:46</td>\n",
       "      <td>show hn</td>\n",
       "    </tr>\n",
       "    <tr>\n",
       "      <th>46</th>\n",
       "      <td>11590768</td>\n",
       "      <td>Show HN: Shanhu.io, a programming playground p...</td>\n",
       "      <td>https://shanhu.io</td>\n",
       "      <td>1</td>\n",
       "      <td>1</td>\n",
       "      <td>h8liu</td>\n",
       "      <td>4/28/2016 18:05</td>\n",
       "      <td>show hn</td>\n",
       "    </tr>\n",
       "    <tr>\n",
       "      <th>84</th>\n",
       "      <td>12178806</td>\n",
       "      <td>Show HN: Webscope  Easy way for web developers...</td>\n",
       "      <td>http://webscopeapp.com</td>\n",
       "      <td>3</td>\n",
       "      <td>3</td>\n",
       "      <td>fastbrick</td>\n",
       "      <td>7/28/2016 7:11</td>\n",
       "      <td>show hn</td>\n",
       "    </tr>\n",
       "    <tr>\n",
       "      <th>97</th>\n",
       "      <td>10872799</td>\n",
       "      <td>Show HN: GeoScreenshot  Easily test Geo-IP bas...</td>\n",
       "      <td>https://www.geoscreenshot.com/</td>\n",
       "      <td>1</td>\n",
       "      <td>9</td>\n",
       "      <td>kpsychwave</td>\n",
       "      <td>1/9/2016 20:45</td>\n",
       "      <td>show hn</td>\n",
       "    </tr>\n",
       "    <tr>\n",
       "      <th>...</th>\n",
       "      <td>...</td>\n",
       "      <td>...</td>\n",
       "      <td>...</td>\n",
       "      <td>...</td>\n",
       "      <td>...</td>\n",
       "      <td>...</td>\n",
       "      <td>...</td>\n",
       "      <td>...</td>\n",
       "    </tr>\n",
       "    <tr>\n",
       "      <th>19993</th>\n",
       "      <td>11222099</td>\n",
       "      <td>Show HN: Geocoding API built with government o...</td>\n",
       "      <td>https://latlon.io</td>\n",
       "      <td>6</td>\n",
       "      <td>6</td>\n",
       "      <td>evanmarks</td>\n",
       "      <td>3/4/2016 4:50</td>\n",
       "      <td>show hn</td>\n",
       "    </tr>\n",
       "    <tr>\n",
       "      <th>19999</th>\n",
       "      <td>11735438</td>\n",
       "      <td>Show HN: Decorating: Animated pulsed for your ...</td>\n",
       "      <td>https://github.com/ryukinix/decorating</td>\n",
       "      <td>3</td>\n",
       "      <td>1</td>\n",
       "      <td>lerax</td>\n",
       "      <td>5/20/2016 3:48</td>\n",
       "      <td>show hn</td>\n",
       "    </tr>\n",
       "    <tr>\n",
       "      <th>20014</th>\n",
       "      <td>10200913</td>\n",
       "      <td>Show HN: Idea to startup</td>\n",
       "      <td>https://ideatostartup.org</td>\n",
       "      <td>14</td>\n",
       "      <td>17</td>\n",
       "      <td>nikhildaga</td>\n",
       "      <td>9/10/2015 22:17</td>\n",
       "      <td>show hn</td>\n",
       "    </tr>\n",
       "    <tr>\n",
       "      <th>20065</th>\n",
       "      <td>11444393</td>\n",
       "      <td>Show HN: PhantomJsCloud, Headless Browser SaaS</td>\n",
       "      <td>https://PhantomJsCloud.com</td>\n",
       "      <td>2</td>\n",
       "      <td>1</td>\n",
       "      <td>novaleaf</td>\n",
       "      <td>4/7/2016 3:04</td>\n",
       "      <td>show hn</td>\n",
       "    </tr>\n",
       "    <tr>\n",
       "      <th>20070</th>\n",
       "      <td>12149183</td>\n",
       "      <td>Show HN: Parse recipe ingredients using JavaSc...</td>\n",
       "      <td>https://github.com/herkyl/ingredients-parser</td>\n",
       "      <td>6</td>\n",
       "      <td>2</td>\n",
       "      <td>zongitsrinzler</td>\n",
       "      <td>7/23/2016 11:35</td>\n",
       "      <td>show hn</td>\n",
       "    </tr>\n",
       "  </tbody>\n",
       "</table>\n",
       "<p>1161 rows × 8 columns</p>\n",
       "</div>"
      ],
      "text/plain": [
       "             id                                              title  \\\n",
       "13     10627194  Show HN: Wio Link  ESP8266 Based Web of Things...   \n",
       "39     10646440                Show HN: Something pointless I made   \n",
       "46     11590768  Show HN: Shanhu.io, a programming playground p...   \n",
       "84     12178806  Show HN: Webscope  Easy way for web developers...   \n",
       "97     10872799  Show HN: GeoScreenshot  Easily test Geo-IP bas...   \n",
       "...         ...                                                ...   \n",
       "19993  11222099  Show HN: Geocoding API built with government o...   \n",
       "19999  11735438  Show HN: Decorating: Animated pulsed for your ...   \n",
       "20014  10200913                           Show HN: Idea to startup   \n",
       "20065  11444393     Show HN: PhantomJsCloud, Headless Browser SaaS   \n",
       "20070  12149183  Show HN: Parse recipe ingredients using JavaSc...   \n",
       "\n",
       "                                                url  num_points  num_comments  \\\n",
       "13                             https://iot.seeed.cc          26            22   \n",
       "39                          http://dn.ht/picklecat/         747           102   \n",
       "46                                https://shanhu.io           1             1   \n",
       "84                           http://webscopeapp.com           3             3   \n",
       "97                   https://www.geoscreenshot.com/           1             9   \n",
       "...                                             ...         ...           ...   \n",
       "19993                             https://latlon.io           6             6   \n",
       "19999        https://github.com/ryukinix/decorating           3             1   \n",
       "20014                     https://ideatostartup.org          14            17   \n",
       "20065                    https://PhantomJsCloud.com           2             1   \n",
       "20070  https://github.com/herkyl/ingredients-parser           6             2   \n",
       "\n",
       "               author        created_at post_type  \n",
       "13            kfihihc  11/25/2015 14:03   show hn  \n",
       "39            dhotson  11/29/2015 22:46   show hn  \n",
       "46              h8liu   4/28/2016 18:05   show hn  \n",
       "84          fastbrick    7/28/2016 7:11   show hn  \n",
       "97         kpsychwave    1/9/2016 20:45   show hn  \n",
       "...               ...               ...       ...  \n",
       "19993       evanmarks     3/4/2016 4:50   show hn  \n",
       "19999           lerax    5/20/2016 3:48   show hn  \n",
       "20014      nikhildaga   9/10/2015 22:17   show hn  \n",
       "20065        novaleaf     4/7/2016 3:04   show hn  \n",
       "20070  zongitsrinzler   7/23/2016 11:35   show hn  \n",
       "\n",
       "[1161 rows x 8 columns]"
      ]
     },
     "execution_count": 6,
     "metadata": {},
     "output_type": "execute_result"
    }
   ],
   "source": [
    "show_hn=data[data[\"post_type\"]==\"show hn\"]\n",
    "show_hn"
   ]
  },
  {
   "cell_type": "markdown",
   "metadata": {},
   "source": [
    "As we have seen, the questions posts are about 1742 and the posts about showing a project/product / anything else are about 1161.\n",
    "That means, more people used Hacker News for asking questions in the given time frame.\n",
    "\n",
    "Now, let us observe which type of posts attract more users i.e. which type of posts have more comments than others."
   ]
  },
  {
   "cell_type": "markdown",
   "metadata": {},
   "source": [
    "Now, we will analyse the number of comments for the questions type posts i.e. ASK HN. We will explore, at what times during the day, Hacker News received these posts more than other hours."
   ]
  },
  {
   "cell_type": "code",
   "execution_count": 7,
   "metadata": {},
   "outputs": [
    {
     "name": "stdout",
     "output_type": "stream",
     "text": [
      "Total number of comments for ASK HN: 24466\n"
     ]
    }
   ],
   "source": [
    "ask_comm=sum(ask_hn[\"num_comments\"])\n",
    "print(\"Total number of comments for ASK HN:\",ask_comm)"
   ]
  },
  {
   "cell_type": "code",
   "execution_count": 8,
   "metadata": {},
   "outputs": [
    {
     "name": "stdout",
     "output_type": "stream",
     "text": [
      "Total number of comments for SHOW HN: 11987\n"
     ]
    }
   ],
   "source": [
    "show_comm=sum(show_hn[\"num_comments\"])\n",
    "print(\"Total number of comments for SHOW HN:\",show_comm)"
   ]
  },
  {
   "cell_type": "markdown",
   "metadata": {},
   "source": [
    "Although, the total number of comments on ASK HN posts are much higher than that on SHOW HN posts, we can not use this metric to compare user engagement between the two, as the number of ASK HN posts are also larger, which may/ may not have resulted in more number of comments.\n",
    "\n",
    "We will now calculate **average number of comments** on both type of posts and compare user engagement using it."
   ]
  },
  {
   "cell_type": "code",
   "execution_count": 9,
   "metadata": {},
   "outputs": [
    {
     "name": "stdout",
     "output_type": "stream",
     "text": [
      "Average number of comments for a ASK HN post:\n",
      " 14.044776119402986\n"
     ]
    }
   ],
   "source": [
    "avg_ask_comments=ask_comm/len(ask_hn)\n",
    "print(\"Average number of comments for a ASK HN post:\\n\",avg_ask_comments)"
   ]
  },
  {
   "cell_type": "code",
   "execution_count": 10,
   "metadata": {},
   "outputs": [
    {
     "name": "stdout",
     "output_type": "stream",
     "text": [
      "Average number of comments for a SHOW HN post:\n",
      " 10.324720068906116\n"
     ]
    }
   ],
   "source": [
    "avg_show_comments=show_comm/len(show_hn)\n",
    "print(\"Average number of comments for a SHOW HN post:\\n\",avg_show_comments)"
   ]
  },
  {
   "cell_type": "markdown",
   "metadata": {},
   "source": [
    "On average, ask posts receive more comments than show posts. Since ask posts are more likely to receive comments, we'll focus our remaining analysis just on these posts."
   ]
  },
  {
   "cell_type": "markdown",
   "metadata": {},
   "source": [
    "Now, we will calculate the total number of comments made during per hour of the day, by first extracting hours from created_at column."
   ]
  },
  {
   "cell_type": "code",
   "execution_count": 11,
   "metadata": {},
   "outputs": [],
   "source": [
    "import datetime as dt\n",
    "result_list=ask_hn[[\"created_at\",\"num_comments\"]]\n",
    "result_list[\"hour\"]=pd.to_datetime(result_list['created_at'])\n",
    "result_list[\"hour\"]=result_list[\"hour\"].dt.hour"
   ]
  },
  {
   "cell_type": "markdown",
   "metadata": {},
   "source": [
    "Now we will apply groupby to calculate total number of comments and their sum as well, for each hour of the day."
   ]
  },
  {
   "cell_type": "code",
   "execution_count": 12,
   "metadata": {},
   "outputs": [
    {
     "name": "stdout",
     "output_type": "stream",
     "text": [
      "Number of comments per hour\n",
      " hour\n",
      "0      54\n",
      "1      60\n",
      "2      58\n",
      "3      54\n",
      "4      47\n",
      "5      46\n",
      "6      44\n",
      "7      34\n",
      "8      48\n",
      "9      45\n",
      "10     59\n",
      "11     58\n",
      "12     73\n",
      "13     85\n",
      "14    107\n",
      "15    116\n",
      "16    108\n",
      "17    100\n",
      "18    108\n",
      "19    110\n",
      "20     80\n",
      "21    109\n",
      "22     71\n",
      "23     68\n",
      "Name: num_comments, dtype: int64\n"
     ]
    }
   ],
   "source": [
    "b=result_list.groupby(\"hour\")[\"num_comments\"].count()\n",
    "print(\"Number of comments per hour\\n\",b)"
   ]
  },
  {
   "cell_type": "code",
   "execution_count": 13,
   "metadata": {},
   "outputs": [
    {
     "name": "stdout",
     "output_type": "stream",
     "text": [
      "Sum of comments per hour\n",
      " hour\n",
      "0      439\n",
      "1      683\n",
      "2     1381\n",
      "3      421\n",
      "4      337\n",
      "5      464\n",
      "6      397\n",
      "7      267\n",
      "8      492\n",
      "9      251\n",
      "10     793\n",
      "11     641\n",
      "12     687\n",
      "13    1253\n",
      "14    1416\n",
      "15    4477\n",
      "16    1814\n",
      "17    1146\n",
      "18    1430\n",
      "19    1188\n",
      "20    1722\n",
      "21    1745\n",
      "22     479\n",
      "23     543\n",
      "Name: sum_comments, dtype: int64\n"
     ]
    }
   ],
   "source": [
    "a=result_list.groupby(\"hour\")[\"num_comments\"].sum()\n",
    "a.name=\"sum_comments\"\n",
    "print(\"Sum of comments per hour\\n\",a)"
   ]
  },
  {
   "cell_type": "markdown",
   "metadata": {},
   "source": [
    "Now we combine the two series into one dataframe."
   ]
  },
  {
   "cell_type": "code",
   "execution_count": 14,
   "metadata": {},
   "outputs": [],
   "source": [
    "df = pd.concat([a, b], axis=1)"
   ]
  },
  {
   "cell_type": "code",
   "execution_count": 15,
   "metadata": {},
   "outputs": [
    {
     "data": {
      "text/html": [
       "<div>\n",
       "<style scoped>\n",
       "    .dataframe tbody tr th:only-of-type {\n",
       "        vertical-align: middle;\n",
       "    }\n",
       "\n",
       "    .dataframe tbody tr th {\n",
       "        vertical-align: top;\n",
       "    }\n",
       "\n",
       "    .dataframe thead th {\n",
       "        text-align: right;\n",
       "    }\n",
       "</style>\n",
       "<table border=\"1\" class=\"dataframe\">\n",
       "  <thead>\n",
       "    <tr style=\"text-align: right;\">\n",
       "      <th></th>\n",
       "      <th>sum_comments</th>\n",
       "      <th>num_comments</th>\n",
       "    </tr>\n",
       "    <tr>\n",
       "      <th>hour</th>\n",
       "      <th></th>\n",
       "      <th></th>\n",
       "    </tr>\n",
       "  </thead>\n",
       "  <tbody>\n",
       "    <tr>\n",
       "      <th>0</th>\n",
       "      <td>439</td>\n",
       "      <td>54</td>\n",
       "    </tr>\n",
       "    <tr>\n",
       "      <th>1</th>\n",
       "      <td>683</td>\n",
       "      <td>60</td>\n",
       "    </tr>\n",
       "    <tr>\n",
       "      <th>2</th>\n",
       "      <td>1381</td>\n",
       "      <td>58</td>\n",
       "    </tr>\n",
       "    <tr>\n",
       "      <th>3</th>\n",
       "      <td>421</td>\n",
       "      <td>54</td>\n",
       "    </tr>\n",
       "    <tr>\n",
       "      <th>4</th>\n",
       "      <td>337</td>\n",
       "      <td>47</td>\n",
       "    </tr>\n",
       "    <tr>\n",
       "      <th>5</th>\n",
       "      <td>464</td>\n",
       "      <td>46</td>\n",
       "    </tr>\n",
       "    <tr>\n",
       "      <th>6</th>\n",
       "      <td>397</td>\n",
       "      <td>44</td>\n",
       "    </tr>\n",
       "    <tr>\n",
       "      <th>7</th>\n",
       "      <td>267</td>\n",
       "      <td>34</td>\n",
       "    </tr>\n",
       "    <tr>\n",
       "      <th>8</th>\n",
       "      <td>492</td>\n",
       "      <td>48</td>\n",
       "    </tr>\n",
       "    <tr>\n",
       "      <th>9</th>\n",
       "      <td>251</td>\n",
       "      <td>45</td>\n",
       "    </tr>\n",
       "    <tr>\n",
       "      <th>10</th>\n",
       "      <td>793</td>\n",
       "      <td>59</td>\n",
       "    </tr>\n",
       "    <tr>\n",
       "      <th>11</th>\n",
       "      <td>641</td>\n",
       "      <td>58</td>\n",
       "    </tr>\n",
       "    <tr>\n",
       "      <th>12</th>\n",
       "      <td>687</td>\n",
       "      <td>73</td>\n",
       "    </tr>\n",
       "    <tr>\n",
       "      <th>13</th>\n",
       "      <td>1253</td>\n",
       "      <td>85</td>\n",
       "    </tr>\n",
       "    <tr>\n",
       "      <th>14</th>\n",
       "      <td>1416</td>\n",
       "      <td>107</td>\n",
       "    </tr>\n",
       "    <tr>\n",
       "      <th>15</th>\n",
       "      <td>4477</td>\n",
       "      <td>116</td>\n",
       "    </tr>\n",
       "    <tr>\n",
       "      <th>16</th>\n",
       "      <td>1814</td>\n",
       "      <td>108</td>\n",
       "    </tr>\n",
       "    <tr>\n",
       "      <th>17</th>\n",
       "      <td>1146</td>\n",
       "      <td>100</td>\n",
       "    </tr>\n",
       "    <tr>\n",
       "      <th>18</th>\n",
       "      <td>1430</td>\n",
       "      <td>108</td>\n",
       "    </tr>\n",
       "    <tr>\n",
       "      <th>19</th>\n",
       "      <td>1188</td>\n",
       "      <td>110</td>\n",
       "    </tr>\n",
       "    <tr>\n",
       "      <th>20</th>\n",
       "      <td>1722</td>\n",
       "      <td>80</td>\n",
       "    </tr>\n",
       "    <tr>\n",
       "      <th>21</th>\n",
       "      <td>1745</td>\n",
       "      <td>109</td>\n",
       "    </tr>\n",
       "    <tr>\n",
       "      <th>22</th>\n",
       "      <td>479</td>\n",
       "      <td>71</td>\n",
       "    </tr>\n",
       "    <tr>\n",
       "      <th>23</th>\n",
       "      <td>543</td>\n",
       "      <td>68</td>\n",
       "    </tr>\n",
       "  </tbody>\n",
       "</table>\n",
       "</div>"
      ],
      "text/plain": [
       "      sum_comments  num_comments\n",
       "hour                            \n",
       "0              439            54\n",
       "1              683            60\n",
       "2             1381            58\n",
       "3              421            54\n",
       "4              337            47\n",
       "5              464            46\n",
       "6              397            44\n",
       "7              267            34\n",
       "8              492            48\n",
       "9              251            45\n",
       "10             793            59\n",
       "11             641            58\n",
       "12             687            73\n",
       "13            1253            85\n",
       "14            1416           107\n",
       "15            4477           116\n",
       "16            1814           108\n",
       "17            1146           100\n",
       "18            1430           108\n",
       "19            1188           110\n",
       "20            1722            80\n",
       "21            1745           109\n",
       "22             479            71\n",
       "23             543            68"
      ]
     },
     "execution_count": 15,
     "metadata": {},
     "output_type": "execute_result"
    }
   ],
   "source": [
    "df"
   ]
  },
  {
   "cell_type": "markdown",
   "metadata": {},
   "source": [
    "Now, we calculate average number of comments per hour and sort the data in descending order by average comments per hour."
   ]
  },
  {
   "cell_type": "code",
   "execution_count": 16,
   "metadata": {},
   "outputs": [],
   "source": [
    "df[\"average_comm_by_hour\"]=df[\"sum_comments\"]/df[\"num_comments\"]"
   ]
  },
  {
   "cell_type": "code",
   "execution_count": 17,
   "metadata": {},
   "outputs": [
    {
     "data": {
      "text/plain": [
       "<matplotlib.axes._subplots.AxesSubplot at 0x7f91f6f95880>"
      ]
     },
     "execution_count": 17,
     "metadata": {},
     "output_type": "execute_result"
    },
    {
     "data": {
      "image/png": "[encoded data removed]",
      "text/plain": [
       "<Figure size 600x400 with 1 Axes>"
      ]
     },
     "metadata": {},
     "output_type": "display_data"
    }
   ],
   "source": [
    "%matplotlib inline\n",
    "a=df.sort_values(by=\"average_comm_by_hour\",ascending=False).head()\n",
    "a.plot.bar(y=\"average_comm_by_hour\",color=(0.2, 0.4, 0.6, 0.6),edgecolor=\"black\")"
   ]
  },
  {
   "cell_type": "markdown",
   "metadata": {},
   "source": [
    "The **Top 5** hours of the day, where average user engagement(comments) on ASK HN posts is highest are **15:00 EST, 2:00 EST, 20:00 EST, 16:00 EST and 21:00 EST**."
   ]
  },
  {
   "cell_type": "markdown",
   "metadata": {},
   "source": [
    "Another important parameter that shows user engagement is **num_points**. Although, the number of downvotes (which also depict engagement) has been removed from this number, this measure can be used to determine **positive user engagement** on the platform."
   ]
  },
  {
   "cell_type": "code",
   "execution_count": 18,
   "metadata": {},
   "outputs": [
    {
     "name": "stdout",
     "output_type": "stream",
     "text": [
      "Sum of points per hour\n",
      " hour\n",
      "0      449\n",
      "1      700\n",
      "2      793\n",
      "3      374\n",
      "4      389\n",
      "5      552\n",
      "6      591\n",
      "7      361\n",
      "8      515\n",
      "9      329\n",
      "10    1102\n",
      "11     825\n",
      "12     782\n",
      "13    2062\n",
      "14    1282\n",
      "15    3479\n",
      "16    2522\n",
      "17    1941\n",
      "18    1739\n",
      "19    1513\n",
      "20    1151\n",
      "21    1721\n",
      "22     511\n",
      "23     581\n",
      "Name: sum_points, dtype: int64\n"
     ]
    }
   ],
   "source": [
    "points_list=ask_hn[[\"created_at\",\"num_points\"]]\n",
    "points_list[\"hour\"]=pd.to_datetime(points_list['created_at'])\n",
    "points_list[\"hour\"]=points_list[\"hour\"].dt.hour\n",
    "a=points_list.groupby(\"hour\")[\"num_points\"].sum()\n",
    "a.name=\"sum_points\"\n",
    "print(\"Sum of points per hour\\n\",a)"
   ]
  },
  {
   "cell_type": "code",
   "execution_count": 19,
   "metadata": {},
   "outputs": [
    {
     "name": "stdout",
     "output_type": "stream",
     "text": [
      "Number of points per hour\n",
      " hour\n",
      "0      54\n",
      "1      60\n",
      "2      58\n",
      "3      54\n",
      "4      47\n",
      "5      46\n",
      "6      44\n",
      "7      34\n",
      "8      48\n",
      "9      45\n",
      "10     59\n",
      "11     58\n",
      "12     73\n",
      "13     85\n",
      "14    107\n",
      "15    116\n",
      "16    108\n",
      "17    100\n",
      "18    108\n",
      "19    110\n",
      "20     80\n",
      "21    109\n",
      "22     71\n",
      "23     68\n",
      "Name: num_points, dtype: int64\n"
     ]
    }
   ],
   "source": [
    "b=points_list.groupby(\"hour\")[\"num_points\"].count()\n",
    "b.name=\"num_points\"\n",
    "print(\"Number of points per hour\\n\",b)"
   ]
  },
  {
   "cell_type": "code",
   "execution_count": 20,
   "metadata": {},
   "outputs": [],
   "source": [
    "points=pd.concat([a,b],axis=1)\n",
    "points[\"average_points\"]=points[\"sum_points\"]/points[\"num_points\"]\n",
    "a=points.sort_values(by=\"average_points\",ascending=False).head()"
   ]
  },
  {
   "cell_type": "code",
   "execution_count": 21,
   "metadata": {},
   "outputs": [
    {
     "data": {
      "text/plain": [
       "<matplotlib.axes._subplots.AxesSubplot at 0x7f91f66489d0>"
      ]
     },
     "execution_count": 21,
     "metadata": {},
     "output_type": "execute_result"
    },
    {
     "data": {
      "image/png": "[encoded data removed]",
      "text/plain": [
       "<Figure size 600x400 with 1 Axes>"
      ]
     },
     "metadata": {},
     "output_type": "display_data"
    }
   ],
   "source": [
    "%matplotlib inline\n",
    "a.plot.bar(y=\"average_points\",color=\"yellow\",edgecolor=\"black\")"
   ]
  },
  {
   "cell_type": "markdown",
   "metadata": {},
   "source": [
    "The **Top 5** hours of the day, where average positive user engagement(points) on ASK HN posts is highest are **15:00 EST, 13:00 EST, 16:00 EST, 17:00 EST and 10:00 EST**."
   ]
  },
  {
   "cell_type": "markdown",
   "metadata": {},
   "source": [
    "## Conclusion"
   ]
  },
  {
   "cell_type": "markdown",
   "metadata": {},
   "source": [
    "In this project, we analyzed Hacker News data to determine which posts drive the most engagement from users.\n",
    "We focused majorly on the Ask HN categories as there were more number of Ask HN posts.\n",
    "Based on our analysis, we recommended that users create Ask posts around **15:00 EST**. This hour has not only a higher chance of attracting more comments but even more points that clearly signifies, how much more people liked the post than those who disliked it."
   ]
  }
 ],
 "metadata": {
  "kernelspec": {
   "display_name": "Python 3",
   "language": "python",
   "name": "python3"
  },
  "language_info": {
   "codemirror_mode": {
    "name": "ipython",
    "version": 3
   },
   "file_extension": ".py",
   "mimetype": "text/x-python",
   "name": "python",
   "nbconvert_exporter": "python",
   "pygments_lexer": "ipython3",
   "version": "3.8.2"
  }
 },
 "nbformat": 4,
 "nbformat_minor": 2
}
