{
 "cells": [
  {
   "cell_type": "markdown",
   "id": "356dea3b",
   "metadata": {},
   "source": [
    "# Telco Customer Churn Analysis using Logistic Regression"
   ]
  },
  {
   "cell_type": "markdown",
   "id": "7f1e1bd8",
   "metadata": {},
   "source": [
    "We will analyse the data and answer the following questions:\n",
    "1. Which categories had the most affect on the customer churn rate?\n",
    "2. Can we generate a predictive model to determine which customer has the potential to churn?\n"
   ]
  },
  {
   "cell_type": "markdown",
   "id": "59b6fde8",
   "metadata": {},
   "source": [
    "## Data Dictionary\n",
    "1. **customerID**: Customer ID\n",
    "2. **gender**: Whether the customer is a male or a female\n",
    "3. **SeniorCitizen**: Whether the customer is a senior citizen or not (1, 0)\n",
    "4. **Partner**: Whether the customer has a partner or not (Yes, No)\n",
    "5. **Dependents**: Whether the customer has dependents or not (Yes, No)\n",
    "6. **tenure**: Number of months the customer has stayed with the company\n",
    "7. **PhoneService**: Whether the customer has a phone service or not (Yes, No)\n",
    "8. **MultipleLines**: Whether the customer has multiple lines or not (Yes, No, No phone service)\n",
    "9. **InternetService**: Customer’s internet service provider (DSL, Fiber optic, No)\n",
    "10. **OnlineSecurity**: Whether the customer has online security or not (Yes, No, No internet service)\n",
    "11. **OnlineBackup**: Whether the customer has online backup or not (Yes, No, No internet service)\n",
    "12. **DeviceProtection**: Whether the customer has device protection or not (Yes, No, No internet service)\n",
    "13. **TechSupport**: Whether the customer has tech support or not (Yes, No, No internet service)\n",
    "14. **StreamingTV**: Whether the customer has streaming TV or not (Yes, No, No internet service)\n",
    "15. **StreamingMovies**: Whether the customer has streaming movies or not (Yes, No, No internet service)\n",
    "16. **Contract**: The contract term of the customer (Month-to-month, One year, Two year)\n",
    "17. **PaperlessBilling**: Whether the customer has paperless billing or not (Yes, No)\n",
    "18. **PaymentMethod**: The customer’s payment method (Electronic check, Mailed check, Bank transfer (automatic), Credit card (automatic))\n",
    "19. **MonthlyCharges**: The amount charged to the customer monthly\n",
    "20. **TotalCharges**: The total amount charged to the customer\n",
    "21. **Churn**: Whether the customer churned or not (Yes or No)"
   ]
  },
  {
   "cell_type": "code",
   "execution_count": 1,
   "id": "385bebf0",
   "metadata": {},
   "outputs": [],
   "source": [
    "#importing all the relevant libraries\n",
    "import pandas as pd\n",
    "import numpy as np\n",
    "import matplotlib.pyplot as plt\n",
    "import os\n",
    "import seaborn as sns"
   ]
  },
  {
   "cell_type": "markdown",
   "id": "349d5e05",
   "metadata": {},
   "source": [
    "We will start by loading the dataset."
   ]
  },
  {
   "cell_type": "markdown",
   "id": "6970e471",
   "metadata": {},
   "source": [
    "# Feature Engineering"
   ]
  },
  {
   "cell_type": "code",
   "execution_count": 2,
   "id": "76f18b5b",
   "metadata": {},
   "outputs": [
    {
     "data": {
      "text/html": [
       "<div>\n",
       "<style scoped>\n",
       "    .dataframe tbody tr th:only-of-type {\n",
       "        vertical-align: middle;\n",
       "    }\n",
       "\n",
       "    .dataframe tbody tr th {\n",
       "        vertical-align: top;\n",
       "    }\n",
       "\n",
       "    .dataframe thead th {\n",
       "        text-align: right;\n",
       "    }\n",
       "</style>\n",
       "<table border=\"1\" class=\"dataframe\">\n",
       "  <thead>\n",
       "    <tr style=\"text-align: right;\">\n",
       "      <th></th>\n",
       "      <th>customerID</th>\n",
       "      <th>gender</th>\n",
       "      <th>SeniorCitizen</th>\n",
       "      <th>Partner</th>\n",
       "      <th>Dependents</th>\n",
       "      <th>tenure</th>\n",
       "      <th>PhoneService</th>\n",
       "      <th>MultipleLines</th>\n",
       "      <th>InternetService</th>\n",
       "      <th>OnlineSecurity</th>\n",
       "      <th>...</th>\n",
       "      <th>DeviceProtection</th>\n",
       "      <th>TechSupport</th>\n",
       "      <th>StreamingTV</th>\n",
       "      <th>StreamingMovies</th>\n",
       "      <th>Contract</th>\n",
       "      <th>PaperlessBilling</th>\n",
       "      <th>PaymentMethod</th>\n",
       "      <th>MonthlyCharges</th>\n",
       "      <th>TotalCharges</th>\n",
       "      <th>Churn</th>\n",
       "    </tr>\n",
       "  </thead>\n",
       "  <tbody>\n",
       "    <tr>\n",
       "      <th>0</th>\n",
       "      <td>7590-VHVEG</td>\n",
       "      <td>Female</td>\n",
       "      <td>0</td>\n",
       "      <td>Yes</td>\n",
       "      <td>No</td>\n",
       "      <td>1</td>\n",
       "      <td>No</td>\n",
       "      <td>No phone service</td>\n",
       "      <td>DSL</td>\n",
       "      <td>No</td>\n",
       "      <td>...</td>\n",
       "      <td>No</td>\n",
       "      <td>No</td>\n",
       "      <td>No</td>\n",
       "      <td>No</td>\n",
       "      <td>Month-to-month</td>\n",
       "      <td>Yes</td>\n",
       "      <td>Electronic check</td>\n",
       "      <td>29.85</td>\n",
       "      <td>29.85</td>\n",
       "      <td>No</td>\n",
       "    </tr>\n",
       "    <tr>\n",
       "      <th>1</th>\n",
       "      <td>5575-GNVDE</td>\n",
       "      <td>Male</td>\n",
       "      <td>0</td>\n",
       "      <td>No</td>\n",
       "      <td>No</td>\n",
       "      <td>34</td>\n",
       "      <td>Yes</td>\n",
       "      <td>No</td>\n",
       "      <td>DSL</td>\n",
       "      <td>Yes</td>\n",
       "      <td>...</td>\n",
       "      <td>Yes</td>\n",
       "      <td>No</td>\n",
       "      <td>No</td>\n",
       "      <td>No</td>\n",
       "      <td>One year</td>\n",
       "      <td>No</td>\n",
       "      <td>Mailed check</td>\n",
       "      <td>56.95</td>\n",
       "      <td>1889.5</td>\n",
       "      <td>No</td>\n",
       "    </tr>\n",
       "    <tr>\n",
       "      <th>2</th>\n",
       "      <td>3668-QPYBK</td>\n",
       "      <td>Male</td>\n",
       "      <td>0</td>\n",
       "      <td>No</td>\n",
       "      <td>No</td>\n",
       "      <td>2</td>\n",
       "      <td>Yes</td>\n",
       "      <td>No</td>\n",
       "      <td>DSL</td>\n",
       "      <td>Yes</td>\n",
       "      <td>...</td>\n",
       "      <td>No</td>\n",
       "      <td>No</td>\n",
       "      <td>No</td>\n",
       "      <td>No</td>\n",
       "      <td>Month-to-month</td>\n",
       "      <td>Yes</td>\n",
       "      <td>Mailed check</td>\n",
       "      <td>53.85</td>\n",
       "      <td>108.15</td>\n",
       "      <td>Yes</td>\n",
       "    </tr>\n",
       "    <tr>\n",
       "      <th>3</th>\n",
       "      <td>7795-CFOCW</td>\n",
       "      <td>Male</td>\n",
       "      <td>0</td>\n",
       "      <td>No</td>\n",
       "      <td>No</td>\n",
       "      <td>45</td>\n",
       "      <td>No</td>\n",
       "      <td>No phone service</td>\n",
       "      <td>DSL</td>\n",
       "      <td>Yes</td>\n",
       "      <td>...</td>\n",
       "      <td>Yes</td>\n",
       "      <td>Yes</td>\n",
       "      <td>No</td>\n",
       "      <td>No</td>\n",
       "      <td>One year</td>\n",
       "      <td>No</td>\n",
       "      <td>Bank transfer (automatic)</td>\n",
       "      <td>42.30</td>\n",
       "      <td>1840.75</td>\n",
       "      <td>No</td>\n",
       "    </tr>\n",
       "    <tr>\n",
       "      <th>4</th>\n",
       "      <td>9237-HQITU</td>\n",
       "      <td>Female</td>\n",
       "      <td>0</td>\n",
       "      <td>No</td>\n",
       "      <td>No</td>\n",
       "      <td>2</td>\n",
       "      <td>Yes</td>\n",
       "      <td>No</td>\n",
       "      <td>Fiber optic</td>\n",
       "      <td>No</td>\n",
       "      <td>...</td>\n",
       "      <td>No</td>\n",
       "      <td>No</td>\n",
       "      <td>No</td>\n",
       "      <td>No</td>\n",
       "      <td>Month-to-month</td>\n",
       "      <td>Yes</td>\n",
       "      <td>Electronic check</td>\n",
       "      <td>70.70</td>\n",
       "      <td>151.65</td>\n",
       "      <td>Yes</td>\n",
       "    </tr>\n",
       "  </tbody>\n",
       "</table>\n",
       "<p>5 rows × 21 columns</p>\n",
       "</div>"
      ],
      "text/plain": [
       "   customerID  gender  SeniorCitizen Partner Dependents  tenure PhoneService  \\\n",
       "0  7590-VHVEG  Female              0     Yes         No       1           No   \n",
       "1  5575-GNVDE    Male              0      No         No      34          Yes   \n",
       "2  3668-QPYBK    Male              0      No         No       2          Yes   \n",
       "3  7795-CFOCW    Male              0      No         No      45           No   \n",
       "4  9237-HQITU  Female              0      No         No       2          Yes   \n",
       "\n",
       "      MultipleLines InternetService OnlineSecurity  ... DeviceProtection  \\\n",
       "0  No phone service             DSL             No  ...               No   \n",
       "1                No             DSL            Yes  ...              Yes   \n",
       "2                No             DSL            Yes  ...               No   \n",
       "3  No phone service             DSL            Yes  ...              Yes   \n",
       "4                No     Fiber optic             No  ...               No   \n",
       "\n",
       "  TechSupport StreamingTV StreamingMovies        Contract PaperlessBilling  \\\n",
       "0          No          No              No  Month-to-month              Yes   \n",
       "1          No          No              No        One year               No   \n",
       "2          No          No              No  Month-to-month              Yes   \n",
       "3         Yes          No              No        One year               No   \n",
       "4          No          No              No  Month-to-month              Yes   \n",
       "\n",
       "               PaymentMethod MonthlyCharges  TotalCharges Churn  \n",
       "0           Electronic check          29.85         29.85    No  \n",
       "1               Mailed check          56.95        1889.5    No  \n",
       "2               Mailed check          53.85        108.15   Yes  \n",
       "3  Bank transfer (automatic)          42.30       1840.75    No  \n",
       "4           Electronic check          70.70        151.65   Yes  \n",
       "\n",
       "[5 rows x 21 columns]"
      ]
     },
     "execution_count": 2,
     "metadata": {},
     "output_type": "execute_result"
    }
   ],
   "source": [
    "os.chdir(\"/Users/sarabjotsingh/Documents/Github/Projects/Logistic\")\n",
    "\n",
    "data=pd.read_csv(\"WA_Fn-UseC_-Telco-Customer-Churn 2.csv\")\n",
    "data.head()"
   ]
  },
  {
   "cell_type": "code",
   "execution_count": 3,
   "id": "cb1ecd0f",
   "metadata": {},
   "outputs": [
    {
     "data": {
      "text/plain": [
       "customerID           object\n",
       "gender               object\n",
       "SeniorCitizen         int64\n",
       "Partner              object\n",
       "Dependents           object\n",
       "tenure                int64\n",
       "PhoneService         object\n",
       "MultipleLines        object\n",
       "InternetService      object\n",
       "OnlineSecurity       object\n",
       "OnlineBackup         object\n",
       "DeviceProtection     object\n",
       "TechSupport          object\n",
       "StreamingTV          object\n",
       "StreamingMovies      object\n",
       "Contract             object\n",
       "PaperlessBilling     object\n",
       "PaymentMethod        object\n",
       "MonthlyCharges      float64\n",
       "TotalCharges         object\n",
       "Churn                object\n",
       "dtype: object"
      ]
     },
     "execution_count": 3,
     "metadata": {},
     "output_type": "execute_result"
    }
   ],
   "source": [
    "data.dtypes"
   ]
  },
  {
   "cell_type": "markdown",
   "id": "f8ea44ae",
   "metadata": {},
   "source": [
    "TotalCharges should be float rather than object. Let us change its datatype.\n",
    "But before that, let us explore the column more."
   ]
  },
  {
   "cell_type": "code",
   "execution_count": 4,
   "id": "bea6a072",
   "metadata": {},
   "outputs": [
    {
     "data": {
      "text/plain": [
       "0"
      ]
     },
     "execution_count": 4,
     "metadata": {},
     "output_type": "execute_result"
    }
   ],
   "source": [
    "data[\"TotalCharges\"].isnull().sum()"
   ]
  },
  {
   "cell_type": "markdown",
   "id": "e01718ee",
   "metadata": {},
   "source": [
    "At this point, we cannoy observe any missing value. Let us explore the frequencies of various charges in the column."
   ]
  },
  {
   "cell_type": "code",
   "execution_count": 5,
   "id": "bbb6e8c2",
   "metadata": {},
   "outputs": [
    {
     "data": {
      "text/plain": [
       "          11\n",
       "20.2      11\n",
       "19.75      9\n",
       "20.05      8\n",
       "19.9       8\n",
       "          ..\n",
       "6849.4     1\n",
       "692.35     1\n",
       "130.15     1\n",
       "3211.9     1\n",
       "6844.5     1\n",
       "Name: TotalCharges, Length: 6531, dtype: int64"
      ]
     },
     "execution_count": 5,
     "metadata": {},
     "output_type": "execute_result"
    }
   ],
   "source": [
    "data[\"TotalCharges\"].value_counts()"
   ]
  },
  {
   "cell_type": "markdown",
   "id": "06a19aad",
   "metadata": {},
   "source": [
    "The first category is blank. It is not coming up as a missing value because its actually a string \" \". \n",
    "Let us replace that with a numpy missing value i.e. np.nan ."
   ]
  },
  {
   "cell_type": "code",
   "execution_count": 6,
   "id": "f5e97545",
   "metadata": {},
   "outputs": [],
   "source": [
    "data[\"TotalCharges\"]=data[\"TotalCharges\"].replace(r'^\\s*$',np.nan,regex=True)"
   ]
  },
  {
   "cell_type": "code",
   "execution_count": 7,
   "id": "7fa2a623",
   "metadata": {},
   "outputs": [
    {
     "data": {
      "text/plain": [
       "0.001561834445548772"
      ]
     },
     "execution_count": 7,
     "metadata": {},
     "output_type": "execute_result"
    }
   ],
   "source": [
    "data[\"TotalCharges\"].isnull().mean()"
   ]
  },
  {
   "cell_type": "code",
   "execution_count": 8,
   "id": "52e9c99e",
   "metadata": {},
   "outputs": [],
   "source": [
    "data.dropna(inplace=True)"
   ]
  },
  {
   "cell_type": "markdown",
   "id": "6250f250",
   "metadata": {},
   "source": [
    "Thus the percentage of missing values in TotalCharges which were masked by emply space character is 0.15%\n",
    "Let us now change the data type of the TotalCharges column."
   ]
  },
  {
   "cell_type": "code",
   "execution_count": 9,
   "id": "ac897b64",
   "metadata": {},
   "outputs": [],
   "source": [
    "data[\"TotalCharges\"]=data[\"TotalCharges\"].astype(float)"
   ]
  },
  {
   "cell_type": "markdown",
   "id": "e829dc00",
   "metadata": {},
   "source": [
    "Also, SeniorCitizen has int as its type. Let us change it to object"
   ]
  },
  {
   "cell_type": "code",
   "execution_count": 10,
   "id": "5a38a647",
   "metadata": {},
   "outputs": [],
   "source": [
    "data[\"SeniorCitizen\"]=data[\"SeniorCitizen\"].astype(object)"
   ]
  },
  {
   "cell_type": "code",
   "execution_count": 11,
   "id": "9fb24e64",
   "metadata": {},
   "outputs": [
    {
     "name": "stdout",
     "output_type": "stream",
     "text": [
      "<class 'pandas.core.frame.DataFrame'>\n",
      "Int64Index: 7032 entries, 0 to 7042\n",
      "Data columns (total 21 columns):\n",
      " #   Column            Non-Null Count  Dtype  \n",
      "---  ------            --------------  -----  \n",
      " 0   customerID        7032 non-null   object \n",
      " 1   gender            7032 non-null   object \n",
      " 2   SeniorCitizen     7032 non-null   object \n",
      " 3   Partner           7032 non-null   object \n",
      " 4   Dependents        7032 non-null   object \n",
      " 5   tenure            7032 non-null   int64  \n",
      " 6   PhoneService      7032 non-null   object \n",
      " 7   MultipleLines     7032 non-null   object \n",
      " 8   InternetService   7032 non-null   object \n",
      " 9   OnlineSecurity    7032 non-null   object \n",
      " 10  OnlineBackup      7032 non-null   object \n",
      " 11  DeviceProtection  7032 non-null   object \n",
      " 12  TechSupport       7032 non-null   object \n",
      " 13  StreamingTV       7032 non-null   object \n",
      " 14  StreamingMovies   7032 non-null   object \n",
      " 15  Contract          7032 non-null   object \n",
      " 16  PaperlessBilling  7032 non-null   object \n",
      " 17  PaymentMethod     7032 non-null   object \n",
      " 18  MonthlyCharges    7032 non-null   float64\n",
      " 19  TotalCharges      7032 non-null   float64\n",
      " 20  Churn             7032 non-null   object \n",
      "dtypes: float64(2), int64(1), object(18)\n",
      "memory usage: 1.2+ MB\n"
     ]
    }
   ],
   "source": [
    "data.info()"
   ]
  },
  {
   "cell_type": "markdown",
   "id": "8dd0f216",
   "metadata": {},
   "source": [
    "The data does not have any missing values."
   ]
  },
  {
   "cell_type": "markdown",
   "id": "47947801",
   "metadata": {},
   "source": [
    "Let us look for outliers"
   ]
  },
  {
   "cell_type": "code",
   "execution_count": 12,
   "id": "7e896562",
   "metadata": {},
   "outputs": [
    {
     "data": {
      "text/plain": [
       "<AxesSubplot:>"
      ]
     },
     "execution_count": 12,
     "metadata": {},
     "output_type": "execute_result"
    },
    {
     "data": {
      "image/png": "[encoded data removed]",
      "text/plain": [
       "<Figure size 432x288 with 1 Axes>"
      ]
     },
     "metadata": {
      "needs_background": "light"
     },
     "output_type": "display_data"
    }
   ],
   "source": [
    "data.boxplot(\"TotalCharges\")"
   ]
  },
  {
   "cell_type": "code",
   "execution_count": 13,
   "id": "dd0c59ca",
   "metadata": {},
   "outputs": [
    {
     "data": {
      "text/plain": [
       "<AxesSubplot:>"
      ]
     },
     "execution_count": 13,
     "metadata": {},
     "output_type": "execute_result"
    },
    {
     "data": {
      "image/png": "[encoded data removed]",
      "text/plain": [
       "<Figure size 640x480 with 1 Axes>"
      ]
     },
     "metadata": {},
     "output_type": "display_data"
    }
   ],
   "source": [
    "data.boxplot(\"MonthlyCharges\")"
   ]
  },
  {
   "cell_type": "markdown",
   "id": "a8d70db8",
   "metadata": {},
   "source": [
    "No outliers"
   ]
  },
  {
   "cell_type": "markdown",
   "id": "893c3547",
   "metadata": {},
   "source": [
    "Let us have a look at the distribution of numerical variables"
   ]
  },
  {
   "cell_type": "code",
   "execution_count": 14,
   "id": "7e4c7bea",
   "metadata": {},
   "outputs": [
    {
     "data": {
      "text/plain": [
       "array([[<AxesSubplot:title={'center':'MonthlyCharges'}>]], dtype=object)"
      ]
     },
     "execution_count": 14,
     "metadata": {},
     "output_type": "execute_result"
    },
    {
     "data": {
      "image/png": "[encoded data removed]",
      "text/plain": [
       "<Figure size 640x480 with 1 Axes>"
      ]
     },
     "metadata": {},
     "output_type": "display_data"
    }
   ],
   "source": [
    "data.hist(\"MonthlyCharges\",bins=10)"
   ]
  },
  {
   "cell_type": "code",
   "execution_count": 15,
   "id": "9314c7bc",
   "metadata": {},
   "outputs": [
    {
     "data": {
      "text/plain": [
       "array([[<AxesSubplot:title={'center':'TotalCharges'}>]], dtype=object)"
      ]
     },
     "execution_count": 15,
     "metadata": {},
     "output_type": "execute_result"
    },
    {
     "data": {
      "image/png": "[encoded data removed]",
      "text/plain": [
       "<Figure size 640x480 with 1 Axes>"
      ]
     },
     "metadata": {},
     "output_type": "display_data"
    }
   ],
   "source": [
    "data.hist(\"TotalCharges\",bins=10)"
   ]
  },
  {
   "cell_type": "code",
   "execution_count": 16,
   "id": "f27119a2",
   "metadata": {},
   "outputs": [
    {
     "data": {
      "text/plain": [
       "array([[<AxesSubplot:title={'center':'tenure'}>]], dtype=object)"
      ]
     },
     "execution_count": 16,
     "metadata": {},
     "output_type": "execute_result"
    },
    {
     "data": {
      "image/png": "[encoded data removed]",
      "text/plain": [
       "<Figure size 640x480 with 1 Axes>"
      ]
     },
     "metadata": {},
     "output_type": "display_data"
    }
   ],
   "source": [
    "data.hist(\"tenure\",bins=10)"
   ]
  },
  {
   "cell_type": "markdown",
   "id": "3dda9472",
   "metadata": {},
   "source": [
    "The distributions of the numerical variables are highly skewed."
   ]
  },
  {
   "cell_type": "markdown",
   "id": "06b8db2a",
   "metadata": {},
   "source": [
    "## Feature Selection"
   ]
  },
  {
   "cell_type": "markdown",
   "id": "c24216a7",
   "metadata": {},
   "source": [
    "There are many categorical variables in our data. Let us visualize the effect of these categories on the churn rate."
   ]
  },
  {
   "cell_type": "code",
   "execution_count": 17,
   "id": "53c81b5f",
   "metadata": {},
   "outputs": [],
   "source": [
    "sns.set(style='darkgrid')\n",
    "from scipy.stats import chi2_contingency\n",
    "\n",
    "#creating a function to create a stacked barplot using cross tabulations.\n",
    "def count_barplot(category):\n",
    "    CrosstabResult=pd.crosstab(index=data[category],columns=data['Churn'],normalize=\"index\")\n",
    "    %matplotlib inline\n",
    "    CrosstabResult.plot.bar(stacked=True)\n",
    "    print(CrosstabResult)"
   ]
  },
  {
   "cell_type": "code",
   "execution_count": 18,
   "id": "4312bed8",
   "metadata": {},
   "outputs": [
    {
     "name": "stdout",
     "output_type": "stream",
     "text": [
      "Churn         No       Yes\n",
      "gender                    \n",
      "Female  0.730405  0.269595\n",
      "Male    0.737954  0.262046\n"
     ]
    },
    {
     "data": {
      "image/png": "[encoded data removed]",
      "text/plain": [
       "<Figure size 432x288 with 1 Axes>"
      ]
     },
     "metadata": {
      "needs_background": "light"
     },
     "output_type": "display_data"
    }
   ],
   "source": [
    "count_barplot(\"gender\")"
   ]
  },
  {
   "cell_type": "markdown",
   "id": "0f699ab0",
   "metadata": {},
   "source": [
    "The churn rate doesn't really change from male to female. So gender does not seem like a significant variable for our analysis."
   ]
  },
  {
   "cell_type": "code",
   "execution_count": 19,
   "id": "dc8a1d5c",
   "metadata": {},
   "outputs": [
    {
     "name": "stdout",
     "output_type": "stream",
     "text": [
      "Churn                No       Yes\n",
      "SeniorCitizen                    \n",
      "0              0.763497  0.236503\n",
      "1              0.583187  0.416813\n"
     ]
    },
    {
     "data": {
      "image/png": "[encoded data removed]",
      "text/plain": [
       "<Figure size 432x288 with 1 Axes>"
      ]
     },
     "metadata": {
      "needs_background": "light"
     },
     "output_type": "display_data"
    }
   ],
   "source": [
    "count_barplot(\"SeniorCitizen\")"
   ]
  },
  {
   "cell_type": "markdown",
   "id": "5c28a089",
   "metadata": {},
   "source": [
    "The churn rate is a bit high for senior citizens as compared to that of non senior citizens."
   ]
  },
  {
   "cell_type": "code",
   "execution_count": 20,
   "id": "405677b2",
   "metadata": {},
   "outputs": [
    {
     "name": "stdout",
     "output_type": "stream",
     "text": [
      "Churn          No       Yes\n",
      "Partner                    \n",
      "No       0.670239  0.329761\n",
      "Yes      0.802829  0.197171\n"
     ]
    },
    {
     "data": {
      "image/png": "[encoded data removed]",
      "text/plain": [
       "<Figure size 432x288 with 1 Axes>"
      ]
     },
     "metadata": {
      "needs_background": "light"
     },
     "output_type": "display_data"
    }
   ],
   "source": [
    "count_barplot(\"Partner\")"
   ]
  },
  {
   "cell_type": "markdown",
   "id": "2dd778a5",
   "metadata": {},
   "source": [
    "The churn rate is a bit high for people not having a partner."
   ]
  },
  {
   "cell_type": "code",
   "execution_count": 21,
   "id": "5f6da170",
   "metadata": {},
   "outputs": [
    {
     "name": "stdout",
     "output_type": "stream",
     "text": [
      "Churn             No       Yes\n",
      "Dependents                    \n",
      "No          0.687209  0.312791\n",
      "Yes         0.844688  0.155312\n"
     ]
    },
    {
     "data": {
      "image/png": "[encoded data removed]",
      "text/plain": [
       "<Figure size 432x288 with 1 Axes>"
      ]
     },
     "metadata": {
      "needs_background": "light"
     },
     "output_type": "display_data"
    }
   ],
   "source": [
    "count_barplot(\"Dependents\")"
   ]
  },
  {
   "cell_type": "markdown",
   "id": "d3fee841",
   "metadata": {},
   "source": [
    "The churn rate is high for people with no dependents."
   ]
  },
  {
   "cell_type": "code",
   "execution_count": 22,
   "id": "459295b7",
   "metadata": {},
   "outputs": [
    {
     "name": "stdout",
     "output_type": "stream",
     "text": [
      "Churn               No       Yes\n",
      "PhoneService                    \n",
      "No            0.750000  0.250000\n",
      "Yes           0.732525  0.267475\n"
     ]
    },
    {
     "data": {
      "image/png": "[encoded data removed]",
      "text/plain": [
       "<Figure size 432x288 with 1 Axes>"
      ]
     },
     "metadata": {
      "needs_background": "light"
     },
     "output_type": "display_data"
    }
   ],
   "source": [
    "count_barplot(\"PhoneService\")"
   ]
  },
  {
   "cell_type": "code",
   "execution_count": 23,
   "id": "a0821d2b",
   "metadata": {},
   "outputs": [
    {
     "name": "stdout",
     "output_type": "stream",
     "text": [
      "Churn                   No       Yes\n",
      "MultipleLines                       \n",
      "No                0.749188  0.250812\n",
      "No phone service  0.750000  0.250000\n",
      "Yes               0.713515  0.286485\n"
     ]
    },
    {
     "data": {
      "image/png": "[encoded data removed]",
      "text/plain": [
       "<Figure size 432x288 with 1 Axes>"
      ]
     },
     "metadata": {
      "needs_background": "light"
     },
     "output_type": "display_data"
    }
   ],
   "source": [
    "count_barplot(\"MultipleLines\")"
   ]
  },
  {
   "cell_type": "markdown",
   "id": "9572f978",
   "metadata": {},
   "source": [
    "The churn rate seems more or less similar, for customers having or not having multiple lines and no phone service."
   ]
  },
  {
   "cell_type": "code",
   "execution_count": 24,
   "id": "bfbc077b",
   "metadata": {},
   "outputs": [
    {
     "name": "stdout",
     "output_type": "stream",
     "text": [
      "Churn                  No       Yes\n",
      "InternetService                    \n",
      "DSL              0.810017  0.189983\n",
      "Fiber optic      0.581072  0.418928\n",
      "No               0.925658  0.074342\n"
     ]
    },
    {
     "data": {
      "image/png": "[encoded data removed]",
      "text/plain": [
       "<Figure size 432x288 with 1 Axes>"
      ]
     },
     "metadata": {
      "needs_background": "light"
     },
     "output_type": "display_data"
    }
   ],
   "source": [
    "count_barplot(\"InternetService\")"
   ]
  },
  {
   "cell_type": "markdown",
   "id": "692d70d0",
   "metadata": {},
   "source": [
    "The churn rate is high for customers using Fiber Optic, as compared to those using DSL or not having an internet service."
   ]
  },
  {
   "cell_type": "code",
   "execution_count": 25,
   "id": "5cf51c1f",
   "metadata": {},
   "outputs": [
    {
     "name": "stdout",
     "output_type": "stream",
     "text": [
      "Churn                      No       Yes\n",
      "OnlineSecurity                         \n",
      "No                   0.582213  0.417787\n",
      "No internet service  0.925658  0.074342\n",
      "Yes                  0.853598  0.146402\n"
     ]
    },
    {
     "data": {
      "image/png": "[encoded data removed]",
      "text/plain": [
       "<Figure size 432x288 with 1 Axes>"
      ]
     },
     "metadata": {
      "needs_background": "light"
     },
     "output_type": "display_data"
    }
   ],
   "source": [
    "count_barplot(\"OnlineSecurity\")"
   ]
  },
  {
   "cell_type": "markdown",
   "id": "ca7b8ee6",
   "metadata": {},
   "source": [
    "The churn rate is high for customers with no online security as compared to those opting for online security or even people with no internet service."
   ]
  },
  {
   "cell_type": "code",
   "execution_count": 26,
   "id": "a7c97436",
   "metadata": {},
   "outputs": [
    {
     "name": "stdout",
     "output_type": "stream",
     "text": [
      "Churn                      No       Yes\n",
      "OnlineBackup                           \n",
      "No                   0.600583  0.399417\n",
      "No internet service  0.925658  0.074342\n",
      "Yes                  0.784330  0.215670\n"
     ]
    },
    {
     "data": {
      "image/png": "[encoded data removed]",
      "text/plain": [
       "<Figure size 432x288 with 1 Axes>"
      ]
     },
     "metadata": {
      "needs_background": "light"
     },
     "output_type": "display_data"
    }
   ],
   "source": [
    "count_barplot(\"OnlineBackup\")"
   ]
  },
  {
   "cell_type": "markdown",
   "id": "de8fee90",
   "metadata": {},
   "source": [
    "The churn rate is high for customers with no online backup as compared to those opting for online backup or even people with no internet service."
   ]
  },
  {
   "cell_type": "code",
   "execution_count": 27,
   "id": "d025fe94",
   "metadata": {},
   "outputs": [
    {
     "name": "stdout",
     "output_type": "stream",
     "text": [
      "Churn                      No       Yes\n",
      "DeviceProtection                       \n",
      "No                   0.608597  0.391403\n",
      "No internet service  0.925658  0.074342\n",
      "Yes                  0.774607  0.225393\n"
     ]
    },
    {
     "data": {
      "image/png": "[encoded data removed]",
      "text/plain": [
       "<Figure size 432x288 with 1 Axes>"
      ]
     },
     "metadata": {
      "needs_background": "light"
     },
     "output_type": "display_data"
    }
   ],
   "source": [
    "count_barplot(\"DeviceProtection\")"
   ]
  },
  {
   "cell_type": "markdown",
   "id": "0789e6ad",
   "metadata": {},
   "source": [
    "The churn rate is high for customers with no device protection as compared to those opting for device protection or even people with no internet service."
   ]
  },
  {
   "cell_type": "code",
   "execution_count": 28,
   "id": "60408fa9",
   "metadata": {},
   "outputs": [
    {
     "name": "stdout",
     "output_type": "stream",
     "text": [
      "Churn                      No       Yes\n",
      "TechSupport                            \n",
      "No                   0.583525  0.416475\n",
      "No internet service  0.925658  0.074342\n",
      "Yes                  0.848039  0.151961\n"
     ]
    },
    {
     "data": {
      "image/png": "[encoded data removed]",
      "text/plain": [
       "<Figure size 432x288 with 1 Axes>"
      ]
     },
     "metadata": {
      "needs_background": "light"
     },
     "output_type": "display_data"
    }
   ],
   "source": [
    "count_barplot(\"TechSupport\")"
   ]
  },
  {
   "cell_type": "markdown",
   "id": "a38c738a",
   "metadata": {},
   "source": [
    "The churn rate is high for customers with no technical support as compared to those opting for technical support or even people with no internet service."
   ]
  },
  {
   "cell_type": "code",
   "execution_count": 29,
   "id": "0a05f7be",
   "metadata": {},
   "outputs": [
    {
     "name": "stdout",
     "output_type": "stream",
     "text": [
      "Churn                      No       Yes\n",
      "StreamingTV                            \n",
      "No                   0.664649  0.335351\n",
      "No internet service  0.925658  0.074342\n",
      "Yes                  0.698853  0.301147\n"
     ]
    },
    {
     "data": {
      "image/png": "[encoded data removed]",
      "text/plain": [
       "<Figure size 432x288 with 1 Axes>"
      ]
     },
     "metadata": {
      "needs_background": "light"
     },
     "output_type": "display_data"
    }
   ],
   "source": [
    "count_barplot(\"StreamingTV\")"
   ]
  },
  {
   "cell_type": "markdown",
   "id": "011a6bbc",
   "metadata": {},
   "source": [
    "The churn rate is quite low for customers who did not buy an internet service with us. However, people with no streaming tv service or with, have similar churn rates. "
   ]
  },
  {
   "cell_type": "code",
   "execution_count": 30,
   "id": "40e17022",
   "metadata": {},
   "outputs": [
    {
     "name": "stdout",
     "output_type": "stream",
     "text": [
      "Churn                      No       Yes\n",
      "StreamingMovies                        \n",
      "No                   0.662711  0.337289\n",
      "No internet service  0.925658  0.074342\n",
      "Yes                  0.700476  0.299524\n"
     ]
    },
    {
     "data": {
      "image/png": "[encoded data removed]",
      "text/plain": [
       "<Figure size 432x288 with 1 Axes>"
      ]
     },
     "metadata": {
      "needs_background": "light"
     },
     "output_type": "display_data"
    }
   ],
   "source": [
    "count_barplot(\"StreamingMovies\")"
   ]
  },
  {
   "cell_type": "markdown",
   "id": "9d4826d3",
   "metadata": {},
   "source": [
    "The churn rate is quite low for customers who did not buy an internet service with us. However, people with or without streaming movies service, have similar churn rates."
   ]
  },
  {
   "cell_type": "code",
   "execution_count": 31,
   "id": "ee8036a3",
   "metadata": {},
   "outputs": [
    {
     "name": "stdout",
     "output_type": "stream",
     "text": [
      "Churn                 No       Yes\n",
      "Contract                          \n",
      "Month-to-month  0.572903  0.427097\n",
      "One year        0.887228  0.112772\n",
      "Two year        0.971513  0.028487\n"
     ]
    },
    {
     "data": {
      "image/png": "[encoded data removed]",
      "text/plain": [
       "<Figure size 432x288 with 1 Axes>"
      ]
     },
     "metadata": {
      "needs_background": "light"
     },
     "output_type": "display_data"
    }
   ],
   "source": [
    "count_barplot(\"Contract\")"
   ]
  },
  {
   "cell_type": "markdown",
   "id": "a2e280ab",
   "metadata": {},
   "source": [
    "The churn rates are high for customers with month-to-month contract and decreases as the contract term increases. This was kind of expected as people with higher contract lengths don't have high flexibility of leaving the subscription as compared to those with month-to-month conracts."
   ]
  },
  {
   "cell_type": "code",
   "execution_count": 32,
   "id": "288a8638",
   "metadata": {},
   "outputs": [
    {
     "name": "stdout",
     "output_type": "stream",
     "text": [
      "Churn                   No       Yes\n",
      "PaperlessBilling                    \n",
      "No                0.836243  0.163757\n",
      "Yes               0.664107  0.335893\n"
     ]
    },
    {
     "data": {
      "image/png": "[encoded data removed]",
      "text/plain": [
       "<Figure size 432x288 with 1 Axes>"
      ]
     },
     "metadata": {
      "needs_background": "light"
     },
     "output_type": "display_data"
    }
   ],
   "source": [
    "count_barplot(\"PaperlessBilling\")\n"
   ]
  },
  {
   "cell_type": "markdown",
   "id": "51a4db79",
   "metadata": {},
   "source": [
    "Churn rate for customers using paperless billing is higher than that of customers not using paperless billing."
   ]
  },
  {
   "cell_type": "code",
   "execution_count": 33,
   "id": "b92de665",
   "metadata": {},
   "outputs": [
    {
     "name": "stdout",
     "output_type": "stream",
     "text": [
      "Churn                            No       Yes\n",
      "PaymentMethod                                \n",
      "Bank transfer (automatic)  0.832685  0.167315\n",
      "Credit card (automatic)    0.847469  0.152531\n",
      "Electronic check           0.547146  0.452854\n",
      "Mailed check               0.807980  0.192020\n"
     ]
    },
    {
     "data": {
      "image/png": "[encoded data removed]",
      "text/plain": [
       "<Figure size 432x288 with 1 Axes>"
      ]
     },
     "metadata": {
      "needs_background": "light"
     },
     "output_type": "display_data"
    }
   ],
   "source": [
    "count_barplot(\"PaymentMethod\")"
   ]
  },
  {
   "cell_type": "markdown",
   "id": "1918c9b3",
   "metadata": {},
   "source": [
    "Churn rate for customers using electronic check is higher than that of customers using other methods of payment."
   ]
  },
  {
   "cell_type": "markdown",
   "id": "8cb87de1",
   "metadata": {},
   "source": [
    "Although, the visualizations do give us some insights on the relationship between churn rates and different categories, it is important that we use something more robust for our feature selection.\n",
    "We will use the Chi-Square contingency test to determine, if the relationship between the category and churn rate is statistically significant or not.\n",
    "\n",
    "Null Hypotheses: Ho: There is no significant relationship between the category and churn rate\n",
    "\n",
    "Alternate Hypothesis: H1: There is a significant relationship between the category and churn rate\n",
    "\n",
    "Threshold of p-value-0.05"
   ]
  },
  {
   "cell_type": "code",
   "execution_count": 34,
   "id": "e54744d5",
   "metadata": {},
   "outputs": [],
   "source": [
    "# replacing no internet service and no phone service by no\n",
    "data[\"StreamingMovies\"]=np.where(data[\"StreamingMovies\"]==\"No internet service\",\"No\",data[\"StreamingMovies\"])\n",
    "data[\"StreamingTV\"]=np.where(data[\"StreamingTV\"]==\"No internet service\",\"No\",data[\"StreamingTV\"])\n",
    "data[\"TechSupport\"]=np.where(data[\"TechSupport\"]==\"No internet service\",\"No\",data[\"TechSupport\"])\n",
    "data[\"DeviceProtection\"]=np.where(data[\"DeviceProtection\"]==\"No internet service\",\"No\",data[\"DeviceProtection\"])\n",
    "data[\"OnlineBackup\"]=np.where(data[\"OnlineBackup\"]==\"No internet service\",\"No\",data[\"OnlineBackup\"])\n",
    "data[\"OnlineSecurity\"]=np.where(data[\"OnlineSecurity\"]==\"No internet service\",\"No\",data[\"OnlineSecurity\"])\n",
    "data[\"MultipleLines\"]=np.where(data[\"MultipleLines\"]==\"No phone service\",\"No\",data[\"MultipleLines\"])"
   ]
  },
  {
   "cell_type": "code",
   "execution_count": 35,
   "id": "c0cd0468",
   "metadata": {},
   "outputs": [
    {
     "data": {
      "text/html": [
       "<div>\n",
       "<style scoped>\n",
       "    .dataframe tbody tr th:only-of-type {\n",
       "        vertical-align: middle;\n",
       "    }\n",
       "\n",
       "    .dataframe tbody tr th {\n",
       "        vertical-align: top;\n",
       "    }\n",
       "\n",
       "    .dataframe thead th {\n",
       "        text-align: right;\n",
       "    }\n",
       "</style>\n",
       "<table border=\"1\" class=\"dataframe\">\n",
       "  <thead>\n",
       "    <tr style=\"text-align: right;\">\n",
       "      <th></th>\n",
       "      <th>Categorical Variable</th>\n",
       "      <th>Relationship</th>\n",
       "      <th>p_value</th>\n",
       "    </tr>\n",
       "  </thead>\n",
       "  <tbody>\n",
       "    <tr>\n",
       "      <th>0</th>\n",
       "      <td>gender</td>\n",
       "      <td>No Significant relationship</td>\n",
       "      <td>0.490488</td>\n",
       "    </tr>\n",
       "    <tr>\n",
       "      <th>1</th>\n",
       "      <td>SeniorCitizen</td>\n",
       "      <td>Significant relationship</td>\n",
       "      <td>0.0</td>\n",
       "    </tr>\n",
       "    <tr>\n",
       "      <th>2</th>\n",
       "      <td>Partner</td>\n",
       "      <td>Significant relationship</td>\n",
       "      <td>0.0</td>\n",
       "    </tr>\n",
       "    <tr>\n",
       "      <th>3</th>\n",
       "      <td>Dependents</td>\n",
       "      <td>Significant relationship</td>\n",
       "      <td>0.0</td>\n",
       "    </tr>\n",
       "    <tr>\n",
       "      <th>4</th>\n",
       "      <td>PhoneService</td>\n",
       "      <td>No Significant relationship</td>\n",
       "      <td>0.349924</td>\n",
       "    </tr>\n",
       "    <tr>\n",
       "      <th>5</th>\n",
       "      <td>MultipleLines</td>\n",
       "      <td>Significant relationship</td>\n",
       "      <td>0.000869</td>\n",
       "    </tr>\n",
       "    <tr>\n",
       "      <th>6</th>\n",
       "      <td>InternetService</td>\n",
       "      <td>Significant relationship</td>\n",
       "      <td>0.0</td>\n",
       "    </tr>\n",
       "    <tr>\n",
       "      <th>7</th>\n",
       "      <td>OnlineSecurity</td>\n",
       "      <td>Significant relationship</td>\n",
       "      <td>0.0</td>\n",
       "    </tr>\n",
       "    <tr>\n",
       "      <th>8</th>\n",
       "      <td>OnlineBackup</td>\n",
       "      <td>Significant relationship</td>\n",
       "      <td>0.0</td>\n",
       "    </tr>\n",
       "    <tr>\n",
       "      <th>9</th>\n",
       "      <td>DeviceProtection</td>\n",
       "      <td>Significant relationship</td>\n",
       "      <td>0.0</td>\n",
       "    </tr>\n",
       "    <tr>\n",
       "      <th>10</th>\n",
       "      <td>TechSupport</td>\n",
       "      <td>Significant relationship</td>\n",
       "      <td>0.0</td>\n",
       "    </tr>\n",
       "    <tr>\n",
       "      <th>11</th>\n",
       "      <td>StreamingTV</td>\n",
       "      <td>Significant relationship</td>\n",
       "      <td>0.0</td>\n",
       "    </tr>\n",
       "    <tr>\n",
       "      <th>12</th>\n",
       "      <td>StreamingMovies</td>\n",
       "      <td>Significant relationship</td>\n",
       "      <td>0.0</td>\n",
       "    </tr>\n",
       "    <tr>\n",
       "      <th>13</th>\n",
       "      <td>Contract</td>\n",
       "      <td>Significant relationship</td>\n",
       "      <td>0.0</td>\n",
       "    </tr>\n",
       "    <tr>\n",
       "      <th>14</th>\n",
       "      <td>PaperlessBilling</td>\n",
       "      <td>Significant relationship</td>\n",
       "      <td>0.0</td>\n",
       "    </tr>\n",
       "    <tr>\n",
       "      <th>15</th>\n",
       "      <td>PaymentMethod</td>\n",
       "      <td>Significant relationship</td>\n",
       "      <td>0.0</td>\n",
       "    </tr>\n",
       "  </tbody>\n",
       "</table>\n",
       "</div>"
      ],
      "text/plain": [
       "   Categorical Variable                 Relationship   p_value\n",
       "0                gender  No Significant relationship  0.490488\n",
       "1         SeniorCitizen     Significant relationship       0.0\n",
       "2               Partner     Significant relationship       0.0\n",
       "3            Dependents     Significant relationship       0.0\n",
       "4          PhoneService  No Significant relationship  0.349924\n",
       "5         MultipleLines     Significant relationship  0.000869\n",
       "6       InternetService     Significant relationship       0.0\n",
       "7        OnlineSecurity     Significant relationship       0.0\n",
       "8          OnlineBackup     Significant relationship       0.0\n",
       "9      DeviceProtection     Significant relationship       0.0\n",
       "10          TechSupport     Significant relationship       0.0\n",
       "11          StreamingTV     Significant relationship       0.0\n",
       "12      StreamingMovies     Significant relationship       0.0\n",
       "13             Contract     Significant relationship       0.0\n",
       "14     PaperlessBilling     Significant relationship       0.0\n",
       "15        PaymentMethod     Significant relationship       0.0"
      ]
     },
     "execution_count": 35,
     "metadata": {},
     "output_type": "execute_result"
    }
   ],
   "source": [
    "# creating a function to check whethere the given category \n",
    "# has a significant relationship with our target variable: Churn\n",
    "\n",
    "rel_check=[]\n",
    "p_value=[]\n",
    "def rel_chi(category):\n",
    "    CrosstabResult=pd.crosstab(data['Churn'],data[category])\n",
    "    chi_res = chi2_contingency(pd.crosstab(data['Churn'], data[category]))\n",
    "    p_value.append(chi_res[1])\n",
    "    if chi_res[1]<0.05:\n",
    "        rel_check.append(\"Significant relationship\")\n",
    "    else:\n",
    "        rel_check.append(\"No Significant relationship\")\n",
    "    \n",
    "\n",
    "categories=['gender', 'SeniorCitizen', 'Partner', 'Dependents', 'PhoneService', 'MultipleLines',\n",
    "            'InternetService', 'OnlineSecurity', 'OnlineBackup', 'DeviceProtection', 'TechSupport','StreamingTV', \n",
    "            'StreamingMovies', 'Contract','PaperlessBilling','PaymentMethod']\n",
    "\n",
    "#determining significance of relationships using rel_check\n",
    "\n",
    "for cat in categories:\n",
    "            rel_chi(cat)\n",
    "check=pd.DataFrame(data=[categories,rel_check,p_value]).T\n",
    "check.columns=[\"Categorical Variable\",\"Relationship\",\"p_value\"]\n",
    "check"
   ]
  },
  {
   "cell_type": "markdown",
   "id": "59d56502",
   "metadata": {},
   "source": [
    "Because the relationships between Gender and Churn and Phone Service and Churn are not statistically significant, including GENDER and PHONE SERVICE in our model, would not be beneficial. So let us delete these columns."
   ]
  },
  {
   "cell_type": "code",
   "execution_count": 36,
   "id": "cc70c84e",
   "metadata": {},
   "outputs": [
    {
     "data": {
      "text/html": [
       "<div>\n",
       "<style scoped>\n",
       "    .dataframe tbody tr th:only-of-type {\n",
       "        vertical-align: middle;\n",
       "    }\n",
       "\n",
       "    .dataframe tbody tr th {\n",
       "        vertical-align: top;\n",
       "    }\n",
       "\n",
       "    .dataframe thead th {\n",
       "        text-align: right;\n",
       "    }\n",
       "</style>\n",
       "<table border=\"1\" class=\"dataframe\">\n",
       "  <thead>\n",
       "    <tr style=\"text-align: right;\">\n",
       "      <th></th>\n",
       "      <th>customerID</th>\n",
       "      <th>SeniorCitizen</th>\n",
       "      <th>Partner</th>\n",
       "      <th>Dependents</th>\n",
       "      <th>tenure</th>\n",
       "      <th>MultipleLines</th>\n",
       "      <th>InternetService</th>\n",
       "      <th>OnlineSecurity</th>\n",
       "      <th>OnlineBackup</th>\n",
       "      <th>DeviceProtection</th>\n",
       "      <th>TechSupport</th>\n",
       "      <th>StreamingTV</th>\n",
       "      <th>StreamingMovies</th>\n",
       "      <th>Contract</th>\n",
       "      <th>PaperlessBilling</th>\n",
       "      <th>PaymentMethod</th>\n",
       "      <th>MonthlyCharges</th>\n",
       "      <th>TotalCharges</th>\n",
       "      <th>Churn</th>\n",
       "    </tr>\n",
       "  </thead>\n",
       "  <tbody>\n",
       "    <tr>\n",
       "      <th>0</th>\n",
       "      <td>7590-VHVEG</td>\n",
       "      <td>0</td>\n",
       "      <td>Yes</td>\n",
       "      <td>No</td>\n",
       "      <td>1</td>\n",
       "      <td>No</td>\n",
       "      <td>DSL</td>\n",
       "      <td>No</td>\n",
       "      <td>Yes</td>\n",
       "      <td>No</td>\n",
       "      <td>No</td>\n",
       "      <td>No</td>\n",
       "      <td>No</td>\n",
       "      <td>Month-to-month</td>\n",
       "      <td>Yes</td>\n",
       "      <td>Electronic check</td>\n",
       "      <td>29.85</td>\n",
       "      <td>29.85</td>\n",
       "      <td>No</td>\n",
       "    </tr>\n",
       "    <tr>\n",
       "      <th>1</th>\n",
       "      <td>5575-GNVDE</td>\n",
       "      <td>0</td>\n",
       "      <td>No</td>\n",
       "      <td>No</td>\n",
       "      <td>34</td>\n",
       "      <td>No</td>\n",
       "      <td>DSL</td>\n",
       "      <td>Yes</td>\n",
       "      <td>No</td>\n",
       "      <td>Yes</td>\n",
       "      <td>No</td>\n",
       "      <td>No</td>\n",
       "      <td>No</td>\n",
       "      <td>One year</td>\n",
       "      <td>No</td>\n",
       "      <td>Mailed check</td>\n",
       "      <td>56.95</td>\n",
       "      <td>1889.50</td>\n",
       "      <td>No</td>\n",
       "    </tr>\n",
       "    <tr>\n",
       "      <th>2</th>\n",
       "      <td>3668-QPYBK</td>\n",
       "      <td>0</td>\n",
       "      <td>No</td>\n",
       "      <td>No</td>\n",
       "      <td>2</td>\n",
       "      <td>No</td>\n",
       "      <td>DSL</td>\n",
       "      <td>Yes</td>\n",
       "      <td>Yes</td>\n",
       "      <td>No</td>\n",
       "      <td>No</td>\n",
       "      <td>No</td>\n",
       "      <td>No</td>\n",
       "      <td>Month-to-month</td>\n",
       "      <td>Yes</td>\n",
       "      <td>Mailed check</td>\n",
       "      <td>53.85</td>\n",
       "      <td>108.15</td>\n",
       "      <td>Yes</td>\n",
       "    </tr>\n",
       "    <tr>\n",
       "      <th>3</th>\n",
       "      <td>7795-CFOCW</td>\n",
       "      <td>0</td>\n",
       "      <td>No</td>\n",
       "      <td>No</td>\n",
       "      <td>45</td>\n",
       "      <td>No</td>\n",
       "      <td>DSL</td>\n",
       "      <td>Yes</td>\n",
       "      <td>No</td>\n",
       "      <td>Yes</td>\n",
       "      <td>Yes</td>\n",
       "      <td>No</td>\n",
       "      <td>No</td>\n",
       "      <td>One year</td>\n",
       "      <td>No</td>\n",
       "      <td>Bank transfer (automatic)</td>\n",
       "      <td>42.30</td>\n",
       "      <td>1840.75</td>\n",
       "      <td>No</td>\n",
       "    </tr>\n",
       "    <tr>\n",
       "      <th>4</th>\n",
       "      <td>9237-HQITU</td>\n",
       "      <td>0</td>\n",
       "      <td>No</td>\n",
       "      <td>No</td>\n",
       "      <td>2</td>\n",
       "      <td>No</td>\n",
       "      <td>Fiber optic</td>\n",
       "      <td>No</td>\n",
       "      <td>No</td>\n",
       "      <td>No</td>\n",
       "      <td>No</td>\n",
       "      <td>No</td>\n",
       "      <td>No</td>\n",
       "      <td>Month-to-month</td>\n",
       "      <td>Yes</td>\n",
       "      <td>Electronic check</td>\n",
       "      <td>70.70</td>\n",
       "      <td>151.65</td>\n",
       "      <td>Yes</td>\n",
       "    </tr>\n",
       "  </tbody>\n",
       "</table>\n",
       "</div>"
      ],
      "text/plain": [
       "   customerID SeniorCitizen Partner Dependents  tenure MultipleLines  \\\n",
       "0  7590-VHVEG             0     Yes         No       1            No   \n",
       "1  5575-GNVDE             0      No         No      34            No   \n",
       "2  3668-QPYBK             0      No         No       2            No   \n",
       "3  7795-CFOCW             0      No         No      45            No   \n",
       "4  9237-HQITU             0      No         No       2            No   \n",
       "\n",
       "  InternetService OnlineSecurity OnlineBackup DeviceProtection TechSupport  \\\n",
       "0             DSL             No          Yes               No          No   \n",
       "1             DSL            Yes           No              Yes          No   \n",
       "2             DSL            Yes          Yes               No          No   \n",
       "3             DSL            Yes           No              Yes         Yes   \n",
       "4     Fiber optic             No           No               No          No   \n",
       "\n",
       "  StreamingTV StreamingMovies        Contract PaperlessBilling  \\\n",
       "0          No              No  Month-to-month              Yes   \n",
       "1          No              No        One year               No   \n",
       "2          No              No  Month-to-month              Yes   \n",
       "3          No              No        One year               No   \n",
       "4          No              No  Month-to-month              Yes   \n",
       "\n",
       "               PaymentMethod  MonthlyCharges  TotalCharges Churn  \n",
       "0           Electronic check           29.85         29.85    No  \n",
       "1               Mailed check           56.95       1889.50    No  \n",
       "2               Mailed check           53.85        108.15   Yes  \n",
       "3  Bank transfer (automatic)           42.30       1840.75    No  \n",
       "4           Electronic check           70.70        151.65   Yes  "
      ]
     },
     "execution_count": 36,
     "metadata": {},
     "output_type": "execute_result"
    }
   ],
   "source": [
    "data=data.drop([\"gender\",\"PhoneService\"],axis=1)\n",
    "categories.remove(\"gender\")\n",
    "categories.remove(\"PhoneService\")\n",
    "data.head()"
   ]
  },
  {
   "cell_type": "markdown",
   "id": "69129a6f",
   "metadata": {},
   "source": [
    "CustomerID should also be removed as it is just an unique identifier of a customer. It doesn't give any information on customer behaviour."
   ]
  },
  {
   "cell_type": "code",
   "execution_count": 37,
   "id": "2e88425a",
   "metadata": {},
   "outputs": [],
   "source": [
    "data.drop([\"customerID\"],axis=1,inplace=True)"
   ]
  },
  {
   "cell_type": "markdown",
   "id": "d6c5c1aa",
   "metadata": {},
   "source": [
    "The Chi-Square tests helped us determine which categorical variables to remove. With the help of concept of collinearity, we will see which variables are highly correlated and remove the variable which is highly correlated with the most. This will ensure that multicollinearity is minimum in our model."
   ]
  },
  {
   "cell_type": "code",
   "execution_count": 38,
   "id": "3460909c",
   "metadata": {},
   "outputs": [
    {
     "data": {
      "image/png": "[encoded data removed]",
      "text/plain": [
       "<Figure size 432x288 with 2 Axes>"
      ]
     },
     "metadata": {},
     "output_type": "display_data"
    }
   ],
   "source": [
    "sns.set_style(\"white\")\n",
    "sns.heatmap(data.corr(),cmap=\"BuPu\",annot=True)\n",
    "data.drop([\"TotalCharges\"],axis=1,inplace=True)"
   ]
  },
  {
   "cell_type": "markdown",
   "id": "d5a03462",
   "metadata": {},
   "source": [
    "TotalCharges has a really high correlation with Tenure as well as Monthly Charges. So, we will delete this column."
   ]
  },
  {
   "cell_type": "markdown",
   "id": "19aaeb44",
   "metadata": {},
   "source": [
    "Now its time for, splitting the data into test and train data."
   ]
  },
  {
   "cell_type": "markdown",
   "id": "777c319d",
   "metadata": {},
   "source": [
    "## Splitting the data into train and test data."
   ]
  },
  {
   "cell_type": "code",
   "execution_count": 39,
   "id": "2bd1a93f",
   "metadata": {},
   "outputs": [],
   "source": [
    "from sklearn.model_selection import train_test_split\n",
    "y=data[\"Churn\"]\n",
    "X=data.drop([\"Churn\"],axis=1)\n",
    "x_train,x_test,y_train,y_test=train_test_split(X,y,test_size=0.25,random_state=0)"
   ]
  },
  {
   "cell_type": "markdown",
   "id": "f9efa06c",
   "metadata": {},
   "source": [
    "25% of the data is now the test data and the rest 75% is now the training data."
   ]
  },
  {
   "cell_type": "markdown",
   "id": "98b086be",
   "metadata": {},
   "source": [
    "## Encoding of categorical variables"
   ]
  },
  {
   "cell_type": "code",
   "execution_count": 40,
   "id": "4c07a317",
   "metadata": {},
   "outputs": [],
   "source": [
    "\n",
    "\n",
    "# label encoding (binary variables) in data\n",
    "label_encoding_columns = ['Partner', 'Dependents', 'PaperlessBilling']\n",
    "\n",
    "# ohe (binary variables) in data\n",
    "one_hot_encoding_columns = ['MultipleLines','InternetService', 'OnlineSecurity', 'OnlineBackup', 'DeviceProtection', \n",
    "                            'TechSupport', 'StreamingTV',  'StreamingMovies', 'Contract','PaymentMethod']\n",
    "\n",
    "# encode categorical binary features using label encoding in training data\n",
    "for column in label_encoding_columns:\n",
    "    x_train[column] = x_train[column].map({'Yes': 1, 'No': 0}) \n",
    "\n",
    "y_train=y_train.map({'Yes': 1, 'No': 0})\n",
    "\n",
    "# encode categorical variables with more than two levels using one-hot encoding n training data\n",
    "x_train= pd.get_dummies(x_train, columns = one_hot_encoding_columns)\n",
    "\n",
    "# encode categorical binary features using label encoding in test data\n",
    "for column in label_encoding_columns:\n",
    "    x_test[column] = x_test[column].map({'Yes': 1, 'No': 0}) \n",
    "\n",
    "y_test=y_test.map({'Yes': 1, 'No': 0})\n",
    "\n",
    "# encode categorical variables with more than two levels using one-hot encoding in test data\n",
    "x_test= pd.get_dummies(x_test, columns = one_hot_encoding_columns)"
   ]
  },
  {
   "cell_type": "markdown",
   "id": "384d8193",
   "metadata": {},
   "source": [
    "I am not removing the extra dummy variables (which help us avoid dummy trap) because sklearn can handle multiple dummy variables and avoid dummy trap."
   ]
  },
  {
   "cell_type": "markdown",
   "id": "87dbe00c",
   "metadata": {},
   "source": [
    "## Normalization"
   ]
  },
  {
   "cell_type": "markdown",
   "id": "8933cebe",
   "metadata": {},
   "source": [
    "Because our numerical features, tenure and monthly charges, have different units of measurement, we will normalize them using Min-Max scaling technique.\n",
    "We will calculate min and max of the respective column using training data and transform training and test data using those values. This helps us protect our model from information leakage."
   ]
  },
  {
   "cell_type": "code",
   "execution_count": 41,
   "id": "ee21200f",
   "metadata": {},
   "outputs": [],
   "source": [
    "min_max_columns = ['tenure', 'MonthlyCharges']\n",
    "\n",
    "# scale numerical variables using min max scaler\n",
    "for column in min_max_columns:\n",
    "        # minimum value of the column\n",
    "        min_column = x_train[column].min()\n",
    "        # maximum value of the column\n",
    "        max_column = x_train[column].max()\n",
    "        # min max scaler\n",
    "        x_train[column] = (x_train[column] - min_column) / (max_column - min_column)\n",
    "        \n",
    "for column in min_max_columns:\n",
    "        x_test[column] = (x_test[column] - min_column) / (max_column - min_column)"
   ]
  },
  {
   "cell_type": "markdown",
   "id": "3b6732e2",
   "metadata": {},
   "source": [
    "## Modeling"
   ]
  },
  {
   "cell_type": "markdown",
   "id": "1fa6ff42",
   "metadata": {},
   "source": [
    "Creating a Logistic Regression Model that can help us predict if a customer will churn or not."
   ]
  },
  {
   "cell_type": "code",
   "execution_count": 42,
   "id": "66d4bcfc",
   "metadata": {},
   "outputs": [
    {
     "data": {
      "text/html": [
       "<style>#sk-container-id-1 {color: black;background-color: white;}#sk-container-id-1 pre{padding: 0;}#sk-container-id-1 div.sk-toggleable {background-color: white;}#sk-container-id-1 label.sk-toggleable__label {cursor: pointer;display: block;width: 100%;margin-bottom: 0;padding: 0.3em;box-sizing: border-box;text-align: center;}#sk-container-id-1 label.sk-toggleable__label-arrow:before {content: \"▸\";float: left;margin-right: 0.25em;color: #696969;}#sk-container-id-1 label.sk-toggleable__label-arrow:hover:before {color: black;}#sk-container-id-1 div.sk-estimator:hover label.sk-toggleable__label-arrow:before {color: black;}#sk-container-id-1 div.sk-toggleable__content {max-height: 0;max-width: 0;overflow: hidden;text-align: left;background-color: #f0f8ff;}#sk-container-id-1 div.sk-toggleable__content pre {margin: 0.2em;color: black;border-radius: 0.25em;background-color: #f0f8ff;}#sk-container-id-1 input.sk-toggleable__control:checked~div.sk-toggleable__content {max-height: 200px;max-width: 100%;overflow: auto;}#sk-container-id-1 input.sk-toggleable__control:checked~label.sk-toggleable__label-arrow:before {content: \"▾\";}#sk-container-id-1 div.sk-estimator input.sk-toggleable__control:checked~label.sk-toggleable__label {background-color: #d4ebff;}#sk-container-id-1 div.sk-label input.sk-toggleable__control:checked~label.sk-toggleable__label {background-color: #d4ebff;}#sk-container-id-1 input.sk-hidden--visually {border: 0;clip: rect(1px 1px 1px 1px);clip: rect(1px, 1px, 1px, 1px);height: 1px;margin: -1px;overflow: hidden;padding: 0;position: absolute;width: 1px;}#sk-container-id-1 div.sk-estimator {font-family: monospace;background-color: #f0f8ff;border: 1px dotted black;border-radius: 0.25em;box-sizing: border-box;margin-bottom: 0.5em;}#sk-container-id-1 div.sk-estimator:hover {background-color: #d4ebff;}#sk-container-id-1 div.sk-parallel-item::after {content: \"\";width: 100%;border-bottom: 1px solid gray;flex-grow: 1;}#sk-container-id-1 div.sk-label:hover label.sk-toggleable__label {background-color: #d4ebff;}#sk-container-id-1 div.sk-serial::before {content: \"\";position: absolute;border-left: 1px solid gray;box-sizing: border-box;top: 0;bottom: 0;left: 50%;z-index: 0;}#sk-container-id-1 div.sk-serial {display: flex;flex-direction: column;align-items: center;background-color: white;padding-right: 0.2em;padding-left: 0.2em;position: relative;}#sk-container-id-1 div.sk-item {position: relative;z-index: 1;}#sk-container-id-1 div.sk-parallel {display: flex;align-items: stretch;justify-content: center;background-color: white;position: relative;}#sk-container-id-1 div.sk-item::before, #sk-container-id-1 div.sk-parallel-item::before {content: \"\";position: absolute;border-left: 1px solid gray;box-sizing: border-box;top: 0;bottom: 0;left: 50%;z-index: -1;}#sk-container-id-1 div.sk-parallel-item {display: flex;flex-direction: column;z-index: 1;position: relative;background-color: white;}#sk-container-id-1 div.sk-parallel-item:first-child::after {align-self: flex-end;width: 50%;}#sk-container-id-1 div.sk-parallel-item:last-child::after {align-self: flex-start;width: 50%;}#sk-container-id-1 div.sk-parallel-item:only-child::after {width: 0;}#sk-container-id-1 div.sk-dashed-wrapped {border: 1px dashed gray;margin: 0 0.4em 0.5em 0.4em;box-sizing: border-box;padding-bottom: 0.4em;background-color: white;}#sk-container-id-1 div.sk-label label {font-family: monospace;font-weight: bold;display: inline-block;line-height: 1.2em;}#sk-container-id-1 div.sk-label-container {text-align: center;}#sk-container-id-1 div.sk-container {/* jupyter's `normalize.less` sets `[hidden] { display: none; }` but bootstrap.min.css set `[hidden] { display: none !important; }` so we also need the `!important` here to be able to override the default hidden behavior on the sphinx rendered scikit-learn.org. See: https://github.com/scikit-learn/scikit-learn/issues/21755 */display: inline-block !important;position: relative;}#sk-container-id-1 div.sk-text-repr-fallback {display: none;}</style><div id=\"sk-container-id-1\" class=\"sk-top-container\"><div class=\"sk-text-repr-fallback\"><pre>LogisticRegression(solver=&#x27;liblinear&#x27;)</pre><b>In a Jupyter environment, please rerun this cell to show the HTML representation or trust the notebook. <br />On GitHub, the HTML representation is unable to render, please try loading this page with nbviewer.org.</b></div><div class=\"sk-container\" hidden><div class=\"sk-item\"><div class=\"sk-estimator sk-toggleable\"><input class=\"sk-toggleable__control sk-hidden--visually\" id=\"sk-estimator-id-1\" type=\"checkbox\" checked><label for=\"sk-estimator-id-1\" class=\"sk-toggleable__label sk-toggleable__label-arrow\">LogisticRegression</label><div class=\"sk-toggleable__content\"><pre>LogisticRegression(solver=&#x27;liblinear&#x27;)</pre></div></div></div></div></div>"
      ],
      "text/plain": [
       "LogisticRegression(solver='liblinear')"
      ]
     },
     "execution_count": 42,
     "metadata": {},
     "output_type": "execute_result"
    }
   ],
   "source": [
    "from sklearn.linear_model import LogisticRegression\n",
    "model = LogisticRegression(solver='liblinear')\n",
    "model.fit(x_train, y_train)"
   ]
  },
  {
   "cell_type": "markdown",
   "id": "13c2e552",
   "metadata": {},
   "source": [
    "Predicted probabilities of Churn on our test data. According to the concept of Logistic Regression, if the probability is >0.5, the customer will churn else not."
   ]
  },
  {
   "cell_type": "code",
   "execution_count": 44,
   "id": "8be37e4b",
   "metadata": {},
   "outputs": [
    {
     "data": {
      "text/plain": [
       "array([0.32549275, 0.2250375 , 0.22242904, ..., 0.61365948, 0.13201921,\n",
       "       0.0199735 ])"
      ]
     },
     "execution_count": 44,
     "metadata": {},
     "output_type": "execute_result"
    }
   ],
   "source": [
    "model.predict_proba(x_test)[:,1]"
   ]
  },
  {
   "cell_type": "markdown",
   "id": "355c76b2",
   "metadata": {},
   "source": [
    "Predicted values of Churn on our test data."
   ]
  },
  {
   "cell_type": "code",
   "execution_count": 52,
   "id": "2d55d102",
   "metadata": {},
   "outputs": [
    {
     "name": "stdout",
     "output_type": "stream",
     "text": [
      "[0 0 0 ... 1 0 0]\n"
     ]
    }
   ],
   "source": [
    "predictions = model.predict(x_test)\n",
    "print(predictions)"
   ]
  },
  {
   "cell_type": "markdown",
   "id": "b1758685",
   "metadata": {},
   "source": [
    "Variables and their coefficients."
   ]
  },
  {
   "cell_type": "code",
   "execution_count": 59,
   "id": "71f20102",
   "metadata": {},
   "outputs": [
    {
     "name": "stdout",
     "output_type": "stream",
     "text": [
      "                                   Variable  Coefficient\n",
      "3                                    tenure    -2.445148\n",
      "5                            MonthlyCharges    -1.430608\n",
      "10                       InternetService_No    -1.179425\n",
      "9               InternetService_Fiber optic     1.109856\n",
      "25                        Contract_Two year    -0.734331\n",
      "23                  Contract_Month-to-month     0.646045\n",
      "4                          PaperlessBilling     0.391355\n",
      "0                             SeniorCitizen     0.289957\n",
      "28           PaymentMethod_Electronic check     0.277548\n",
      "21                       StreamingMovies_No    -0.268153\n",
      "27    PaymentMethod_Credit card (automatic)    -0.257476\n",
      "19                           StreamingTV_No    -0.244995\n",
      "6                          MultipleLines_No    -0.226745\n",
      "2                                Dependents    -0.220407\n",
      "18                          TechSupport_Yes    -0.201836\n",
      "12                       OnlineSecurity_Yes    -0.174241\n",
      "22                      StreamingMovies_Yes     0.156106\n",
      "15                      DeviceProtection_No    -0.152368\n",
      "20                          StreamingTV_Yes     0.132948\n",
      "7                         MultipleLines_Yes     0.114698\n",
      "14                         OnlineBackup_Yes    -0.106037\n",
      "29               PaymentMethod_Mailed check    -0.097024\n",
      "17                           TechSupport_No     0.089789\n",
      "11                        OnlineSecurity_No     0.062194\n",
      "8                       InternetService_DSL    -0.042478\n",
      "16                     DeviceProtection_Yes     0.040321\n",
      "1                                   Partner     0.040256\n",
      "26  PaymentMethod_Bank transfer (automatic)    -0.035096\n",
      "24                        Contract_One year    -0.023761\n",
      "13                          OnlineBackup_No    -0.006010\n"
     ]
    }
   ],
   "source": [
    "model_features = x_train.columns\n",
    "coefficient_df = pd.DataFrame({\"Variable\" : model_features, \"Coefficient\": model.coef_[0]})\n",
    "print(coefficient_df.sort_values(by=\"Coefficient\",ascending=False, key=abs))"
   ]
  },
  {
   "cell_type": "markdown",
   "id": "325fc391",
   "metadata": {},
   "source": [
    "### Accuracy of our model"
   ]
  },
  {
   "cell_type": "code",
   "execution_count": 53,
   "id": "3fa86f46",
   "metadata": {},
   "outputs": [
    {
     "name": "stdout",
     "output_type": "stream",
     "text": [
      "Accuracy score:  0.7718998862343572\n"
     ]
    }
   ],
   "source": [
    "\n",
    "score = model.score(x_test, y_test)\n",
    "print(\"Accuracy score: \",score)"
   ]
  },
  {
   "cell_type": "markdown",
   "id": "0d26f470",
   "metadata": {},
   "source": [
    "### Classification Report"
   ]
  },
  {
   "cell_type": "code",
   "execution_count": 48,
   "id": "6b7ad1e8",
   "metadata": {},
   "outputs": [
    {
     "name": "stdout",
     "output_type": "stream",
     "text": [
      "              precision    recall  f1-score   support\n",
      "\n",
      "           0       0.88      0.80      0.84      1311\n",
      "           1       0.54      0.70      0.61       447\n",
      "\n",
      "    accuracy                           0.77      1758\n",
      "   macro avg       0.71      0.75      0.72      1758\n",
      "weighted avg       0.80      0.77      0.78      1758\n",
      "\n"
     ]
    }
   ],
   "source": [
    "from sklearn.metrics import accuracy_score, classification_report, confusion_matrix\n",
    "report=classification_report(y_test, predictions)\n",
    "print(report,sep=\"\\n\")"
   ]
  },
  {
   "cell_type": "markdown",
   "id": "6b61cc72",
   "metadata": {},
   "source": [
    "### Confusion Matrix"
   ]
  },
  {
   "cell_type": "markdown",
   "id": "aa2f1703",
   "metadata": {},
   "source": [
    "true positives (TP): These are cases in which we predicted yes (the customer churned), and they actually churned.\n",
    "\n",
    "true negatives (TN): We predicted no, and the customers did not churn.\n",
    "\n",
    "false positives (FP): We predicted yes, but the customers did not actually churn. (Also known as a \"Type I error.\")\n",
    "\n",
    "false negatives (FN): We predicted no, but the customers churned. (Also known as a \"Type II error.\")"
   ]
  },
  {
   "cell_type": "code",
   "execution_count": 56,
   "id": "b10433f6",
   "metadata": {},
   "outputs": [
    {
     "data": {
      "image/png": "[encoded data removed]",
      "text/plain": [
       "<Figure size 432x288 with 2 Axes>"
      ]
     },
     "metadata": {},
     "output_type": "display_data"
    }
   ],
   "source": [
    "cm =confusion_matrix(y_test,predictions)\n",
    "group_names = ['True Neg','False Pos','False Neg','True Pos']\n",
    "group_counts = [\"{0:0.0f}\".format(value) for value in\n",
    "                cm.flatten()]\n",
    "group_percentages = [\"{0:.2%}\".format(value) for value in\n",
    "                     cm.flatten()/np.sum(cm)]\n",
    "labels = [f\"{v1}\\n{v2}\\n{v3}\" for v1, v2, v3 in\n",
    "          zip(group_names,group_counts,group_percentages)]\n",
    "labels = np.asarray(labels).reshape(2,2)\n",
    "sns.heatmap(cm, annot=labels, fmt='', cmap='Blues')\n",
    "plt.title(\"Confusion Matrix\")\n",
    "plt.show()"
   ]
  }
 ],
 "metadata": {
  "kernelspec": {
   "display_name": "Python 3 (ipykernel)",
   "language": "python",
   "name": "python3"
  },
  "language_info": {
   "codemirror_mode": {
    "name": "ipython",
    "version": 3
   },
   "file_extension": ".py",
   "mimetype": "text/x-python",
   "name": "python",
   "nbconvert_exporter": "python",
   "pygments_lexer": "ipython3",
   "version": "3.10.5"
  }
 },
 "nbformat": 4,
 "nbformat_minor": 5
}
