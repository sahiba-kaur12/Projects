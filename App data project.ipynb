{
 "cells": [
  {
   "cell_type": "markdown",
   "metadata": {},
   "source": [
    "# Popular App Profiles Among Users for the App Store and Google Play Store."
   ]
  },
  {
   "cell_type": "markdown",
   "metadata": {},
   "source": [
    "We only build apps that are free to download and install, and our main source of revenue consists of in-app ads. This means that the number of users of our apps determines our revenue for any given app — the more users who see and engage with the ads, the better."
   ]
  },
  {
   "cell_type": "markdown",
   "metadata": {},
   "source": [
    "Our goal for this project is to analyze data to help our developers understand what type of apps are likely to attract more users on Google Play and IOS App Store."
   ]
  },
  {
   "cell_type": "code",
   "execution_count": 1,
   "metadata": {},
   "outputs": [],
   "source": [
    "from csv import reader"
   ]
  },
  {
   "cell_type": "code",
   "execution_count": 2,
   "metadata": {},
   "outputs": [],
   "source": [
    "gplay=list(reader(open(\"googleplaystore.csv\")))"
   ]
  },
  {
   "cell_type": "code",
   "execution_count": 3,
   "metadata": {},
   "outputs": [],
   "source": [
    "ios=list(reader(open(\"AppleStore.csv\")))"
   ]
  },
  {
   "cell_type": "code",
   "execution_count": 4,
   "metadata": {},
   "outputs": [],
   "source": [
    "def explore_data(dataset, start, end, rows_and_columns=False):\n",
    "    dataset_slice = dataset[start:end]    \n",
    "    for row in dataset_slice:\n",
    "        print(row)\n",
    "        print('\\n') # adds a new (empty) line after each row\n",
    "\n",
    "    if rows_and_columns:\n",
    "        print('Number of rows:', len(dataset))\n",
    "        print('Number of columns:', len(dataset[0]))"
   ]
  },
  {
   "cell_type": "code",
   "execution_count": 5,
   "metadata": {},
   "outputs": [
    {
     "name": "stdout",
     "output_type": "stream",
     "text": [
      "['id', 'track_name', 'size_bytes', 'currency', 'price', 'rating_count_tot', 'rating_count_ver', 'user_rating', 'user_rating_ver', 'ver', 'cont_rating', 'prime_genre', 'sup_devices.num', 'ipadSc_urls.num', 'lang.num', 'vpp_lic']\n",
      "\n",
      "\n",
      "['284882215', 'Facebook', '389879808', 'USD', '0.0', '2974676', '212', '3.5', '3.5', '95.0', '4+', 'Social Networking', '37', '1', '29', '1']\n",
      "\n",
      "\n",
      "['389801252', 'Instagram', '113954816', 'USD', '0.0', '2161558', '1289', '4.5', '4.0', '10.23', '12+', 'Photo & Video', '37', '0', '29', '1']\n",
      "\n",
      "\n",
      "Number of rows: 7198\n",
      "Number of columns: 16\n"
     ]
    }
   ],
   "source": [
    "explore_data(ios,0,3,True)"
   ]
  },
  {
   "cell_type": "code",
   "execution_count": 6,
   "metadata": {},
   "outputs": [
    {
     "name": "stdout",
     "output_type": "stream",
     "text": [
      "['App', 'Category', 'Rating', 'Reviews', 'Size', 'Installs', 'Type', 'Price', 'Content Rating', 'Genres', 'Last Updated', 'Current Ver', 'Android Ver']\n",
      "\n",
      "\n",
      "['Photo Editor & Candy Camera & Grid & ScrapBook', 'ART_AND_DESIGN', '4.1', '159', '19M', '10,000+', 'Free', '0', 'Everyone', 'Art & Design', 'January 7, 2018', '1.0.0', '4.0.3 and up']\n",
      "\n",
      "\n",
      "['Coloring book moana', 'ART_AND_DESIGN', '3.9', '967', '14M', '500,000+', 'Free', '0', 'Everyone', 'Art & Design;Pretend Play', 'January 15, 2018', '2.0.0', '4.0.3 and up']\n",
      "\n",
      "\n",
      "Number of rows: 10842\n",
      "Number of columns: 13\n"
     ]
    }
   ],
   "source": [
    "explore_data(gplay,0,3,True)"
   ]
  },
  {
   "cell_type": "markdown",
   "metadata": {},
   "source": [
    "## Data Cleaning"
   ]
  },
  {
   "cell_type": "markdown",
   "metadata": {},
   "source": [
    "1. Removing a row which was shifted to right. This was mentioned by a contributor Shivendra Yadav."
   ]
  },
  {
   "cell_type": "code",
   "execution_count": 7,
   "metadata": {},
   "outputs": [
    {
     "data": {
      "text/plain": [
       "['Life Made WI-Fi Touchscreen Photo Frame',\n",
       " '1.9',\n",
       " '19',\n",
       " '3.0M',\n",
       " '1,000+',\n",
       " 'Free',\n",
       " '0',\n",
       " 'Everyone',\n",
       " '',\n",
       " 'February 11, 2018',\n",
       " '1.0.19',\n",
       " '4.0 and up']"
      ]
     },
     "execution_count": 7,
     "metadata": {},
     "output_type": "execute_result"
    }
   ],
   "source": [
    "gplay[10473]"
   ]
  },
  {
   "cell_type": "code",
   "execution_count": 8,
   "metadata": {},
   "outputs": [],
   "source": [
    "#deleting it\n",
    "del gplay[10473]"
   ]
  },
  {
   "cell_type": "code",
   "execution_count": 9,
   "metadata": {},
   "outputs": [
    {
     "name": "stdout",
     "output_type": "stream",
     "text": [
      "No. of duplicates:  1181\n"
     ]
    }
   ],
   "source": [
    "dup_apps=[]\n",
    "unique_apps=[]\n",
    "for row in gplay:\n",
    "    if row[0] in unique_apps:\n",
    "        dup_apps.append(row[0])\n",
    "    else:\n",
    "        unique_apps.append(row[0])\n",
    "\n",
    "print(\"No. of duplicates: \",len(dup_apps))"
   ]
  },
  {
   "cell_type": "markdown",
   "metadata": {},
   "source": [
    "### The number of duplicate apps is 1181"
   ]
  },
  {
   "cell_type": "code",
   "execution_count": 10,
   "metadata": {},
   "outputs": [
    {
     "name": "stdout",
     "output_type": "stream",
     "text": [
      "Example of duplicate apps: ['Quick PDF Scanner + OCR FREE', 'Box', 'Google My Business', 'ZOOM Cloud Meetings', 'join.me - Simple Meetings']\n"
     ]
    }
   ],
   "source": [
    "print(\"Example of duplicate apps:\" ,dup_apps[:5])"
   ]
  },
  {
   "cell_type": "markdown",
   "metadata": {},
   "source": [
    "There a large number of duplicate records and it would be better for ananlysis to remove them. Let us explore the duplicate records in depth. We know, by looking at the examples that Zoom Cloud Meetings records are repeating."
   ]
  },
  {
   "cell_type": "code",
   "execution_count": 11,
   "metadata": {},
   "outputs": [
    {
     "name": "stdout",
     "output_type": "stream",
     "text": [
      "['App', 'Category', 'Rating', 'Reviews', 'Size', 'Installs', 'Type', 'Price', 'Content Rating', 'Genres', 'Last Updated', 'Current Ver', 'Android Ver']\n",
      "['Quick PDF Scanner + OCR FREE', 'BUSINESS', '4.2', '80805', 'Varies with device', '5,000,000+', 'Free', '0', 'Everyone', 'Business', 'February 26, 2018', 'Varies with device', '4.0.3 and up']\n",
      "['Quick PDF Scanner + OCR FREE', 'BUSINESS', '4.2', '80805', 'Varies with device', '5,000,000+', 'Free', '0', 'Everyone', 'Business', 'February 26, 2018', 'Varies with device', '4.0.3 and up']\n",
      "['Quick PDF Scanner + OCR FREE', 'BUSINESS', '4.2', '80804', 'Varies with device', '5,000,000+', 'Free', '0', 'Everyone', 'Business', 'February 26, 2018', 'Varies with device', '4.0.3 and up']\n"
     ]
    }
   ],
   "source": [
    "print(gplay[0])\n",
    "for row in gplay:\n",
    "    if row[0]==\"Quick PDF Scanner + OCR FREE\":\n",
    "        print(row)"
   ]
  },
  {
   "cell_type": "markdown",
   "metadata": {},
   "source": [
    "The rows seem almost same but differ in Reviews column. We can use this to determine which rows are to be deleted. Instead of deleting duplicate rows randomly, we will keep the most recent reviews and delete all others.\n",
    "The records with most number of reviews will be the most recent one.\n"
   ]
  },
  {
   "cell_type": "code",
   "execution_count": 12,
   "metadata": {},
   "outputs": [
    {
     "name": "stdout",
     "output_type": "stream",
     "text": [
      "Expected length of records after removal of duplicates:  9659\n"
     ]
    }
   ],
   "source": [
    "print(\"Expected length of records after removal of duplicates: \",len(gplay[1:])-len(dup_apps))"
   ]
  },
  {
   "cell_type": "code",
   "execution_count": 13,
   "metadata": {},
   "outputs": [],
   "source": [
    "highest_rev={}\n",
    "for row in gplay[1:]:\n",
    "    name=row[0]\n",
    "    rev=float(row[3])\n",
    "    if name in highest_rev and rev>highest_rev[name]:\n",
    "        highest_rev[name]=rev\n",
    "    if name not in highest_rev:\n",
    "        highest_rev[name]=rev"
   ]
  },
  {
   "cell_type": "code",
   "execution_count": 14,
   "metadata": {},
   "outputs": [
    {
     "data": {
      "text/plain": [
       "9659"
      ]
     },
     "execution_count": 14,
     "metadata": {},
     "output_type": "execute_result"
    }
   ],
   "source": [
    "len(highest_rev)"
   ]
  },
  {
   "cell_type": "markdown",
   "metadata": {},
   "source": [
    "We inspect each row in android data. If the reviews in the row are equal to the highest reviews of the same app(in the dicitionary) and the name of the app is not in the already_added list, we append the row in the android_clean dataset. The already_added list is to keep a record for all the applications, that have already been added in the clean dataset."
   ]
  },
  {
   "cell_type": "code",
   "execution_count": 15,
   "metadata": {},
   "outputs": [],
   "source": [
    "android_clean=[]\n",
    "already_added=[]\n",
    "for row in gplay[1:]:\n",
    "    name=row[0]\n",
    "    rev=float(row[3])\n",
    "    if rev==highest_rev[name] and name not in already_added:\n",
    "        android_clean.append(row)\n",
    "        already_added.append(name)"
   ]
  },
  {
   "cell_type": "code",
   "execution_count": 16,
   "metadata": {},
   "outputs": [
    {
     "data": {
      "text/plain": [
       "9659"
      ]
     },
     "execution_count": 16,
     "metadata": {},
     "output_type": "execute_result"
    }
   ],
   "source": [
    "len(android_clean)"
   ]
  },
  {
   "cell_type": "markdown",
   "metadata": {},
   "source": [
    "Let us check for duplicates in the IOS App store dataset, using the ID column."
   ]
  },
  {
   "cell_type": "code",
   "execution_count": 17,
   "metadata": {},
   "outputs": [
    {
     "name": "stdout",
     "output_type": "stream",
     "text": [
      "No. of duplicates:  0\n"
     ]
    }
   ],
   "source": [
    "dup_apps=[]\n",
    "unique_apps=[]\n",
    "for row in ios[1:]:\n",
    "    if row[0] in unique_apps:\n",
    "        dup_apps.append(row[0])\n",
    "    else:\n",
    "        unique_apps.append(row[0])\n",
    "\n",
    "print(\"No. of duplicates: \",len(dup_apps))"
   ]
  },
  {
   "cell_type": "code",
   "execution_count": 18,
   "metadata": {},
   "outputs": [
    {
     "name": "stdout",
     "output_type": "stream",
     "text": [
      "みんなのお弁当 by クックパッド ~お弁当をレシピ付きで記録・共有~\n",
      "【謎解き】ヤミすぎ彼女からのメッセージ\n"
     ]
    }
   ],
   "source": [
    "print(ios[-1][1])\n",
    "print(ios[-4][1])"
   ]
  },
  {
   "cell_type": "markdown",
   "metadata": {},
   "source": [
    "Some IOS apps have names which are not of the English Language. As we are conducting this analysis only for the English apps, we will remove such apps\n",
    "\n",
    "To do this, let us first explore ASCII characters of both english and non english letters. We use ord() function for the same."
   ]
  },
  {
   "cell_type": "code",
   "execution_count": 19,
   "metadata": {},
   "outputs": [
    {
     "name": "stdout",
     "output_type": "stream",
     "text": [
      "38651\n",
      "12415\n",
      "97\n",
      "65\n",
      "122\n"
     ]
    }
   ],
   "source": [
    "print(ord(\"電\"))\n",
    "print(ord(\"み\"))\n",
    "print(ord(\"a\"))\n",
    "print(ord(\"A\"))\n",
    "print(ord(\"z\"))"
   ]
  },
  {
   "cell_type": "markdown",
   "metadata": {},
   "source": [
    "English text usually includes letters from the English alphabet, numbers composed of digits from 0 to 9, punctuation marks (., !, ?, ;), and other symbols (+, *, /)."
   ]
  },
  {
   "cell_type": "markdown",
   "metadata": {},
   "source": [
    "The numbers corresponding to the characters we commonly use in an English text are all in the range 0 to 127, according to the ASCII (American Standard Code for Information Interchange) system. "
   ]
  },
  {
   "cell_type": "markdown",
   "metadata": {},
   "source": [
    "Now, we create a function called eng_check that looks for 1 non english character in a string and returns False as soon as it encounters one"
   ]
  },
  {
   "cell_type": "code",
   "execution_count": 20,
   "metadata": {},
   "outputs": [
    {
     "data": {
      "text/plain": [
       "False"
      ]
     },
     "execution_count": 20,
     "metadata": {},
     "output_type": "execute_result"
    }
   ],
   "source": [
    "def is_eng(string):\n",
    "    for character in string:\n",
    "        if ord(character)>127:\n",
    "            return False\n",
    "    return True\n",
    "is_eng(\"Docs To Go™ Free Office Suite'\")"
   ]
  },
  {
   "cell_type": "code",
   "execution_count": 21,
   "metadata": {},
   "outputs": [
    {
     "data": {
      "text/plain": [
       "True"
      ]
     },
     "execution_count": 21,
     "metadata": {},
     "output_type": "execute_result"
    }
   ],
   "source": [
    "is_eng(\"Instagram\")"
   ]
  },
  {
   "cell_type": "markdown",
   "metadata": {},
   "source": [
    "If we're going to use the function we've created, we'll lose useful data since many English apps will be incorrectly labeled as non-English. To minimize the impact of data loss, we'll only remove an app if its name has more than three characters with corresponding numbers falling outside the ASCII range\n",
    "Now, we create a function called eng_check_3 that looks for atleast 3 non english character in a string and returns False as soon as it encounters them"
   ]
  },
  {
   "cell_type": "code",
   "execution_count": 22,
   "metadata": {},
   "outputs": [],
   "source": [
    "def is_english(string):\n",
    "    non_ascii = 0\n",
    "    \n",
    "    for character in string:\n",
    "        if ord(character) > 127:\n",
    "            non_ascii += 1\n",
    "    \n",
    "    if non_ascii > 3:\n",
    "        return False\n",
    "    else:\n",
    "        return True"
   ]
  },
  {
   "cell_type": "code",
   "execution_count": 23,
   "metadata": {},
   "outputs": [
    {
     "data": {
      "text/plain": [
       "True"
      ]
     },
     "execution_count": 23,
     "metadata": {},
     "output_type": "execute_result"
    }
   ],
   "source": [
    "is_english(\"Instachat 😜\")"
   ]
  },
  {
   "cell_type": "code",
   "execution_count": 24,
   "metadata": {},
   "outputs": [
    {
     "data": {
      "text/plain": [
       "True"
      ]
     },
     "execution_count": 24,
     "metadata": {},
     "output_type": "execute_result"
    }
   ],
   "source": [
    "is_english(\"Docs To Go™ Free Office Suite'\")"
   ]
  },
  {
   "cell_type": "code",
   "execution_count": 25,
   "metadata": {},
   "outputs": [
    {
     "data": {
      "text/plain": [
       "False"
      ]
     },
     "execution_count": 25,
     "metadata": {},
     "output_type": "execute_result"
    }
   ],
   "source": [
    "is_english('爱奇艺PPS -《欢乐颂2》电视剧热播')"
   ]
  },
  {
   "cell_type": "markdown",
   "metadata": {},
   "source": [
    "Let us apply this function on our IOS dataset to check for non english names of the apps."
   ]
  },
  {
   "cell_type": "code",
   "execution_count": 26,
   "metadata": {},
   "outputs": [
    {
     "name": "stdout",
     "output_type": "stream",
     "text": [
      "['284882215', 'Facebook', '389879808', 'USD', '0.0', '2974676', '212', '3.5', '3.5', '95.0', '4+', 'Social Networking', '37', '1', '29', '1']\n",
      "\n",
      "\n",
      "['389801252', 'Instagram', '113954816', 'USD', '0.0', '2161558', '1289', '4.5', '4.0', '10.23', '12+', 'Photo & Video', '37', '0', '29', '1']\n",
      "\n",
      "\n",
      "['529479190', 'Clash of Clans', '116476928', 'USD', '0.0', '2130805', '579', '4.5', '4.5', '9.24.12', '9+', 'Games', '38', '5', '18', '1']\n",
      "\n",
      "\n",
      "Number of rows: 6183\n",
      "Number of columns: 16\n"
     ]
    }
   ],
   "source": [
    "ios_eng=[]\n",
    "for row in ios[1:]:\n",
    "    if is_english(row[1]):\n",
    "        ios_eng.append(row)\n",
    "explore_data(ios_eng,0,3,True)"
   ]
  },
  {
   "cell_type": "markdown",
   "metadata": {},
   "source": [
    "Let us apply this function on our android dataset to check for non english names of the apps."
   ]
  },
  {
   "cell_type": "code",
   "execution_count": 27,
   "metadata": {},
   "outputs": [
    {
     "name": "stdout",
     "output_type": "stream",
     "text": [
      "['Photo Editor & Candy Camera & Grid & ScrapBook', 'ART_AND_DESIGN', '4.1', '159', '19M', '10,000+', 'Free', '0', 'Everyone', 'Art & Design', 'January 7, 2018', '1.0.0', '4.0.3 and up']\n",
      "\n",
      "\n",
      "['U Launcher Lite – FREE Live Cool Themes, Hide Apps', 'ART_AND_DESIGN', '4.7', '87510', '8.7M', '5,000,000+', 'Free', '0', 'Everyone', 'Art & Design', 'August 1, 2018', '1.2.4', '4.0.3 and up']\n",
      "\n",
      "\n",
      "['Sketch - Draw & Paint', 'ART_AND_DESIGN', '4.5', '215644', '25M', '50,000,000+', 'Free', '0', 'Teen', 'Art & Design', 'June 8, 2018', 'Varies with device', '4.2 and up']\n",
      "\n",
      "\n",
      "Number of rows: 9614\n",
      "Number of columns: 13\n"
     ]
    }
   ],
   "source": [
    "android_eng=[]\n",
    "for row in android_clean:\n",
    "    if is_english(row[0]):\n",
    "        android_eng.append(row)\n",
    "explore_data(android_eng,0,3,True)"
   ]
  },
  {
   "cell_type": "markdown",
   "metadata": {},
   "source": [
    "Now Ios_eng and gplay_Eng contain apps with names in english only."
   ]
  },
  {
   "cell_type": "markdown",
   "metadata": {},
   "source": [
    "Now we need to isolate the free apps for both IOS and Android as our company builds free apps only. Our main source of revenue consists of in-app ads."
   ]
  },
  {
   "cell_type": "code",
   "execution_count": 28,
   "metadata": {},
   "outputs": [],
   "source": [
    "free_ios=[]\n",
    "free_android=[]\n",
    "\n",
    "for row in android_eng:\n",
    "    if row[7]=='0.0' or row[7]=='0':\n",
    "        free_android.append(row)\n",
    "\n",
    "for row in ios_eng:\n",
    "    if row[4]=='0.0'or row[4]=='0':\n",
    "        free_ios.append(row)"
   ]
  },
  {
   "cell_type": "code",
   "execution_count": 29,
   "metadata": {},
   "outputs": [
    {
     "name": "stdout",
     "output_type": "stream",
     "text": [
      "['Photo Editor & Candy Camera & Grid & ScrapBook', 'ART_AND_DESIGN', '4.1', '159', '19M', '10,000+', 'Free', '0', 'Everyone', 'Art & Design', 'January 7, 2018', '1.0.0', '4.0.3 and up']\n",
      "\n",
      "\n",
      "['U Launcher Lite – FREE Live Cool Themes, Hide Apps', 'ART_AND_DESIGN', '4.7', '87510', '8.7M', '5,000,000+', 'Free', '0', 'Everyone', 'Art & Design', 'August 1, 2018', '1.2.4', '4.0.3 and up']\n",
      "\n",
      "\n",
      "['Sketch - Draw & Paint', 'ART_AND_DESIGN', '4.5', '215644', '25M', '50,000,000+', 'Free', '0', 'Teen', 'Art & Design', 'June 8, 2018', 'Varies with device', '4.2 and up']\n",
      "\n",
      "\n",
      "Number of rows: 8864\n",
      "Number of columns: 13\n",
      "['284882215', 'Facebook', '389879808', 'USD', '0.0', '2974676', '212', '3.5', '3.5', '95.0', '4+', 'Social Networking', '37', '1', '29', '1']\n",
      "\n",
      "\n",
      "['389801252', 'Instagram', '113954816', 'USD', '0.0', '2161558', '1289', '4.5', '4.0', '10.23', '12+', 'Photo & Video', '37', '0', '29', '1']\n",
      "\n",
      "\n",
      "['529479190', 'Clash of Clans', '116476928', 'USD', '0.0', '2130805', '579', '4.5', '4.5', '9.24.12', '9+', 'Games', '38', '5', '18', '1']\n",
      "\n",
      "\n",
      "Number of rows: 3222\n",
      "Number of columns: 16\n"
     ]
    }
   ],
   "source": [
    "explore_data(free_android,0,3,True)\n",
    "explore_data(free_ios,0,3,True)"
   ]
  },
  {
   "cell_type": "markdown",
   "metadata": {},
   "source": [
    "We are now left with 8864 rows of data for android and 3222 rows of data for the app store. \n",
    "Our Data Cleaning ends here. Now we will proceed to our analysis."
   ]
  },
  {
   "cell_type": "markdown",
   "metadata": {},
   "source": [
    "## Analysis for determining Profitable Apps."
   ]
  },
  {
   "cell_type": "markdown",
   "metadata": {},
   "source": [
    "Our goal is to determine the kinds of apps that are likely to attract more users because the number of people using our apps affect our revenue.\n",
    "\n",
    "To minimize risks and overhead, our validation strategy for an app idea has three steps:\n",
    "\n",
    "1. Build a minimal Android version of the app, and add it to Google Play.If the app has a good response from users, we develop it further. \n",
    "2. If the app is profitable after six months, we build an iOS version of the app and add it to the App Store.\n",
    "\n",
    "3. Because our end goal is to add the app on both Google Play and the App Store, we need to find app profiles that are successful in both markets. \n",
    "\n",
    "Let's begin the analysis by determining the **most common genres** for each market. For this, we'll need to build frequency tables for a few columns in our datasets."
   ]
  },
  {
   "cell_type": "code",
   "execution_count": 30,
   "metadata": {},
   "outputs": [
    {
     "name": "stdout",
     "output_type": "stream",
     "text": [
      "['284882215', 'Facebook', '389879808', 'USD', '0.0', '2974676', '212', '3.5', '3.5', '95.0', '4+', 'Social Networking', '37', '1', '29', '1']\n",
      "\n",
      "\n",
      "['389801252', 'Instagram', '113954816', 'USD', '0.0', '2161558', '1289', '4.5', '4.0', '10.23', '12+', 'Photo & Video', '37', '0', '29', '1']\n",
      "\n",
      "\n",
      "['529479190', 'Clash of Clans', '116476928', 'USD', '0.0', '2130805', '579', '4.5', '4.5', '9.24.12', '9+', 'Games', '38', '5', '18', '1']\n",
      "\n",
      "\n"
     ]
    }
   ],
   "source": [
    "explore_data(free_ios,0,3)"
   ]
  },
  {
   "cell_type": "code",
   "execution_count": 31,
   "metadata": {},
   "outputs": [
    {
     "name": "stdout",
     "output_type": "stream",
     "text": [
      "['Photo Editor & Candy Camera & Grid & ScrapBook', 'ART_AND_DESIGN', '4.1', '159', '19M', '10,000+', 'Free', '0', 'Everyone', 'Art & Design', 'January 7, 2018', '1.0.0', '4.0.3 and up']\n",
      "\n",
      "\n",
      "['U Launcher Lite – FREE Live Cool Themes, Hide Apps', 'ART_AND_DESIGN', '4.7', '87510', '8.7M', '5,000,000+', 'Free', '0', 'Everyone', 'Art & Design', 'August 1, 2018', '1.2.4', '4.0.3 and up']\n",
      "\n",
      "\n",
      "['Sketch - Draw & Paint', 'ART_AND_DESIGN', '4.5', '215644', '25M', '50,000,000+', 'Free', '0', 'Teen', 'Art & Design', 'June 8, 2018', 'Varies with device', '4.2 and up']\n",
      "\n",
      "\n"
     ]
    }
   ],
   "source": [
    "explore_data(free_android,0,3)"
   ]
  },
  {
   "cell_type": "code",
   "execution_count": 32,
   "metadata": {},
   "outputs": [],
   "source": [
    "def freq_table(data,index):\n",
    "    per={}\n",
    "    freq={}\n",
    "    s=0\n",
    "    for row in data:\n",
    "        if row[index]in freq:\n",
    "            freq[row[index]]+=1\n",
    "        else:\n",
    "            freq[row[index]]=1\n",
    "        s+=1\n",
    "    \n",
    "    for row in freq:\n",
    "        per[row]=(freq[row]/s)*100\n",
    "    \n",
    "    return per\n",
    "\n"
   ]
  },
  {
   "cell_type": "code",
   "execution_count": 33,
   "metadata": {},
   "outputs": [],
   "source": [
    "def display_table(dataset, index):\n",
    "    table = freq_table(dataset, index)\n",
    "    table_display = []\n",
    "    for key in table:\n",
    "        key_val_as_tuple = (table[key], key)\n",
    "        table_display.append(key_val_as_tuple)\n",
    "\n",
    "    table_sorted = sorted(table_display, reverse = True)\n",
    "    for entry in table_sorted:\n",
    "        print(entry[1], ':', entry[0])"
   ]
  },
  {
   "cell_type": "markdown",
   "metadata": {},
   "source": [
    "Frequency table of Android apps by Category"
   ]
  },
  {
   "cell_type": "code",
   "execution_count": 34,
   "metadata": {},
   "outputs": [
    {
     "name": "stdout",
     "output_type": "stream",
     "text": [
      "FAMILY : 18.907942238267147\n",
      "GAME : 9.724729241877256\n",
      "TOOLS : 8.461191335740072\n",
      "BUSINESS : 4.591606498194946\n",
      "LIFESTYLE : 3.9034296028880866\n",
      "PRODUCTIVITY : 3.892148014440433\n",
      "FINANCE : 3.7003610108303246\n",
      "MEDICAL : 3.531137184115524\n",
      "SPORTS : 3.395758122743682\n",
      "PERSONALIZATION : 3.3167870036101084\n",
      "COMMUNICATION : 3.2378158844765346\n",
      "HEALTH_AND_FITNESS : 3.0798736462093865\n",
      "PHOTOGRAPHY : 2.944494584837545\n",
      "NEWS_AND_MAGAZINES : 2.7978339350180503\n",
      "SOCIAL : 2.6624548736462095\n",
      "TRAVEL_AND_LOCAL : 2.33528880866426\n",
      "SHOPPING : 2.2450361010830324\n",
      "BOOKS_AND_REFERENCE : 2.1435018050541514\n",
      "DATING : 1.861462093862816\n",
      "VIDEO_PLAYERS : 1.7937725631768955\n",
      "MAPS_AND_NAVIGATION : 1.3989169675090252\n",
      "FOOD_AND_DRINK : 1.2409747292418771\n",
      "EDUCATION : 1.1620036101083033\n",
      "ENTERTAINMENT : 0.9589350180505415\n",
      "LIBRARIES_AND_DEMO : 0.9363718411552346\n",
      "AUTO_AND_VEHICLES : 0.9250902527075812\n",
      "HOUSE_AND_HOME : 0.8235559566787004\n",
      "WEATHER : 0.8009927797833934\n",
      "EVENTS : 0.7107400722021661\n",
      "PARENTING : 0.6543321299638989\n",
      "ART_AND_DESIGN : 0.6430505415162455\n",
      "COMICS : 0.6204873646209386\n",
      "BEAUTY : 0.5979241877256317\n"
     ]
    }
   ],
   "source": [
    "display_table(free_android,1)"
   ]
  },
  {
   "cell_type": "markdown",
   "metadata": {},
   "source": [
    "Frequency table of Android Apps by Genres."
   ]
  },
  {
   "cell_type": "code",
   "execution_count": 35,
   "metadata": {},
   "outputs": [
    {
     "name": "stdout",
     "output_type": "stream",
     "text": [
      "Tools : 8.449909747292418\n",
      "Entertainment : 6.069494584837545\n",
      "Education : 5.347472924187725\n",
      "Business : 4.591606498194946\n",
      "Productivity : 3.892148014440433\n",
      "Lifestyle : 3.892148014440433\n",
      "Finance : 3.7003610108303246\n",
      "Medical : 3.531137184115524\n",
      "Sports : 3.463447653429603\n",
      "Personalization : 3.3167870036101084\n",
      "Communication : 3.2378158844765346\n",
      "Action : 3.1024368231046933\n",
      "Health & Fitness : 3.0798736462093865\n",
      "Photography : 2.944494584837545\n",
      "News & Magazines : 2.7978339350180503\n",
      "Social : 2.6624548736462095\n",
      "Travel & Local : 2.3240072202166067\n",
      "Shopping : 2.2450361010830324\n",
      "Books & Reference : 2.1435018050541514\n",
      "Simulation : 2.0419675090252705\n",
      "Dating : 1.861462093862816\n",
      "Arcade : 1.8501805054151623\n",
      "Video Players & Editors : 1.7712093862815883\n",
      "Casual : 1.7599277978339352\n",
      "Maps & Navigation : 1.3989169675090252\n",
      "Food & Drink : 1.2409747292418771\n",
      "Puzzle : 1.128158844765343\n",
      "Racing : 0.9927797833935018\n",
      "Role Playing : 0.9363718411552346\n",
      "Libraries & Demo : 0.9363718411552346\n",
      "Auto & Vehicles : 0.9250902527075812\n",
      "Strategy : 0.9138086642599278\n",
      "House & Home : 0.8235559566787004\n",
      "Weather : 0.8009927797833934\n",
      "Events : 0.7107400722021661\n",
      "Adventure : 0.6768953068592057\n",
      "Comics : 0.6092057761732852\n",
      "Beauty : 0.5979241877256317\n",
      "Art & Design : 0.5979241877256317\n",
      "Parenting : 0.4963898916967509\n",
      "Card : 0.45126353790613716\n",
      "Casino : 0.42870036101083037\n",
      "Trivia : 0.41741877256317694\n",
      "Educational;Education : 0.39485559566787\n",
      "Board : 0.3835740072202166\n",
      "Educational : 0.3722924187725632\n",
      "Education;Education : 0.33844765342960287\n",
      "Word : 0.2594765342960289\n",
      "Casual;Pretend Play : 0.236913357400722\n",
      "Music : 0.2030685920577617\n",
      "Racing;Action & Adventure : 0.16922382671480143\n",
      "Puzzle;Brain Games : 0.16922382671480143\n",
      "Entertainment;Music & Video : 0.16922382671480143\n",
      "Casual;Brain Games : 0.13537906137184114\n",
      "Casual;Action & Adventure : 0.13537906137184114\n",
      "Arcade;Action & Adventure : 0.12409747292418773\n",
      "Action;Action & Adventure : 0.10153429602888085\n",
      "Educational;Pretend Play : 0.09025270758122744\n",
      "Simulation;Action & Adventure : 0.078971119133574\n",
      "Parenting;Education : 0.078971119133574\n",
      "Entertainment;Brain Games : 0.078971119133574\n",
      "Board;Brain Games : 0.078971119133574\n",
      "Parenting;Music & Video : 0.06768953068592057\n",
      "Educational;Brain Games : 0.06768953068592057\n",
      "Casual;Creativity : 0.06768953068592057\n",
      "Art & Design;Creativity : 0.06768953068592057\n",
      "Education;Pretend Play : 0.056407942238267145\n",
      "Role Playing;Pretend Play : 0.04512635379061372\n",
      "Education;Creativity : 0.04512635379061372\n",
      "Role Playing;Action & Adventure : 0.033844765342960284\n",
      "Puzzle;Action & Adventure : 0.033844765342960284\n",
      "Entertainment;Creativity : 0.033844765342960284\n",
      "Entertainment;Action & Adventure : 0.033844765342960284\n",
      "Educational;Creativity : 0.033844765342960284\n",
      "Educational;Action & Adventure : 0.033844765342960284\n",
      "Education;Music & Video : 0.033844765342960284\n",
      "Education;Brain Games : 0.033844765342960284\n",
      "Education;Action & Adventure : 0.033844765342960284\n",
      "Adventure;Action & Adventure : 0.033844765342960284\n",
      "Video Players & Editors;Music & Video : 0.02256317689530686\n",
      "Sports;Action & Adventure : 0.02256317689530686\n",
      "Simulation;Pretend Play : 0.02256317689530686\n",
      "Puzzle;Creativity : 0.02256317689530686\n",
      "Music;Music & Video : 0.02256317689530686\n",
      "Entertainment;Pretend Play : 0.02256317689530686\n",
      "Casual;Education : 0.02256317689530686\n",
      "Board;Action & Adventure : 0.02256317689530686\n",
      "Video Players & Editors;Creativity : 0.01128158844765343\n",
      "Trivia;Education : 0.01128158844765343\n",
      "Travel & Local;Action & Adventure : 0.01128158844765343\n",
      "Tools;Education : 0.01128158844765343\n",
      "Strategy;Education : 0.01128158844765343\n",
      "Strategy;Creativity : 0.01128158844765343\n",
      "Strategy;Action & Adventure : 0.01128158844765343\n",
      "Simulation;Education : 0.01128158844765343\n",
      "Role Playing;Brain Games : 0.01128158844765343\n",
      "Racing;Pretend Play : 0.01128158844765343\n",
      "Puzzle;Education : 0.01128158844765343\n",
      "Parenting;Brain Games : 0.01128158844765343\n",
      "Music & Audio;Music & Video : 0.01128158844765343\n",
      "Lifestyle;Pretend Play : 0.01128158844765343\n",
      "Lifestyle;Education : 0.01128158844765343\n",
      "Health & Fitness;Education : 0.01128158844765343\n",
      "Health & Fitness;Action & Adventure : 0.01128158844765343\n",
      "Entertainment;Education : 0.01128158844765343\n",
      "Communication;Creativity : 0.01128158844765343\n",
      "Comics;Creativity : 0.01128158844765343\n",
      "Casual;Music & Video : 0.01128158844765343\n",
      "Card;Action & Adventure : 0.01128158844765343\n",
      "Books & Reference;Education : 0.01128158844765343\n",
      "Art & Design;Pretend Play : 0.01128158844765343\n",
      "Art & Design;Action & Adventure : 0.01128158844765343\n",
      "Arcade;Pretend Play : 0.01128158844765343\n",
      "Adventure;Education : 0.01128158844765343\n"
     ]
    }
   ],
   "source": [
    "display_table(free_android,-4)"
   ]
  },
  {
   "cell_type": "markdown",
   "metadata": {},
   "source": [
    "### Inferences for Android Apps."
   ]
  },
  {
   "cell_type": "markdown",
   "metadata": {},
   "source": [
    "1. The most widely available app category corresponds to **FAMILY** at **18.9%** whereas the **Tools** genre has most number of apps at **8.45%**. \n",
    "2. A few next most common apps belong to categories, **Games(9.7%), Tools(8%), Business(4.5%)** and so on.\n",
    "3. A few next most common apps belong to genres, **Entertainment(6%), Education(5%), Business(4.5%)** and so on.\n",
    "\n",
    "The **FAMILY** search on google results in gaming apps for kids. That means that although the most common category corresponds to gaming and fun, the most common genres are more inclined towards productivity, business and practical applications.\n",
    "\n",
    "Therefore, we can infer that **Google Play shows a balanced landscape of both free practical and fun apps in English Language.**\n",
    "\n",
    "\n"
   ]
  },
  {
   "cell_type": "markdown",
   "metadata": {},
   "source": [
    "Frequency table of IOS Apps by Prime Genres"
   ]
  },
  {
   "cell_type": "code",
   "execution_count": 36,
   "metadata": {},
   "outputs": [
    {
     "name": "stdout",
     "output_type": "stream",
     "text": [
      "Games : 58.16263190564867\n",
      "Entertainment : 7.883302296710118\n",
      "Photo & Video : 4.9658597144630665\n",
      "Education : 3.662321539416512\n",
      "Social Networking : 3.2898820608317814\n",
      "Shopping : 2.60707635009311\n",
      "Utilities : 2.5139664804469275\n",
      "Sports : 2.1415270018621975\n",
      "Music : 2.0484171322160147\n",
      "Health & Fitness : 2.0173805090006205\n",
      "Productivity : 1.7380509000620732\n",
      "Lifestyle : 1.5828677839851024\n",
      "News : 1.3345747982619491\n",
      "Travel : 1.2414649286157666\n",
      "Finance : 1.1173184357541899\n",
      "Weather : 0.8690254500310366\n",
      "Food & Drink : 0.8069522036002483\n",
      "Reference : 0.5586592178770949\n",
      "Business : 0.5276225946617008\n",
      "Book : 0.4345127250155183\n",
      "Navigation : 0.186219739292365\n",
      "Medical : 0.186219739292365\n",
      "Catalogs : 0.12414649286157665\n"
     ]
    }
   ],
   "source": [
    "display_table(free_ios,11)"
   ]
  },
  {
   "cell_type": "markdown",
   "metadata": {},
   "source": [
    "### Inferences for the IOS Apps."
   ]
  },
  {
   "cell_type": "markdown",
   "metadata": {},
   "source": [
    "1. The most widely available app genre corresponds to **Games** at a whopping **58.1%**. \n",
    "2. A few next most common apps belong to genres, **Entertainment(7.88%), Photo and Video(4.96%)** and so on.\n",
    "\n",
    "Therefore, we can infer that the **App Store has more free fun and entertainment based apps in English Language.**\n",
    "\n"
   ]
  },
  {
   "cell_type": "markdown",
   "metadata": {},
   "source": [
    "Although, we have reached some conclusions about the most common categories on both the markets, we still aren't completely aware of the types of apps that attract most users.\n",
    "One way to find out what genres are the most popular (have the most users) is to calculate the average number of installs for each app genre.\n",
    "\n",
    "Let's start with calculating the average number of user ratings per app genre on the App Store"
   ]
  },
  {
   "cell_type": "code",
   "execution_count": 69,
   "metadata": {},
   "outputs": [],
   "source": [
    "unique_genre_ios=freq_table(free_ios,-5)"
   ]
  },
  {
   "cell_type": "code",
   "execution_count": 70,
   "metadata": {},
   "outputs": [
    {
     "data": {
      "text/plain": [
       "{'Navigation': 86090.33333333333,\n",
       " 'Reference': 74942.11111111111,\n",
       " 'Social Networking': 71548.34905660378,\n",
       " 'Music': 57326.530303030304,\n",
       " 'Weather': 52279.892857142855,\n",
       " 'Book': 39758.5,\n",
       " 'Food & Drink': 33333.92307692308,\n",
       " 'Finance': 31467.944444444445,\n",
       " 'Photo & Video': 28441.54375,\n",
       " 'Travel': 28243.8,\n",
       " 'Shopping': 26919.690476190477,\n",
       " 'Health & Fitness': 23298.015384615384,\n",
       " 'Sports': 23008.898550724636,\n",
       " 'Games': 22788.6696905016,\n",
       " 'News': 21248.023255813954,\n",
       " 'Productivity': 21028.410714285714,\n",
       " 'Utilities': 18684.456790123455,\n",
       " 'Lifestyle': 16485.764705882353,\n",
       " 'Entertainment': 14029.830708661417,\n",
       " 'Business': 7491.117647058823,\n",
       " 'Education': 7003.983050847458,\n",
       " 'Catalogs': 4004.0,\n",
       " 'Medical': 612.0}"
      ]
     },
     "execution_count": 70,
     "metadata": {},
     "output_type": "execute_result"
    }
   ],
   "source": [
    "genre_avg_rating={}\n",
    "for genre in unique_genre_ios:\n",
    "    total=0\n",
    "    len_genre=0\n",
    "    for row in free_ios:\n",
    "        if row[-5]==genre:\n",
    "            total+=float(row[5])\n",
    "            len_genre+=1\n",
    "    genre_avg_rating[genre]=total/len_genre\n",
    "\n",
    "dict(sorted(genre_avg_rating.items(), key=lambda item: item[1],reverse = True))"
   ]
  },
  {
   "cell_type": "markdown",
   "metadata": {},
   "source": [
    "We see that the **Navigation** genre has highest number of average reviews. The next most highly reviewed are **Reference** and **Social Networking**.\n",
    "Let us further drill down these genres and see if the ratings are somewhere skewed or not."
   ]
  },
  {
   "cell_type": "code",
   "execution_count": 71,
   "metadata": {},
   "outputs": [
    {
     "name": "stdout",
     "output_type": "stream",
     "text": [
      "Waze - GPS Navigation, Maps & Real-time Traffic 345046\n",
      "Google Maps - Navigation & Transit 154911\n",
      "Geocaching® 12811\n",
      "CoPilot GPS – Car Navigation & Offline Maps 3582\n",
      "ImmobilienScout24: Real Estate Search in Germany 187\n",
      "Railway Route Search 5\n"
     ]
    }
   ],
   "source": [
    "for row in free_ios:\n",
    "    if row[-5]==\"Navigation\":\n",
    "        print(row[1],row[5])"
   ]
  },
  {
   "cell_type": "markdown",
   "metadata": {},
   "source": [
    "Here most number of reviews are dominated by 2 applications, Waze and Google maps. Recommending a navigation app, will put the application up for a cut throat competition with these 2 apps that are much more popular that other applications in the same category\n",
    "\n",
    "Let us explore **Reference** category."
   ]
  },
  {
   "cell_type": "code",
   "execution_count": 72,
   "metadata": {},
   "outputs": [
    {
     "name": "stdout",
     "output_type": "stream",
     "text": [
      "Bible 985920\n",
      "Dictionary.com Dictionary & Thesaurus 200047\n",
      "Dictionary.com Dictionary & Thesaurus for iPad 54175\n",
      "Google Translate 26786\n",
      "Muslim Pro: Ramadan 2017 Prayer Times, Azan, Quran 18418\n",
      "New Furniture Mods - Pocket Wiki & Game Tools for Minecraft PC Edition 17588\n",
      "Merriam-Webster Dictionary 16849\n",
      "Night Sky 12122\n",
      "City Maps for Minecraft PE - The Best Maps for Minecraft Pocket Edition (MCPE) 8535\n",
      "LUCKY BLOCK MOD ™ for Minecraft PC Edition - The Best Pocket Wiki & Mods Installer Tools 4693\n",
      "GUNS MODS for Minecraft PC Edition - Mods Tools 1497\n",
      "Guides for Pokémon GO - Pokemon GO News and Cheats 826\n",
      "WWDC 762\n",
      "Horror Maps for Minecraft PE - Download The Scariest Maps for Minecraft Pocket Edition (MCPE) Free 718\n",
      "VPN Express 14\n",
      "Real Bike Traffic Rider Virtual Reality Glasses 8\n",
      "教えて!goo 0\n",
      "Jishokun-Japanese English Dictionary & Translator 0\n"
     ]
    }
   ],
   "source": [
    "for row in free_ios:\n",
    "    if row[-5]==\"Reference\":\n",
    "        print(row[1],row[5])"
   ]
  },
  {
   "cell_type": "markdown",
   "metadata": {},
   "source": [
    "We see that in the app store, religious books are quite popular as well as some dictionaries and apps like Google Translate is quite popular as well. This can make us recommend an app for the app store, which is practical in terms of helping people improve their language skills. We can make an app that is interactive, for instance, generates word of the day, gives grammar tips and has a dictionary as well. \n",
    "The dictionary can be made more fun with some animations."
   ]
  },
  {
   "cell_type": "code",
   "execution_count": 73,
   "metadata": {},
   "outputs": [
    {
     "name": "stdout",
     "output_type": "stream",
     "text": [
      "Facebook 2974676\n",
      "Pinterest 1061624\n",
      "Skype for iPhone 373519\n",
      "Messenger 351466\n",
      "Tumblr 334293\n",
      "WhatsApp Messenger 287589\n",
      "Kik 260965\n",
      "ooVoo – Free Video Call, Text and Voice 177501\n",
      "TextNow - Unlimited Text + Calls 164963\n",
      "Viber Messenger – Text & Call 164249\n",
      "Followers - Social Analytics For Instagram 112778\n",
      "MeetMe - Chat and Meet New People 97072\n",
      "We Heart It - Fashion, wallpapers, quotes, tattoos 90414\n",
      "InsTrack for Instagram - Analytics Plus More 85535\n",
      "Tango - Free Video Call, Voice and Chat 75412\n",
      "LinkedIn 71856\n",
      "Match™ - #1 Dating App. 60659\n",
      "Skype for iPad 60163\n",
      "POF - Best Dating App for Conversations 52642\n",
      "Timehop 49510\n",
      "Find My Family, Friends & iPhone - Life360 Locator 43877\n",
      "Whisper - Share, Express, Meet 39819\n",
      "Hangouts 36404\n",
      "LINE PLAY - Your Avatar World 34677\n",
      "WeChat 34584\n",
      "Badoo - Meet New People, Chat, Socialize. 34428\n",
      "Followers + for Instagram - Follower Analytics 28633\n",
      "GroupMe 28260\n",
      "Marco Polo Video Walkie Talkie 27662\n",
      "Miitomo 23965\n",
      "SimSimi 23530\n",
      "Grindr - Gay and same sex guys chat, meet and date 23201\n",
      "Wishbone - Compare Anything 20649\n",
      "imo video calls and chat 18841\n",
      "After School - Funny Anonymous School News 18482\n",
      "Quick Reposter - Repost, Regram and Reshare Photos 17694\n",
      "Weibo HD 16772\n",
      "Repost for Instagram 15185\n",
      "Live.me – Live Video Chat & Make Friends Nearby 14724\n",
      "Nextdoor 14402\n",
      "Followers Analytics for Instagram - InstaReport 13914\n",
      "YouNow: Live Stream Video Chat 12079\n",
      "FollowMeter for Instagram - Followers Tracking 11976\n",
      "LINE 11437\n",
      "eHarmony™ Dating App - Meet Singles 11124\n",
      "Discord - Chat for Gamers 9152\n",
      "QQ 9109\n",
      "Telegram Messenger 7573\n",
      "Weibo 7265\n",
      "Periscope - Live Video Streaming Around the World 6062\n",
      "Chat for Whatsapp - iPad Version 5060\n",
      "QQ HD 5058\n",
      "Followers Analysis Tool For Instagram App Free 4253\n",
      "live.ly - live video streaming 4145\n",
      "Houseparty - Group Video Chat 3991\n",
      "SOMA Messenger 3232\n",
      "Monkey 3060\n",
      "Down To Lunch 2535\n",
      "Flinch - Video Chat Staring Contest 2134\n",
      "Highrise - Your Avatar Community 2011\n",
      "LOVOO - Dating Chat 1985\n",
      "PlayStation®Messages 1918\n",
      "BOO! - Video chat camera with filters & stickers 1805\n",
      "Qzone 1649\n",
      "Chatous - Chat with new people 1609\n",
      "Kiwi - Q&A 1538\n",
      "GhostCodes - a discovery app for Snapchat 1313\n",
      "Jodel 1193\n",
      "FireChat 1037\n",
      "Google Duo - simple video calling 1033\n",
      "Fiesta by Tango - Chat & Meet New People 885\n",
      "Google Allo — smart messaging 862\n",
      "Peach — share vividly 727\n",
      "Hey! VINA - Where Women Meet New Friends 719\n",
      "Battlefield™ Companion 689\n",
      "All Devices for WhatsApp - Messenger for iPad 682\n",
      "Chat for Pokemon Go - GoChat 500\n",
      "IAmNaughty – Dating App to Meet New People Online 463\n",
      "Qzone HD 458\n",
      "Zenly - Locate your friends in realtime 427\n",
      "League of Legends Friends 420\n",
      "豆瓣 407\n",
      "Candid - Speak Your Mind Freely 398\n",
      "知乎 397\n",
      "Selfeo 366\n",
      "Fake-A-Location Free ™ 354\n",
      "Popcorn Buzz - Free Group Calls 281\n",
      "Fam — Group video calling for iMessage 279\n",
      "QQ International 274\n",
      "Ameba 269\n",
      "SoundCloud Pulse: for creators 240\n",
      "Tantan 235\n",
      "Cougar Dating & Life Style App for Mature Women 213\n",
      "Rawr Messenger - Dab your chat 180\n",
      "WhenToPost: Best Time to Post Photos for Instagram 158\n",
      "Inke—Broadcast an amazing life 147\n",
      "Mustknow - anonymous video Q&A 53\n",
      "CTFxCmoji 39\n",
      "Lobi 36\n",
      "Chain: Collaborate On MyVideo Story/Group Video 35\n",
      "botman - Real time video chat 7\n",
      "BestieBox 0\n",
      "MATCH ON LINE chat 0\n",
      "niconico ch 0\n",
      "LINE BLOG 0\n",
      "bit-tube - Live Stream Video Chat 0\n"
     ]
    }
   ],
   "source": [
    "for row in free_ios:\n",
    "    if row[-5]==\"Social Networking\":\n",
    "        print(row[1],row[5])"
   ]
  },
  {
   "cell_type": "markdown",
   "metadata": {},
   "source": [
    "Social Networking sites are again dominated by the giants, Facebook, Skype, Whatsapp etc. Using the same argument as we did for Navigation, we cannot recommend an app for this category."
   ]
  },
  {
   "cell_type": "markdown",
   "metadata": {},
   "source": [
    "\n",
    "\n",
    "Now let's calculate the average number of installs per app genre for the Google Play dataset. "
   ]
  },
  {
   "cell_type": "markdown",
   "metadata": {},
   "source": [
    "The install numbers don't seem precise enough — we can see that most values are open-ended (100+, 1,000+, 5,000+, etc.) We're going to leave the numbers as they are, which means that we'll consider that an app with 100,000+ installs has 100,000 installs, and an app with 1,000,000+ installs has 1,000,000 installs, and so on. To perform computations, however, we'll need to convert each install number from a string to a float. This means we need to remove the commas and the plus characters, or the conversion will fail and cause an error."
   ]
  },
  {
   "cell_type": "markdown",
   "metadata": {},
   "source": [
    "We can use the str.replace( ) to replace unwanted characters with the empty string ''."
   ]
  },
  {
   "cell_type": "code",
   "execution_count": 75,
   "metadata": {},
   "outputs": [
    {
     "name": "stdout",
     "output_type": "stream",
     "text": [
      "['Photo Editor & Candy Camera & Grid & ScrapBook', 'ART_AND_DESIGN', '4.1', '159', '19M', '10,000+', 'Free', '0', 'Everyone', 'Art & Design', 'January 7, 2018', '1.0.0', '4.0.3 and up']\n",
      "\n",
      "\n",
      "['U Launcher Lite – FREE Live Cool Themes, Hide Apps', 'ART_AND_DESIGN', '4.7', '87510', '8.7M', '5,000,000+', 'Free', '0', 'Everyone', 'Art & Design', 'August 1, 2018', '1.2.4', '4.0.3 and up']\n",
      "\n",
      "\n",
      "['Sketch - Draw & Paint', 'ART_AND_DESIGN', '4.5', '215644', '25M', '50,000,000+', 'Free', '0', 'Teen', 'Art & Design', 'June 8, 2018', 'Varies with device', '4.2 and up']\n",
      "\n",
      "\n"
     ]
    }
   ],
   "source": [
    "explore_data(free_android,0,3)"
   ]
  },
  {
   "cell_type": "markdown",
   "metadata": {},
   "source": [
    "Let us generate a list for the unique Categories in the dataset."
   ]
  },
  {
   "cell_type": "code",
   "execution_count": 80,
   "metadata": {},
   "outputs": [],
   "source": [
    "unique_category_android=freq_table(free_android,1)"
   ]
  },
  {
   "cell_type": "code",
   "execution_count": 90,
   "metadata": {},
   "outputs": [
    {
     "data": {
      "text/plain": [
       "{'COMMUNICATION': 38456119.167247385,\n",
       " 'VIDEO_PLAYERS': 24727872.452830188,\n",
       " 'SOCIAL': 23253652.127118643,\n",
       " 'PHOTOGRAPHY': 17840110.40229885,\n",
       " 'PRODUCTIVITY': 16787331.344927534,\n",
       " 'GAME': 15588015.603248259,\n",
       " 'TRAVEL_AND_LOCAL': 13984077.710144928,\n",
       " 'ENTERTAINMENT': 11640705.88235294,\n",
       " 'TOOLS': 10801391.298666667,\n",
       " 'NEWS_AND_MAGAZINES': 9549178.467741935,\n",
       " 'BOOKS_AND_REFERENCE': 8767811.894736841,\n",
       " 'SHOPPING': 7036877.311557789,\n",
       " 'PERSONALIZATION': 5201482.6122448975,\n",
       " 'WEATHER': 5074486.197183099,\n",
       " 'HEALTH_AND_FITNESS': 4188821.9853479853,\n",
       " 'MAPS_AND_NAVIGATION': 4056941.7741935486,\n",
       " 'FAMILY': 3695641.8198090694,\n",
       " 'SPORTS': 3638640.1428571427,\n",
       " 'ART_AND_DESIGN': 1986335.0877192982,\n",
       " 'FOOD_AND_DRINK': 1924897.7363636363,\n",
       " 'EDUCATION': 1833495.145631068,\n",
       " 'BUSINESS': 1712290.1474201474,\n",
       " 'LIFESTYLE': 1437816.2687861272,\n",
       " 'FINANCE': 1387692.475609756,\n",
       " 'HOUSE_AND_HOME': 1331540.5616438356,\n",
       " 'DATING': 854028.8303030303,\n",
       " 'COMICS': 817657.2727272727,\n",
       " 'AUTO_AND_VEHICLES': 647317.8170731707,\n",
       " 'LIBRARIES_AND_DEMO': 638503.734939759,\n",
       " 'PARENTING': 542603.6206896552,\n",
       " 'BEAUTY': 513151.88679245283,\n",
       " 'EVENTS': 253542.22222222222,\n",
       " 'MEDICAL': 120550.61980830671}"
      ]
     },
     "execution_count": 90,
     "metadata": {},
     "output_type": "execute_result"
    }
   ],
   "source": [
    "avg_installs={}\n",
    "for cg in unique_category_android:\n",
    "    total=0\n",
    "    len_cg=0\n",
    "    for row in free_android:\n",
    "        if row[1]==cg:\n",
    "            installs=row[5].replace('+','')\n",
    "            installs=installs.replace(',','')\n",
    "            len_cg+=1\n",
    "            total+=float(installs)\n",
    "    avg_installs[cg]=total/len_cg\n",
    "\n",
    "dict(sorted(avg_installs.items(), key=lambda item: item[1],reverse = True))\n"
   ]
  },
  {
   "cell_type": "markdown",
   "metadata": {},
   "source": [
    "Most Popular categories and their average installs:\n",
    "  1. COMMUNICATION: 38456119\n",
    "  2. VIDEO_PLAYERS: 24727872\n",
    "  3. SOCIAL: 23253652\n",
    "  4. PHOTOGRAPHY: 17840110"
   ]
  },
  {
   "cell_type": "markdown",
   "metadata": {},
   "source": [
    "Let us explore **Communication** category.\n"
   ]
  },
  {
   "cell_type": "code",
   "execution_count": 92,
   "metadata": {},
   "outputs": [
    {
     "name": "stdout",
     "output_type": "stream",
     "text": [
      "WhatsApp Messenger 1,000,000,000+\n",
      "Messenger for SMS 10,000,000+\n",
      "My Tele2 5,000,000+\n",
      "imo beta free calls and text 100,000,000+\n",
      "Contacts 50,000,000+\n",
      "Call Free – Free Call 5,000,000+\n",
      "Web Browser & Explorer 5,000,000+\n",
      "Browser 4G 10,000,000+\n",
      "MegaFon Dashboard 10,000,000+\n",
      "ZenUI Dialer & Contacts 10,000,000+\n",
      "Cricket Visual Voicemail 10,000,000+\n",
      "TracFone My Account 1,000,000+\n",
      "Xperia Link™ 10,000,000+\n",
      "TouchPal Keyboard - Fun Emoji & Android Keyboard 10,000,000+\n",
      "Skype Lite - Free Video Call & Chat 5,000,000+\n",
      "My magenta 1,000,000+\n",
      "Android Messages 100,000,000+\n",
      "Google Duo - High Quality Video Calls 500,000,000+\n",
      "Seznam.cz 1,000,000+\n",
      "Antillean Gold Telegram (original version) 100,000+\n",
      "AT&T Visual Voicemail 10,000,000+\n",
      "GMX Mail 10,000,000+\n",
      "Omlet Chat 10,000,000+\n",
      "My Vodacom SA 5,000,000+\n",
      "Microsoft Edge 5,000,000+\n",
      "Messenger – Text and Video Chat for Free 1,000,000,000+\n",
      "imo free video calls and chat 500,000,000+\n",
      "Calls & Text by Mo+ 5,000,000+\n",
      "free video calls and chat 50,000,000+\n",
      "Skype - free IM & video calls 1,000,000,000+\n",
      "Who 100,000,000+\n",
      "GO SMS Pro - Messenger, Free Themes, Emoji 100,000,000+\n",
      "Messaging+ SMS, MMS Free 1,000,000+\n",
      "chomp SMS 10,000,000+\n",
      "Glide - Video Chat Messenger 10,000,000+\n",
      "Text SMS 10,000,000+\n",
      "Talkray - Free Calls & Texts 10,000,000+\n",
      "LINE: Free Calls & Messages 500,000,000+\n",
      "GroupMe 10,000,000+\n",
      "mysms SMS Text Messaging Sync 1,000,000+\n",
      "2ndLine - Second Phone Number 1,000,000+\n",
      "Google Chrome: Fast & Secure 1,000,000,000+\n",
      "Firefox Browser fast & private 100,000,000+\n",
      "Ninesky Browser 1,000,000+\n",
      "Dolphin Browser - Fast, Private & Adblock🐬 50,000,000+\n",
      "UC Browser - Fast Download Private & Secure 500,000,000+\n",
      "Ghostery Privacy Browser 1,000,000+\n",
      "InBrowser - Incognito Browsing 1,000,000+\n",
      "Lightning Web Browser 500,000+\n",
      "Web Browser 500,000+\n",
      "Contacts+ 10,000,000+\n",
      "ExDialer - Dialer & Contacts 10,000,000+\n",
      "PHONE for Google Voice & GTalk 1,000,000+\n",
      "Safest Call Blocker 1,000,000+\n",
      "Full Screen Caller ID 5,000,000+\n",
      "Hiya - Caller ID & Block 10,000,000+\n",
      "Mr. Number-Block calls & spam 10,000,000+\n",
      "Should I Answer? 1,000,000+\n",
      "RocketDial Dialer & Contacts 1,000,000+\n",
      "CIA - Caller ID & Call Blocker 5,000,000+\n",
      "Calls Blacklist - Call Blocker 10,000,000+\n",
      "Call Control - Call Blocker 5,000,000+\n",
      "True Contact - Real Caller ID 1,000,000+\n",
      "Video Caller Id 1,000,000+\n",
      "Sync.ME – Caller ID & Block 5,000,000+\n",
      "Burner - Free Phone Number 1,000,000+\n",
      "Caller ID + 1,000,000+\n",
      "Gmail 1,000,000,000+\n",
      "K-9 Mail 5,000,000+\n",
      "myMail – Email for Hotmail, Gmail and Outlook Mail 10,000,000+\n",
      "Email TypeApp - Mail App 1,000,000+\n",
      "All Email Providers 1,000,000+\n",
      "Newton Mail - Email App for Gmail, Outlook, IMAP 1,000,000+\n",
      "GO Notifier 10,000,000+\n",
      "Mail.Ru - Email App 50,000,000+\n",
      "Mail1Click - Secure Mail 10,000+\n",
      "Daum Mail - Next Mail 5,000,000+\n",
      "mail.com mail 1,000,000+\n",
      "SolMail - All-in-One email app 500,000+\n",
      "Hangouts 1,000,000,000+\n",
      "Vonage Mobile® Call Video Text 1,000,000+\n",
      "JusTalk - Free Video Calls and Fun Video Chat 5,000,000+\n",
      "Azar 50,000,000+\n",
      "LokLok: Draw on a Lock Screen 500,000+\n",
      "Discord - Chat for Gamers 10,000,000+\n",
      "Messenger Lite: Free Calls & Messages 100,000,000+\n",
      "AntennaPict β 1,000,000+\n",
      "Talkatone: Free Texts, Calls & Phone Number 10,000,000+\n",
      "Kik 100,000,000+\n",
      "K-@ Mail - Email App 100,000+\n",
      "KakaoTalk: Free Calls & Text 100,000,000+\n",
      "K-9 Material (unofficial) 5,000+\n",
      "M star Dialer 100,000+\n",
      "Free WiFi Connect 10,000,000+\n",
      "m:go BiH 10,000+\n",
      "N-Com Wizard 50,000+\n",
      "Opera Mini - fast web browser 100,000,000+\n",
      "Opera Browser: Fast and Secure 100,000,000+\n",
      "Opera Mini browser beta 10,000,000+\n",
      "Psiphon Pro - The Internet Freedom VPN 10,000,000+\n",
      "ICQ — Video Calls & Chat Messenger 10,000,000+\n",
      "Telegram 100,000,000+\n",
      "AT&T Messages for Tablet 1,000,000+\n",
      "T-Mobile DIGITS 100,000+\n",
      "Truecaller: Caller ID, SMS spam blocking & Dialer 100,000,000+\n",
      "Portable Wi-Fi hotspot 10,000,000+\n",
      "AT&T Call Protect 5,000,000+\n",
      "U - Webinars, Meetings & Messenger 500,000+\n",
      "UC Browser Mini -Tiny Fast Private & Secure 100,000,000+\n",
      "/u/app 10,000+\n",
      "[verify-U] VideoIdent 10,000+\n",
      "Viber Messenger 500,000,000+\n",
      "WeChat 100,000,000+\n",
      "WhatsApp Business 10,000,000+\n",
      "WhatsCall Free Global Phone Call App & Cheap Calls 10,000,000+\n",
      "X Browser 50,000+\n",
      "Yahoo Mail – Stay Organized 100,000,000+\n",
      "Free Adblocker Browser - Adblock & Popup Blocker 10,000,000+\n",
      "Adblock Browser for Android 10,000,000+\n",
      "CM Browser - Ad Blocker , Fast Download , Privacy 50,000,000+\n",
      "Adblock Plus for Samsung Internet - Browse safe. 1,000,000+\n",
      "Ad Blocker Turbo - Adblocker Browser 10,000+\n",
      "Brave Browser: Fast AdBlocker 5,000,000+\n",
      "AG Contacts, Lite edition 5,000+\n",
      "Oklahoma Ag Co-op Council 10+\n",
      "Bee'ah Employee App 100+\n",
      "tournaments and more.aj.2 100+\n",
      "Aj.Petra 100+\n",
      "AK Phone 5,000+\n",
      "PlacarTv Futebol Ao Vivo 100,000+\n",
      "WiFi Access Point (hotspot) 100,000+\n",
      "Access Point Names 10,000+\n",
      "Puffin Web Browser 10,000,000+\n",
      "ClanHQ 10,000+\n",
      "Ear Agent: Super Hearing 5,000,000+\n",
      "Google Voice 10,000,000+\n",
      "Google Allo 10,000,000+\n",
      "AU Call Blocker - Block Unwanted Calls Texts 2018 1,000+\n",
      "Baby Monitor AV 100,000+\n",
      "AV Phone 1,000+\n",
      "AW - free video calls and chat 1,000,000+\n",
      "Katalogen.ax 100+\n",
      "AZ Browser. Private & Download 100,000+\n",
      "BA SALES 1+\n",
      "BD Data Plan (3G & 4G) 500,000+\n",
      "BD Internet Packages (Updated) 50,000+\n",
      "BD Dialer 10,000+\n",
      "BD Live Call 5,000+\n",
      "Best Browser BD social networking 10+\n",
      "Traffic signs BD 500+\n",
      "BF Browser by Betfilter - Stop Gambling Today! 10,000+\n",
      "My BF App 50,000+\n",
      "BH Mail 1,000+\n",
      "Zalo – Video Call 50,000,000+\n",
      "BJ - Confidential 10+\n",
      "BK Chat 1,000+\n",
      "Of the wall Arapaho bk 5+\n",
      "AC-BL 50+\n",
      "BBM - Free Calls & Messages 100,000,000+\n",
      "DMR BrandMeister Tool 10,000+\n",
      "BBMoji - Your personalized BBM Stickers 1,000,000+\n",
      "BN MALLORCA Radio 1,000+\n",
      "BQ Partners 1,000+\n",
      "BS-Mobile 50+\n",
      "ATC Unico BS 500+\n",
      "BT One Voice mobile access 5,000+\n",
      "BT Messenger 50,000+\n",
      "BT One Phone Mobile App 10,000+\n",
      "SW-100.tch by Callstel 1,000,000+\n",
      "BT MeetMe with Dolby Voice 100,000+\n",
      "Bluetooth Auto Connect 5,000,000+\n",
      "AudioBT: BT audio GPS/SMS/Text 50,000+\n",
      "BV 100+\n",
      "Feel Performer 10,000+\n",
      "Tiny Call Confirm 1,000,000+\n",
      "CB Radio Chat - for friends! 1,000,000+\n",
      "CB On Mobile 100,000+\n",
      "Virtual Walkie Talkie 1,000,000+\n",
      "Channel 19 100,000+\n",
      "Cb browser 50+\n",
      "CF Chat: Connecting Friends 100+\n",
      "retteMi.ch 5,000+\n",
      "Chrome Dev 5,000,000+\n",
      "CJ Browser - Fast & Private 100+\n",
      "CJ DVD Rentals 100+\n",
      "CK Call NEW 10+\n",
      "CM Transfer - Share any files with friends nearby 5,000,000+\n",
      "mail.co.uk Mail 5,000+\n",
      "ClanPlay: Community and Tools for Gamers 1,000,000+\n",
      "CQ-Mobile 1,000+\n",
      "CQ-Alert 500+\n",
      "QRZ Assistant 100,000+\n",
      "Pocket Prefix Plus 10,000+\n",
      "Ham Radio Prefixes 10,000+\n",
      "CS Customizer 1,000+\n",
      "CS Browser | #1 & BEST BROWSER 1,000+\n",
      "CS Browser Beta 5,000+\n",
      "My Vodafone (GR) 1,000,000+\n",
      "IZ2UUF Morse Koch CW 50,000+\n",
      "C W Browser 100+\n",
      "CW Bluetooth SPP 100+\n",
      "CW BLE Peripheral Simulator 500+\n",
      "Morse Code Reader 100,000+\n",
      "Learn Morse Code - G0HYN Learn Morse 5,000+\n",
      "Ring 10,000+\n",
      "Hyundai CX Conference 50+\n",
      "Cy Messenger 100+\n",
      "Amadeus GR & CY 100+\n",
      "Hlášenírozhlasu.cz 10+\n",
      "SMS Sender - sluzba.cz 1,000+\n",
      "WEB.DE Mail 10,000,000+\n",
      "Your Freedom VPN Client 5,000,000+\n",
      "CallApp: Caller ID, Blocker & Phone Call Recorder 10,000,000+\n",
      "Rádio Sol Nascente DF 500+\n",
      "DG Card 100+\n",
      "Whoscall - Caller ID & Block 10,000,000+\n",
      "DK Browser 10+\n",
      "cluster.dk 1,000+\n",
      "DK TEL Dialer 50+\n",
      "DM for WhatsApp 5,000+\n",
      "DM Talk New 5,000+\n",
      "DM - The Offical Messaging App 10+\n",
      "DM Tracker 1,000+\n",
      "Call Blocker & Blacklist 1,000+\n",
      "ReadyOp DT 1,000+\n",
      "DU Browser—Browse fast & fun 10,000,000+\n",
      "Caller ID & Call Block - DU Caller 5,000,000+\n",
      "BlueDV AMBE 1,000+\n",
      "DW Contacts & Phone & Dialer 1,000,000+\n",
      "Deaf World DW 10,000+\n",
      "Ham DX Cluster & Spots Finder 5,000+\n",
      "Mircules DX Cluster Lite 5,000+\n",
      "3G DZ Configuration 50,000+\n",
      "chat dz 100+\n",
      "love sms good morning 5,000+\n",
      "Goodbox - Mega App 100,000+\n",
      "Call Blocker - Blacklist, SMS Blocker 1,000,000+\n",
      "[EF]ShoutBox 100+\n",
      "Eg Call 10,000+\n",
      "ei 10+\n",
      "EJ messenger 10+\n",
      "Ek IRA 10+\n",
      "Orfox: Tor Browser for Android 10,000,000+\n",
      "EO Mumbai 10+\n",
      "EP RSS Reader 100+\n",
      "Voxer Walkie Talkie Messenger 10,000,000+\n",
      "ES-1 500+\n",
      "Hangouts Dialer - Call Phones 10,000,000+\n",
      "EU Council 1,000+\n",
      "Council Voting Calculator 5,000+\n",
      "Have your say on Europe 500+\n",
      "Programi podrške EU 100+\n",
      "Inbox.eu 10,000+\n",
      "Web Browser for Android 1,000,000+\n",
      "Everbridge 100,000+\n",
      "Best Auto Call Recorder Free 500+\n",
      "EZ Wifi Notification 10,000+\n",
      "Test Server SMS FA 5+\n",
      "Lite for Facebook Messenger 1,000,000+\n",
      "FC Browser - Focus Privacy Browser 1,000+\n",
      "EHiN-FH conferenceapp 100+\n",
      "Carpooling FH Hagenberg 100+\n",
      "Wi-Fi Auto-connect 1,000,000+\n",
      "Talkie - Wi-Fi Calling, Chats, File Sharing 500,000+\n",
      "WeFi - Free Fast WiFi Connect & Find Wi-Fi Map 1,000,000+\n",
      "Sat-Fi 5,000+\n",
      "Portable Wi-Fi hotspot Free 100,000+\n",
      "TownWiFi | Wi-Fi Everywhere 500,000+\n",
      "Jazz Wi-Fi 10,000+\n",
      "Sat-Fi Voice 1,000+\n",
      "Free Wi-fi HotspoT 50,000+\n",
      "FN Web Radio 10+\n",
      "FNH Payment Info 10+\n",
      "MARKET FO 100+\n",
      "FO OP St-Nazaire 100+\n",
      "FO SODEXO 100+\n",
      "FO RCBT 100+\n",
      "FO Interim 100+\n",
      "FO PSA Sept-Fons 100+\n",
      "FO AIRBUS TLSE 1,000+\n",
      "FO STELIA Méaulte 100+\n",
      "FO AIRBUS Nantes 100+\n",
      "Firefox Focus: The privacy browser 1,000,000+\n",
      "FP Connect 100+\n",
      "FreedomPop Messaging Phone/SIM 500,000+\n",
      "FP Live 10+\n",
      "HipChat - beta version 50,000+\n"
     ]
    }
   ],
   "source": [
    "for row in free_android:\n",
    "    if row[1]==\"COMMUNICATION\":\n",
    "        print(row[0],row[5])"
   ]
  },
  {
   "cell_type": "markdown",
   "metadata": {},
   "source": [
    "As expected, this category is also dominated by conglomerate likes Google(Duo), Facebook(Messenger) and Whatsapp. It is quite tough to introduce a new app in such a category\n",
    "\n",
    "Let us explore **Video_players** category"
   ]
  },
  {
   "cell_type": "code",
   "execution_count": 93,
   "metadata": {},
   "outputs": [
    {
     "name": "stdout",
     "output_type": "stream",
     "text": [
      "YouTube 1,000,000,000+\n",
      "All Video Downloader 2018 1,000,000+\n",
      "Video Downloader 10,000,000+\n",
      "HD Video Player 1,000,000+\n",
      "Iqiyi (for tablet) 1,000,000+\n",
      "Video Player All Format 10,000,000+\n",
      "Motorola Gallery 100,000,000+\n",
      "Free TV series 100,000+\n",
      "Video Player All Format for Android 500,000+\n",
      "VLC for Android 100,000,000+\n",
      "Code 10,000,000+\n",
      "Vote for 50,000,000+\n",
      "XX HD Video downloader-Free Video Downloader 1,000,000+\n",
      "OBJECTIVE 1,000,000+\n",
      "Music - Mp3 Player 10,000,000+\n",
      "HD Movie Video Player 1,000,000+\n",
      "YouCut - Video Editor & Video Maker, No Watermark 5,000,000+\n",
      "Video Editor,Crop Video,Movie Video,Music,Effects 1,000,000+\n",
      "YouTube Studio 10,000,000+\n",
      "video player for android 10,000,000+\n",
      "Vigo Video 50,000,000+\n",
      "Google Play Movies & TV 1,000,000,000+\n",
      "HTC Service － DLNA 10,000,000+\n",
      "VPlayer 1,000,000+\n",
      "MiniMovie - Free Video and Slideshow Editor 50,000,000+\n",
      "Samsung Video Library 50,000,000+\n",
      "OnePlus Gallery 1,000,000+\n",
      "LIKE – Magic Video Maker & Community 50,000,000+\n",
      "HTC Service—Video Player 5,000,000+\n",
      "Play Tube 1,000,000+\n",
      "Droid Zap by Motorola 5,000,000+\n",
      "video player 1,000,000+\n",
      "G Guide Program Guide (SOFTBANK EMOBILE WILLCOM version) 1,000,000+\n",
      "Video.Guru - Video Maker 1,000,000+\n",
      "HTC Gallery 10,000,000+\n",
      "PowerDirector Video Editor App: 4K, Slow Mo & More 10,000,000+\n",
      "Cartoon Network App 10,000,000+\n",
      "Video Status 1,000,000+\n",
      "Video Wallpaper Show 500+\n",
      "SVT Play 1,000,000+\n",
      "BluTV 1,000,000+\n",
      "Tencent Video - Supporting the whole network 1,000,000+\n",
      "Casper Ssinema 10,000+\n",
      "amazer - Global Kpop Video Community 100,000+\n",
      "MX Player 500,000,000+\n",
      "Video Editor 5,000,000+\n",
      "Omlet Arcade - Stream, Meet, Play 10,000,000+\n",
      "VUE: video editor & camcorder 1,000,000+\n",
      "Magisto Video Editor & Maker 10,000,000+\n",
      "Dubsmash 100,000,000+\n",
      "DU Recorder – Screen Recorder, Video Editor, Live 50,000,000+\n",
      "KineMaster – Pro Video Editor 50,000,000+\n",
      "Mobizen Screen Recorder for SAMSUNG 10,000,000+\n",
      "Mobizen Screen Recorder for LG - Record, Capture 1,000,000+\n",
      "M-Sight Pro 5,000+\n",
      "Sketch 'n' go 100,000+\n",
      "Q-See Plus 5,000+\n",
      "Ustream 10,000,000+\n",
      "VMate 50,000,000+\n",
      "All Video Downloader 10,000,000+\n",
      "VidPlay 1,000,000+\n",
      "HD Video Downloader : 2018 Best video mate 50,000,000+\n",
      "VivaVideo - Video Editor & Photo Movie 100,000,000+\n",
      "VideoShow-Video Editor, Video Maker, Beauty Camera 100,000,000+\n",
      "W Box VMS 10,000+\n",
      "W Box VMS HD 5,000+\n",
      "AB Repeat Player 100,000+\n",
      "A-B repeater 5,000+\n",
      "Ez Screen Recorder (no ad) 100,000+\n",
      "Adobe Premiere Clip 5,000,000+\n",
      "FilmoraGo - Free Video Editor 10,000,000+\n",
      "ActionDirector Video Editor - Edit Videos Fast 5,000,000+\n",
      "AJ Player 100+\n",
      "AK Lodi Films 100+\n",
      "WiFi Baby Monitor - NannyCam 5,000,000+\n",
      "Ringdroid 50,000,000+\n",
      "Multiple Videos at Same Time 1,000,000+\n",
      "AV-IPTV 1,000+\n",
      "HD Video Player (wmv,avi,mp4,flv,av,mpg,mkv)2017 10,000+\n",
      "HD Video Player - Video & MP3 Player | AV Player | 5,000+\n",
      "EML UPnP-AV Control Point 10,000+\n",
      "AW Screen Recorder No Root 100,000+\n",
      "AX Player -Nougat Video Player 1,000,000+\n",
      "AX Video Player 50,000+\n",
      "Ay 5,000+\n",
      "Ay Sabz Gunbad Waly 1,000+\n",
      "iMediaShare – Photos & Music 10,000,000+\n",
      "AZ Screen Recorder - No Root 10,000,000+\n",
      "Movie Downloader Torrent : Az Torrent 1,000+\n",
      "A-Z Screen Recorder - 500+\n",
      "BC iptv player 1,000+\n",
      "Bc Vod 100+\n",
      "Funny videos for whatsapp 1,000,000+\n",
      "BG video - floating video - background video 5,000+\n",
      "BG MUSIC PLAYER - MUSIC PLAYER 100+\n",
      "bgtime.tv 50,000+\n",
      "YourTube Video Views BG 500+\n",
      "Music for Youtube - Tube Music BG, Red+ 1,000+\n",
      "BGCN TV 100,000+\n",
      "AfreecaTV 10,000,000+\n",
      "BK News Channel 10,000+\n",
      "BR Video Player 5,000+\n",
      "BR Series 50,000+\n",
      "CINE BR 1,000+\n",
      "iPlayIT for YouTube VR Player 1,000,000+\n",
      "BSPlayer FREE 10,000,000+\n",
      "BSPlayer ARMv7 VFP CPU support 1,000,000+\n",
      "BS player remote 10,000+\n",
      "BitTorrent®- Torrent Downloads 10,000,000+\n",
      "Bx-WiFi-GI 100+\n",
      "BZ Langenthaler Tagblatt 1,000+\n",
      "Nero AirBurn 100,000+\n",
      "CI Stream 10+\n",
      "CJ Camcorder 500+\n",
      "CJ VLC HD Remote (+ Stream) 500,000+\n",
      "ACTIVEON CX & CX GOLD 50,000+\n",
      "CX Monthly Tech News 500+\n",
      "DG UPnP Player Free 10,000+\n",
      "DG Screen Recorder 500+\n",
      "DG Video Editor 10,000+\n",
      "Video Downloader - for Instagram Repost App 10,000,000+\n",
      "Quik – Free Video Editor for photos, clips, music 10,000,000+\n",
      "FrostWire: Torrent Downloader & Music Player 10,000,000+\n",
      "Inst Download - Video & Photo 10,000,000+\n",
      "Vuze Torrent Downloader 1,000,000+\n",
      "AndStream - Streaming Download 1,000,000+\n",
      "DR TV 500,000+\n",
      "DS photo 1,000,000+\n",
      "DS video 1,000,000+\n",
      "DU Privacy-hide apps、sms、file 1,000,000+\n",
      "iSmart DV 1,000,000+\n",
      "dv Prompter 50,000+\n",
      "DV Lottery Photo 5,000+\n",
      "MelifeCam-M 10,000+\n",
      "GoPlus Cam 500,000+\n",
      "GoAction 100,000+\n",
      "4K VIDEO PLAYER ULTRA HD 5,000+\n",
      "Downvids Helper - One touch DW 10,000+\n",
      "DZ Popup Video Player 5,000+\n",
      "EC MANAGER 100+\n",
      "EF Sidekick 5,000+\n",
      "ek tuhi 10,000+\n",
      "Naruto Shippuden - Watch Free! 10,000,000+\n",
      "ES Audio Player ( Shortcut ) 100,000+\n",
      "Furrion ES Control 5,000+\n",
      "ES-IPTV 50,000+\n",
      "EZCast – Cast Media to TV 1,000,000+\n",
      "EZ Web Video Cast | Chromecast 100,000+\n",
      "EZ-SEE 10,000+\n",
      "EZ TV Player 10,000+\n",
      "EZ Usenet for Easynews® 10,000+\n",
      "EZ game screen recorder with audio 1080P 1,000+\n",
      "Videos downloader for Facebook:fast fb video saver 5,000+\n",
      "Video Downloader for FB : Video Download with Link 100,000+\n",
      "HD VideoDownlaoder For Fb : XXVideo Downloader 10,000+\n",
      "HD Video Download for Facebook 1,000,000+\n",
      "Art of F J Taylor 10+\n",
      "Motorola FM Radio 100,000,000+\n",
      "List iptv FR 100+\n"
     ]
    }
   ],
   "source": [
    "for row in free_android:\n",
    "    if row[1]==\"VIDEO_PLAYERS\":\n",
    "        print(row[0],row[5])"
   ]
  },
  {
   "cell_type": "markdown",
   "metadata": {},
   "source": [
    "This category is dominateed too by Youtube,Viva video etc."
   ]
  },
  {
   "cell_type": "markdown",
   "metadata": {},
   "source": [
    "Let us explore **Social** category."
   ]
  },
  {
   "cell_type": "code",
   "execution_count": 94,
   "metadata": {},
   "outputs": [
    {
     "name": "stdout",
     "output_type": "stream",
     "text": [
      "Facebook 1,000,000,000+\n",
      "Facebook Lite 500,000,000+\n",
      "Tumblr 100,000,000+\n",
      "Social network all in one 2018 100,000+\n",
      "Pinterest 100,000,000+\n",
      "TextNow - free text + calls 10,000,000+\n",
      "Google+ 1,000,000,000+\n",
      "The Messenger App 1,000,000+\n",
      "Messenger Pro 1,000,000+\n",
      "Free Messages, Video, Chat,Text for Messenger Plus 1,000,000+\n",
      "Telegram X 5,000,000+\n",
      "The Video Messenger App 100,000+\n",
      "Jodel - The Hyperlocal App 1,000,000+\n",
      "Hide Something - Photo, Video 5,000,000+\n",
      "Love Sticker 1,000,000+\n",
      "Web Browser & Fast Explorer 5,000,000+\n",
      "LiveMe - Video chat, new friends, and make money 10,000,000+\n",
      "VidStatus app - Status Videos & Status Downloader 5,000,000+\n",
      "Love Images 1,000,000+\n",
      "Web Browser ( Fast & Secure Web Explorer) 500,000+\n",
      "SPARK - Live random video chat & meet new people 5,000,000+\n",
      "Golden telegram 50,000+\n",
      "Facebook Local 1,000,000+\n",
      "Meet – Talk to Strangers Using Random Video Chat 5,000,000+\n",
      "MobilePatrol Public Safety App 1,000,000+\n",
      "💘 WhatsLov: Smileys of love, stickers and GIF 1,000,000+\n",
      "HTC Social Plugin - Facebook 10,000,000+\n",
      "Quora 10,000,000+\n",
      "Kate Mobile for VK 10,000,000+\n",
      "Family GPS tracker KidControl + GPS by SMS Locator 1,000,000+\n",
      "Moment 1,000,000+\n",
      "Text Me: Text Free, Call Free, Second Phone Number 10,000,000+\n",
      "Text Free: WiFi Calling App 5,000,000+\n",
      "Badoo - Free Chat & Dating App 100,000,000+\n",
      "Text free - Free Text + Call 10,000,000+\n",
      "Tango - Live Video Broadcast 100,000,000+\n",
      "ooVoo Video Calls, Messaging & Stories 50,000,000+\n",
      "Whisper 5,000,000+\n",
      "Blogger 5,000,000+\n",
      "Bloglovin' 500,000+\n",
      "Blogaway for Android (Blogger) 100,000+\n",
      "Instagram 1,000,000,000+\n",
      "TwitCasting Live 1,000,000+\n",
      "Stream - Live Video Community 500,000+\n",
      "YouNow: Live Stream Video Chat 10,000,000+\n",
      "Mirrativ: Live Stream Any App 500,000+\n",
      "Snapchat 500,000,000+\n",
      "Banjo 1,000,000+\n",
      "We Heart It 10,000,000+\n",
      "MeetMe: Chat & Meet New People 50,000,000+\n",
      "Timehop 5,000,000+\n",
      "Frontback - Social Photos 1,000,000+\n",
      "LinkedIn 100,000,000+\n",
      "Path 10,000,000+\n",
      "SayHi Chat, Meet New People 10,000,000+\n",
      "Tapatalk - 100,000+ Forums 10,000,000+\n",
      "Couple - Relationship App 1,000,000+\n",
      "Nextdoor - Local neighborhood news & classifieds 5,000,000+\n",
      "LOVOO 10,000,000+\n",
      "Jaumo Dating, Flirt & Live Video 10,000,000+\n",
      "Patook - make platonic friends 100,000+\n",
      "Zello PTT Walkie Talkie 50,000,000+\n",
      "textPlus: Free Text & Calls 10,000,000+\n",
      "magicApp Calling & Messaging 10,000,000+\n",
      "Dating App, Flirt & Chat : W-Match 10,000,000+\n",
      "uCiC- Videos and Photos on demand 100,000+\n",
      "Meetup 5,000,000+\n",
      "POF Free Dating App 50,000,000+\n",
      "Tagged - Meet, Chat & Dating 10,000,000+\n",
      "SKOUT - Meet, Chat, Go Live 50,000,000+\n",
      "Mico- Stranger Chat Random video Chat, Live, Meet 10,000,000+\n",
      "Waplog - Free Chat, Dating App, Meet Singles 10,000,000+\n",
      "Tik Tok - including musical.ly 100,000,000+\n",
      "B-Messenger Video Chat 1,000,000+\n",
      "BIGO LIVE - Live Stream 100,000,000+\n",
      "Greeting Cards & Wishes 500,000+\n",
      "Share G - Images Sharing - Wallpapers App 10,000+\n",
      "H letter images 1,000+\n",
      "Instachat 😜 5,000,000+\n",
      "Fame Boom for Real Followers, Likes 5,000,000+\n",
      "FollowMeter for Instagram 1,000,000+\n",
      "Mali J 10,000+\n",
      "KDRAMA Amino for K-Drama Fans 100,000+\n",
      "KPOP Amino for K-Pop Entertainment 100,000+\n",
      "EXO-L Amino for EXO Fans 50,000+\n",
      "Verdad o Reto 500,000+\n",
      "pixiv 1,000,000+\n",
      "Join R, Community Engagement 1,000+\n",
      "U LIVE – Video Chat & Stream 1,000,000+\n",
      "See U - Random video chat, video chat 100,000+\n",
      "What U See 100,000+\n",
      "U-Report 10,000+\n",
      "Meet U - Get Friends for Snapchat, Kik & Instagram 100,000+\n",
      "VMate Lite - Funny Short Videos Social Network 1,000,000+\n",
      "V Bucks ProTips New 1,000+\n",
      "i-share AF/KLM (AFKL ishare) 100+\n",
      "Eternal Light AG 100+\n",
      "Message AI - Write Better Messages (Free) 100+\n",
      "Jamaa Amino for Animal Jam 10,000+\n",
      "Legend - Animate Text in Video 10,000,000+\n",
      "GUYZ - Gay Chat & Gay Dating 1,000,000+\n",
      "eChallan Andhra Pradesh (AP) 1,000+\n",
      "Snaappy – 3D fun AR core communication platform 1,000,000+\n",
      "Undertale AU Amino 50,000+\n",
      "Au Pair 10,000+\n",
      "Media Sosial TNI AU 1,000+\n",
      "BA 3 Banjarmasin 10+\n",
      "iCard BD Plus 500+\n",
      "Movement BE 100+\n",
      "YAY - TBH 100,000+\n",
      "Find My Friends 10,000,000+\n",
      "BG LINKED (BGLINKED) 1,000+\n",
      "Zdravei.BG 1,000+\n",
      "BGKontakti London BG Kontakti 500+\n",
      "BGKontakti Bayern BG Kontakti 1,000+\n",
      "BGKontakti Vienna BG Kontakti 1,000+\n",
      "Discípulos em BH 100+\n",
      "BH Connect 1+\n",
      "Gayvox - Gay Lesbian Bi Dating 500,000+\n",
      "Grindr - Gay chat 10,000,000+\n",
      "Lesbian Chat & Dating - SPICY 1,000,000+\n",
      "Alumni BJ 100+\n",
      "VK 100,000,000+\n",
      "BK Traffic Control cum Chart 10,000+\n",
      "Daily Murli Saar Widget 10,000+\n",
      "Myjob@BM 100+\n",
      "bm-Events 10+\n",
      "BOO! - Next Generation Messenger 1,000,000+\n",
      "Wishbone - Compare Anything 1,000,000+\n",
      "BR Chat Bot 1,000+\n",
      "Br Browser 500+\n",
      "Dr B R Ambedkar (Jai Bhim) 100,000+\n",
      "Dr. B.R.Ambedkar 100,000+\n",
      "Black Social 1,000+\n",
      "BT Communicator 10,000+\n",
      "BT Dating -Find your match, help cupid, be social 50,000+\n",
      "Fiesta by Tango - Find, Meet and Make New Friends 1,000,000+\n",
      "Evasion.bz 100+\n",
      "CB Heroes 5+\n",
      "CG Districts 1,000+\n",
      "Digi-TV.ch 10,000+\n",
      "Students.ch 1,000+\n",
      "CJ Gospel Hour 100+\n",
      "Pekalongan CJ 0+\n",
      "Hashtags For Likes.co 50,000+\n",
      "CP Dialer 50,000+\n",
      "C.P. CERVANTES (TOBARRA) 5+\n",
      "Cyprus Police 10,000+\n",
      "Rande.cz 50,000+\n",
      "signály.cz 1,000+\n",
      "DB Event App 5,000+\n",
      "DC Comics Amino 1,000+\n",
      "DF BugMeNot 500+\n",
      "Noticias DF 1,000+\n",
      "Periscope - Live Video 10,000,000+\n",
      "Daddyhunt: Gay Dating 500,000+\n",
      "Free phone calls, free texting SMS on free number 10,000,000+\n",
      "Phone Tracker : Family Locator 10,000,000+\n",
      "HOLLA Live: Meet New People via Random Video Chat 5,000,000+\n",
      "Dating.dk 100,000+\n",
      "DK Murali 500+\n",
      "GirlTalk.dk 100+\n",
      "+Download 4 Instagram Twitter 1,000,000+\n",
      "DM Me - Chat 10,000+\n",
      "DM for IG 😘 - Image & Video Saver for Instagram 5,000+\n",
      "Auto DM for Twitter 🔥 1,000+\n",
      "DM Storage (for twitter) 100+\n",
      "Fake Chat (Direct Message) 500,000+\n",
      "Otto DM 10+\n",
      "DN Blog 10+\n",
      "DP and Status for WhatsApp 2018 100,000+\n",
      "Dp For Whatsapp 5,000+\n",
      "Profile Pictures and DP for Whatsapp 5,000+\n",
      "Dp for Facebook 5,000+\n",
      "Best DP and Status 10,000+\n",
      "Instant DP Downloader for Instagram 5,000+\n",
      "DP Display Pictures Life Quotes Motivational GM 5,000+\n",
      "Qeek for Instagram - Zoom profile insta DP 500,000+\n",
      "DV Statistics 100+\n",
      "DW Streaming 1,000+\n",
      "News Dz 10+\n",
      "quran-DZ 10+\n",
      "TN e Sevai TN EB Bill Patta Citta EC Birth All Hub 5,000+\n",
      "TNEB Bill Online Payment (Tamil) 5,000+\n",
      "UP EB Bill Payment & Details 50+\n",
      "TN EC Online New 1,000+\n",
      "TN Patta /Chitta /EC New 100+\n",
      "EG Way Life 50+\n",
      "Equestria Amino for MLP 50,000+\n",
      "Ek Maratha 10,000+\n",
      "Hum Ek Hain 2.02 10+\n",
      "Sabka Malik Ek Sai 1,000+\n",
      "EO RAIPUR 10+\n",
      "Anime et Manga Amino en Français 50,000+\n",
      "Hornet - Gay Social Network 5,000,000+\n",
      "Amino: Communities and Chats 10,000,000+\n",
      "European Solidarity Corps 1,000+\n",
      "Reisedealz.eu 10+\n",
      "Eddsworld Amino 10,000+\n",
      "Rejoin Your Ex 100+\n",
      "Amleen Ey 1+\n",
      "Coupe Adhémar EY 2017 50+\n",
      "EZ Video Download for Facebook 1,000,000+\n",
      "Messages, Text and Video Chat for Messenger 10,000,000+\n",
      "All Social Networks 1,000,000+\n",
      "Messenger Messenger 10,000,000+\n",
      "Facebook Creator 1,000,000+\n",
      "Swift for Facebook Lite 500,000+\n",
      "Friendly for Facebook 1,000,000+\n",
      "Faster for Facebook Lite 1,000,000+\n",
      "Puffin for Facebook 500,000+\n",
      "Profile Tracker - Who Viewed My Facebook Profile 500,000+\n",
      "Pink Color for Facebook 500,000+\n",
      "Messenger 10,000,000+\n",
      "Stickers for Imo, fb, whatsapp 10,000+\n",
      "Who Viewed My Facebook Profile - Stalkers Visitors 5,000,000+\n",
      "Downloader plus for FB 500+\n",
      "MB Notifications for FB (Free) 100,000+\n",
      "Phoenix - Facebook & Messenger 100,000+\n",
      "Faster Social for Facebook 100,000+\n",
      "Check Your Visitors on FB ? 5,000+\n",
      "Stickers for Facebook 1,000,000+\n",
      "Lite Messenger for Facebook Lite 10,000+\n",
      "Mini for Facebook lite 10,000+\n",
      "FB Advanced Search 50+\n",
      "funny Image Comments for FB 5,000+\n",
      "Unlimited Group Links - Whatsapp, FB, Telegram 10,000+\n",
      "FCB Connect - FC Barcelona 50,000+\n",
      "Frases Cristianas de Esperanza y Fe 100+\n",
      "FutureNet your social app 100,000+\n",
      "Alarm.fo – choose your info 1,000+\n",
      "FunForMobile Ringtones & Chat 5,000,000+\n",
      "Chat For Strangers - Video Chat 100,000+\n",
      "Fr Daoud Lamei 100,000+\n",
      "Naruto & Boruto FR 100+\n",
      "Frim: get new friends on local chat rooms 5,000,000+\n"
     ]
    }
   ],
   "source": [
    "for row in free_android:\n",
    "    if row[1]==\"SOCIAL\":\n",
    "        print(row[0],row[5])"
   ]
  },
  {
   "cell_type": "markdown",
   "metadata": {},
   "source": [
    "As expected, Facebook, Pinterest etc. have acwuired the most stake in the average installs in this category\n",
    "\n",
    "Let us explore **Photography**."
   ]
  },
  {
   "cell_type": "code",
   "execution_count": 95,
   "metadata": {},
   "outputs": [
    {
     "name": "stdout",
     "output_type": "stream",
     "text": [
      "TouchNote: Cards & Gifts 1,000,000+\n",
      "FreePrints – Free Photos Delivered 1,000,000+\n",
      "Groovebook Photo Books & Gifts 500,000+\n",
      "Moony Lab - Print Photos, Books & Magnets ™ 50,000+\n",
      "LALALAB prints your photos, photobooks and magnets 1,000,000+\n",
      "Snapfish 1,000,000+\n",
      "Motorola Camera 50,000,000+\n",
      "HD Camera - Best Cam with filters & panorama 5,000,000+\n",
      "LightX Photo Editor & Photo Effects 10,000,000+\n",
      "Sweet Snap - live filter, Selfie photo edit 10,000,000+\n",
      "HD Camera - Quick Snap Photo & Video 1,000,000+\n",
      "B612 - Beauty & Filter Camera 100,000,000+\n",
      "Waterfall Photo Frames 1,000,000+\n",
      "Photo frame 100,000+\n",
      "Huji Cam 5,000,000+\n",
      "Unicorn Photo 1,000,000+\n",
      "HD Camera 5,000,000+\n",
      "Makeup Editor -Beauty Photo Editor & Selfie Camera 1,000,000+\n",
      "Makeup Photo Editor: Makeup Camera & Makeup Editor 1,000,000+\n",
      "Moto Photo Editor 5,000,000+\n",
      "InstaBeauty -Makeup Selfie Cam 50,000,000+\n",
      "Garden Photo Frames - Garden Photo Editor 500,000+\n",
      "Photo Frame 10,000,000+\n",
      "Selfie Camera - Photo Editor & Filter & Sticker 50,000,000+\n",
      "Sweet Snap Lite - live filter, Selfie photo editor 500,000+\n",
      "Selfie Camera: Beauty Camera, Photo Editor,Collage 1,000,000+\n",
      "Night Photo Frame 1,000,000+\n",
      "YouCam Makeup - Magic Selfie Makeovers 100,000,000+\n",
      "Selfie Photo Editor 1,000,000+\n",
      "ASUS Gallery 50,000,000+\n",
      "Kids Photo Frames 1,000,000+\n",
      "Pencil Photo Sketch-Sketching Drawing Photo Editor 1,000,000+\n",
      "Pretty Makeup, Beauty Photo Editor & Snappy Camera 5,000,000+\n",
      "Photo Collage - Layout Editor 10,000,000+\n",
      "DSLR Camera Hd Ultra Professional 1,000,000+\n",
      "Snap Cat Face Camera 1,000,000+\n",
      "Silent Camera [High Quality] 5,000,000+\n",
      "Sweet Camera - Selfie Filters, Beauty Camera 10,000,000+\n",
      "Photo Frames 10,000,000+\n",
      "Sweet Selfie - selfie camera, beauty cam, photo edit 100,000,000+\n",
      "Candy selfie - photo editor, live filter camera 10,000,000+\n",
      "Open Camera 10,000,000+\n",
      "Beauty Makeup – Photo Makeover 1,000,000+\n",
      "Blur Image Background Editor (Blur Photo Editor) 5,000,000+\n",
      "Muzy - Share photos & collages 5,000,000+\n",
      "QuickPic - Photo Gallery with Google Drive Support 10,000,000+\n",
      "Flickr 10,000,000+\n",
      "Camera for Android 10,000,000+\n",
      "Photo Mixer 10,000,000+\n",
      "Wondershare PowerCam 10,000,000+\n",
      "love 1,000,000+\n",
      "KVAD Camera +: Selfie, Photo Filter, Grids 1,000,000+\n",
      "Camera51 - a smarter camera 1,000,000+\n",
      "InstaCam - Camera for Selfie 1,000,000+\n",
      "Sweet Camera 5,000,000+\n",
      "RetroSelfie - Selfie Editor 10,000,000+\n",
      "Mega Photo 1,000,000+\n",
      "Blur Image Background 10,000,000+\n",
      "MIX by Camera360 5,000,000+\n",
      "Google Photos 1,000,000,000+\n",
      "SuperPhoto - Effects & Filters 5,000,000+\n",
      "Camera FV-5 Lite 10,000,000+\n",
      "HD Camera Ultra 10,000,000+\n",
      "Cameringo Lite. Filters Camera 10,000,000+\n",
      "Camera ZOOM FX - FREE 5,000,000+\n",
      "HD Camera Pro for Android 1,000,000+\n",
      "GoPro (formerly Capture) 10,000,000+\n",
      "Beauty Makeup Snappy Collage Photo Editor - Lidow 10,000,000+\n",
      "Samsung SMART CAMERA App 1,000,000+\n",
      "Square InPic - Photo Editor & Collage Maker 50,000,000+\n",
      "High-Speed Camera (GIF,Burst) 5,000,000+\n",
      "Camera MX - Free Photo & Video Camera 10,000,000+\n",
      "EyeEm - Camera & Photo Filter 10,000,000+\n",
      "Retrica 100,000,000+\n",
      "VSCO 50,000,000+\n",
      "PhotoWonder: Pro Beauty Photo Editor Collage Maker 50,000,000+\n",
      "Photo Effects Pro 50,000,000+\n",
      "Photo Editor Selfie Camera Filter & Mirror Image 50,000,000+\n",
      "No Crop & Square for Instagram 10,000,000+\n",
      "Picture Grid Builder 5,000,000+\n",
      "HD Camera for Android 10,000,000+\n",
      "Photo Studio 10,000,000+\n",
      "Photo Editor Pro 100,000,000+\n",
      "Photo Editor- 5,000,000+\n",
      "Mirror Photo:Editor Collage (HD) 10,000,000+\n",
      "Pic Stitch - #1 Collage Maker 1,000,000+\n",
      "PhotoDirector Photo Editor App 10,000,000+\n",
      "Pic Collage - Photo Editor 50,000,000+\n",
      "Photo Editor by Aviary 50,000,000+\n",
      "Video Editor Music,Cut,No Crop 50,000,000+\n",
      "Pixlr – Free Photo Editor 50,000,000+\n",
      "Photo Editor 10,000,000+\n",
      "Photo Collage Maker 10,000,000+\n",
      "Adobe Photoshop Express:Photo Editor Collage Maker 50,000,000+\n",
      "BeautyPlus - Easy Photo Editor & Selfie Camera 100,000,000+\n",
      "PicsArt Photo Studio: Collage Maker & Pic Editor 100,000,000+\n",
      "Photo Collage Editor 100,000,000+\n",
      "Color Touch Effects 10,000,000+\n",
      "InstaSize Photo Filters & Collage Editor 50,000,000+\n",
      "Z Camera - Photo Editor, Beauty Selfie, Collage 100,000,000+\n",
      "PhotoGrid: Video & Pic Collage Maker, Photo Editor 100,000,000+\n",
      "Candy Camera - selfie, beauty camera, photo editor 100,000,000+\n",
      "YouCam Perfect - Selfie Photo Editor 100,000,000+\n",
      "Pixgram- video photo slideshow 5,000,000+\n",
      "Fotor Photo Editor - Photo Collage & Photo Effects 10,000,000+\n",
      "Snapseed 50,000,000+\n",
      "Camera360: Selfie Photo Editor with Funny Sticker 100,000,000+\n",
      "Font Studio- Photo Texts Image 10,000,000+\n",
      "Add Text To Photo 1,000,000+\n",
      "Phonto - Text on Photos 10,000,000+\n",
      "Collage&Add Stickers papelook 5,000,000+\n",
      "Shutterfly: Free Prints, Photo Books, Cards, Gifts 5,000,000+\n",
      "Photo Collage - InstaMag 10,000,000+\n",
      "Meitu – Beauty Cam, Easy Photo Editor 10,000,000+\n",
      "Bestie - Camera360 Selfie 10,000,000+\n",
      "B Tiff Viewer 100,000+\n",
      "F-Stop Gallery 1,000,000+\n",
      "How Do I Look 500,000+\n",
      "Keepsafe Photo Vault: Hide Private Photos & Videos 50,000,000+\n",
      "MakeupPlus - Your Own Virtual Makeup Artist 50,000,000+\n",
      "Pixlr-o-matic 10,000,000+\n",
      "PixelLab - Text on pictures 10,000,000+\n",
      "Leica Q 10,000+\n",
      "S Photo Editor - Collage Maker , Photo Collage 100,000,000+\n",
      "U Camera : Phone 6s OS 9 style 500,000+\n",
      "V.360° Camera 100,000+\n",
      "Profile w/o crop for Telegram 10,000+\n",
      "Z Camera 10,000+\n",
      "Six Pack Abs Photo Editor 1,000,000+\n",
      "Brica BPRO5 AE 500,000+\n",
      "AfterFocus 10,000,000+\n",
      "DSLR camera - Auto Focus and Blur Professional 10,000+\n",
      "AR effect 100,000,000+\n",
      "ASUS PixelMaster Camera 10,000,000+\n",
      "easyFocus 500,000+\n",
      "Blur Image - DSLR focus effect 5,000,000+\n",
      "Camera Pro 1,000,000+\n",
      "HD Camera - silent shutter 1,000,000+\n",
      "A Better Camera 5,000,000+\n",
      "Auto Dslr Photo Effect : Auto Focus Effect 1,000+\n",
      "PhotoScan by Google Photos 10,000,000+\n",
      "Afterlight 1,000,000+\n",
      "Blurfoto : Auto blur photo background & DSLR focus 500,000+\n",
      "Blur 1,000,000+\n",
      "Picai - Smart AI Camera 100,000+\n",
      "Adobe Illustrator Draw 5,000,000+\n",
      "FaceApp 10,000,000+\n",
      "AI Image Recognizer (beta) 500+\n",
      "AJ Cam 100+\n",
      "Selfie With Champion AJ Style 500+\n",
      "A.J. Styles HD Wallpapers 2018 100+\n",
      "Scoompa Video - Slideshow Maker and Video Editor 10,000,000+\n",
      "AEE AP 1,000+\n",
      "SNOW - AR Camera 50,000,000+\n",
      "Add Watermark Free 1,000,000+\n",
      "camera zoom moon 500,000+\n",
      "AZ Camera - Manual Pro Cam 100,000+\n",
      "BC Camera 500+\n",
      "Photo Editor by BeFunky 10,000,000+\n",
      "Be Fabulous PHOTO BOOTH 10,000+\n",
      "Adobe Photoshop Fix 5,000,000+\n",
      "Photo BG Changer 1,000+\n",
      "BG Editor 5+\n",
      "PhotoLayers〜Superimpose,Eraser 10,000,000+\n",
      "Blender BG - Photo Blend With Background 100+\n",
      "Auto Background Changer 1,000,000+\n",
      "Change photo background 5,000,000+\n",
      "Background Eraser 10,000,000+\n",
      "Background Changer & Eraser 500,000+\n",
      "Cut Out : Background Eraser and background changer 1,000,000+\n",
      "Ultimate Background Eraser 1,000,000+\n",
      "DSLR Photography Training apps 100,000+\n",
      "Photo Editor - BPhoto 1,000+\n",
      "24 megapixel hd camera 100,000+\n",
      "BK Photography 1,000+\n",
      "BL 1-Click Camera - Free 10,000+\n",
      "BL Portfolio 100+\n",
      "BQ Camera 1,000,000+\n",
      "BT Camera 500,000+\n",
      "BlitzWolf Shutter - BW Shutter 50,000+\n",
      "Black & White Camera - Lovely BW 100,000+\n",
      "Analog BW - Camera filter effect foto film retouch 100+\n",
      "Hypocam 1,000,000+\n",
      "B&W Photo Filter Editor 50,000+\n",
      "CB VIDEO VISION 100+\n",
      "CB Hair Png - New Hair Png For CB Editing 500+\n",
      "CB Edits PNG & CB Backgrounds 5,000+\n",
      "CG Prints 100+\n",
      "Gold Teeth Photo Editor 100,000+\n",
      "Night Camera Blur Effect 10,000+\n",
      "Camera V7 24 Megapixel 100,000+\n",
      "Leica CL 1,000+\n",
      "Canon CameraWindow 1,000,000+\n",
      "Cymera Camera- Photo Editor, Filter,Collage,Layout 100,000,000+\n",
      "Camera360 Lite - Selfie Camera 10,000,000+\n",
      "Wallpaper.cz 100+\n",
      "Face Filter, Selfie Editor - Sweet Camera 10,000,000+\n",
      "Visage Lab – face retouch 5,000,000+\n",
      "LC-DB-LITE 100+\n",
      "DC-014 500+\n",
      "Bokeh (Background defocus) 10,000,000+\n",
      "Love Collage - Photo Editor 10,000,000+\n",
      "LINE Camera - Photo editor 100,000,000+\n",
      "DF Night Selfies 10,000+\n",
      "My Photo Keyboard 10,000,000+\n",
      "Story Saver for Instagram 5,000,000+\n",
      "Boomerang from Instagram 50,000,000+\n",
      "Insave-Download for Instagram 1,000,000+\n",
      "DP Editor 5,000+\n",
      "DP Maker 100,000+\n",
      "Square DP For Whatsapp 10,000+\n",
      "DP Creator for WhatsApp 100,000+\n",
      "Dp For FB 1,000+\n",
      "Magical Insta DP 1,000+\n",
      "All Types DP & Status Maker 1,000+\n",
      "DP Photo Editor 10,000+\n",
      "Fifa World Cup 2018: Photo Frame Editor & DP Maker 100,000+\n",
      "Insta Square Profile DP 5,000+\n",
      "DP Status 2017 50,000+\n",
      "LightMeter Free 1,000,000+\n",
      "DS-L4 Viewer 1,000+\n",
      "DU GIF Maker: GIF Maker, Video to GIF & GIF Editor 500,000+\n",
      "DU Collage Maker - Photo Collage & Grid & Layout 100,000+\n",
      "Live DV 1,000+\n",
      "DV-4036 by Somikon 1,000+\n",
      "Touch DV 50+\n",
      "XDV 1,000,000+\n",
      "DV Lottery Photo Tool 50,000+\n",
      "DV KING 4K 100+\n",
      "Wifi Action Camera 50,000+\n",
      "4K Ultra Camera 100,000+\n",
      "DV KING 100+\n",
      "DENVER ACTION CAM 3 10,000+\n",
      "SportLook 100,000+\n",
      "Displaying You VR 50+\n",
      "i am EB 10+\n",
      "Retro Camera 10,000,000+\n",
      "Footej Camera 1,000,000+\n",
      "Video Maker with Photo and Music 1,000,000+\n",
      "Phogy, 3D Camera 1,000,000+\n",
      "Photo Lab Picture Editor: face effects, art frames 50,000,000+\n",
      "MomentCam Cartoons & Stickers 50,000,000+\n",
      "A+ Gallery - Photos & Videos 10,000,000+\n",
      "Light Meter - EV 1,000+\n",
      "FilterGrid - Cam&Photo Editor 1,000,000+\n",
      "ez Share Android app 100,000+\n",
      "Ez iCam 1,000,000+\n",
      "Facejjang 10,000,000+\n",
      "Cover Camera for FB 100,000+\n",
      "FB Photographie 1,000+\n",
      "FD Fotografia 100+\n",
      "Ghost In Photo 5,000,000+\n",
      "FH WiFiCam 10,000+\n",
      "PIP Selfie Camera Photo Editor 10,000,000+\n",
      "FL Drone 2 5,000+\n",
      "FN Cam 10,000+\n",
      "PIP-Camera FN Photo Effect 1,000+\n",
      "Photo Editor Collage Maker Pro 100,000,000+\n",
      "Free Slideshow Maker & Video Editor 10,000,000+\n",
      "Thumbnail Maker 1,000,000+\n",
      "PhotoFunia 10,000,000+\n"
     ]
    }
   ],
   "source": [
    "for row in free_android:\n",
    "    if row[1]==\"PHOTOGRAPHY\":\n",
    "        print(row[0],row[5])"
   ]
  },
  {
   "cell_type": "markdown",
   "metadata": {},
   "source": [
    "This category is also dominated by a few applications like S PHOTO EDITOR, BOOMERANG etc. "
   ]
  },
  {
   "cell_type": "markdown",
   "metadata": {},
   "source": [
    "All of these categories have intensive competition. Let us have a look at BOOKS_AND_REFERENCE category. The average installs for this category is : 8767811, which is impressive."
   ]
  },
  {
   "cell_type": "code",
   "execution_count": 96,
   "metadata": {},
   "outputs": [
    {
     "name": "stdout",
     "output_type": "stream",
     "text": [
      "E-Book Read - Read Book for free 50,000+\n",
      "Download free book with green book 100,000+\n",
      "Wikipedia 10,000,000+\n",
      "Cool Reader 10,000,000+\n",
      "Free Panda Radio Music 100,000+\n",
      "Book store 1,000,000+\n",
      "FBReader: Favorite Book Reader 10,000,000+\n",
      "English Grammar Complete Handbook 500,000+\n",
      "Free Books - Spirit Fanfiction and Stories 1,000,000+\n",
      "Google Play Books 1,000,000,000+\n",
      "AlReader -any text book reader 5,000,000+\n",
      "Offline English Dictionary 100,000+\n",
      "Offline: English to Tagalog Dictionary 500,000+\n",
      "FamilySearch Tree 1,000,000+\n",
      "Cloud of Books 1,000,000+\n",
      "Recipes of Prophetic Medicine for free 500,000+\n",
      "ReadEra – free ebook reader 1,000,000+\n",
      "Anonymous caller detection 10,000+\n",
      "Ebook Reader 5,000,000+\n",
      "Litnet - E-books 100,000+\n",
      "Read books online 5,000,000+\n",
      "English to Urdu Dictionary 500,000+\n",
      "eBoox: book reader fb2 epub zip 1,000,000+\n",
      "English Persian Dictionary 500,000+\n",
      "Flybook 500,000+\n",
      "All Maths Formulas 1,000,000+\n",
      "Ancestry 5,000,000+\n",
      "HTC Help 10,000,000+\n",
      "English translation from Bengali 100,000+\n",
      "Pdf Book Download - Read Pdf Book 100,000+\n",
      "Free Book Reader 100,000+\n",
      "eBoox new: Reader for fb2 epub zip books 50,000+\n",
      "Only 30 days in English, the guideline is guaranteed 500,000+\n",
      "Moon+ Reader 10,000,000+\n",
      "SH-02J Owner's Manual (Android 8.0) 50,000+\n",
      "English-Myanmar Dictionary 1,000,000+\n",
      "Golden Dictionary (EN-AR) 1,000,000+\n",
      "All Language Translator Free 1,000,000+\n",
      "Azpen eReader 500,000+\n",
      "URBANO V 02 instruction manual 100,000+\n",
      "Bible 100,000,000+\n",
      "C Programs and Reference 50,000+\n",
      "C Offline Tutorial 1,000+\n",
      "C Programs Handbook 50,000+\n",
      "Amazon Kindle 100,000,000+\n",
      "Aab e Hayat Full Novel 100,000+\n",
      "Aldiko Book Reader 10,000,000+\n",
      "Google I/O 2018 500,000+\n",
      "R Language Reference Guide 10,000+\n",
      "Learn R Programming Full 5,000+\n",
      "R Programing Offline Tutorial 1,000+\n",
      "Guide for R Programming 5+\n",
      "Learn R Programming 10+\n",
      "R Quick Reference Big Data 1,000+\n",
      "V Made 100,000+\n",
      "Wattpad 📖 Free Books 100,000,000+\n",
      "Dictionary - WordWeb 5,000,000+\n",
      "Guide (for X-MEN) 100,000+\n",
      "AC Air condition Troubleshoot,Repair,Maintenance 5,000+\n",
      "AE Bulletins 1,000+\n",
      "Ae Allah na Dai (Rasa) 10,000+\n",
      "50000 Free eBooks & Free AudioBooks 5,000,000+\n",
      "Ag PhD Field Guide 10,000+\n",
      "Ag PhD Deficiencies 10,000+\n",
      "Ag PhD Planting Population Calculator 1,000+\n",
      "Ag PhD Soybean Diseases 1,000+\n",
      "Fertilizer Removal By Crop 50,000+\n",
      "A-J Media Vault 50+\n",
      "Al-Quran (Free) 10,000,000+\n",
      "Al Quran (Tafsir & by Word) 500,000+\n",
      "Al Quran Indonesia 10,000,000+\n",
      "Al'Quran Bahasa Indonesia 10,000,000+\n",
      "Al Quran Al karim 1,000,000+\n",
      "Al-Muhaffiz 50,000+\n",
      "Al Quran : EAlim - Translations & MP3 Offline 5,000,000+\n",
      "Al-Quran 30 Juz free copies 500,000+\n",
      "Koran Read &MP3 30 Juz Offline 1,000,000+\n",
      "Hafizi Quran 15 lines per page 1,000,000+\n",
      "Quran for Android 10,000,000+\n",
      "Surah Al-Waqiah 100,000+\n",
      "Hisnul Al Muslim - Hisn Invocations & Adhkaar 100,000+\n",
      "Satellite AR 1,000,000+\n",
      "Audiobooks from Audible 100,000,000+\n",
      "Kinot & Eichah for Tisha B'Av 10,000+\n",
      "AW Tozer Devotionals - Daily 5,000+\n",
      "Tozer Devotional -Series 1 1,000+\n",
      "The Pursuit of God 1,000+\n",
      "AY Sing 5,000+\n",
      "Ay Hasnain k Nana Milad Naat 10,000+\n",
      "Ay Mohabbat Teri Khatir Novel 10,000+\n",
      "Arizona Statutes, ARS (AZ Law) 1,000+\n",
      "Oxford A-Z of English Usage 1,000,000+\n",
      "BD Fishpedia 1,000+\n",
      "BD All Sim Offer 10,000+\n",
      "Youboox - Livres, BD et magazines 500,000+\n",
      "B&H Kids AR 10,000+\n",
      "B y H Niños ES 5,000+\n",
      "Dictionary.com: Find Definitions for English Words 10,000,000+\n",
      "English Dictionary - Offline 10,000,000+\n",
      "Bible KJV 5,000,000+\n",
      "Borneo Bible, BM Bible 10,000+\n",
      "MOD Black for BM 100+\n",
      "BM Box 1,000+\n",
      "Anime Mod for BM 100+\n",
      "NOOK: Read eBooks & Magazines 10,000,000+\n",
      "NOOK Audiobooks 500,000+\n",
      "NOOK App for NOOK Devices 500,000+\n",
      "Browsery by Barnes & Noble 5,000+\n",
      "bp e-store 1,000+\n",
      "Brilliant Quotes: Life, Love, Family & Motivation 1,000,000+\n",
      "BR Ambedkar Biography & Quotes 10,000+\n",
      "BU Alsace 100+\n",
      "Catholic La Bu Zo Kam 500+\n",
      "Khrifa Hla Bu (Solfa) 10+\n",
      "Kristian Hla Bu 10,000+\n",
      "SA HLA BU 1,000+\n",
      "Learn SAP BW 500+\n",
      "Learn SAP BW on HANA 500+\n",
      "CA Laws 2018 (California Laws and Codes) 5,000+\n",
      "Bootable Methods(USB-CD-DVD) 10,000+\n",
      "cloudLibrary 100,000+\n",
      "SDA Collegiate Quarterly 500+\n",
      "Sabbath School 100,000+\n",
      "Cypress College Library 100+\n",
      "Stats Royale for Clash Royale 1,000,000+\n",
      "GATE 21 years CS Papers(2011-2018 Solved) 50+\n",
      "Learn CT Scan Of Head 5,000+\n",
      "Easy Cv maker 2018 10,000+\n",
      "How to Write CV 100,000+\n",
      "CW Nuclear 1,000+\n",
      "CY Spray nozzle 10+\n",
      "BibleRead En Cy Zh Yue 5+\n",
      "CZ-Help 5+\n",
      "Modlitební knížka CZ 500+\n",
      "Guide for DB Xenoverse 10,000+\n",
      "Guide for DB Xenoverse 2 10,000+\n",
      "Guide for IMS DB 10+\n",
      "DC HSEMA 5,000+\n",
      "DC Public Library 1,000+\n",
      "Painting Lulu DC Super Friends 1,000+\n",
      "Dictionary 10,000,000+\n",
      "Fix Error Google Playstore 1,000+\n",
      "D. H. Lawrence Poems FREE 1,000+\n",
      "Bilingual Dictionary Audio App 5,000+\n",
      "DM Screen 10,000+\n",
      "wikiHow: how to do anything 1,000,000+\n",
      "Dr. Doug's Tips 1,000+\n",
      "Bible du Semeur-BDS (French) 50,000+\n",
      "La citadelle du musulman 50,000+\n",
      "DV 2019 Entry Guide 10,000+\n",
      "DV 2019 - EDV Photo & Form 50,000+\n",
      "DV 2018 Winners Guide 1,000+\n",
      "EB Annual Meetings 1,000+\n",
      "EC - AP & Telangana 5,000+\n",
      "TN Patta Citta & EC 10,000+\n",
      "AP Stamps and Registration 10,000+\n",
      "CompactiMa EC pH Calibration 100+\n",
      "EGW Writings 2 100,000+\n",
      "EGW Writings 1,000,000+\n",
      "Bible with EGW Comments 100,000+\n",
      "My Little Pony AR Guide 1,000,000+\n",
      "SDA Sabbath School Quarterly 500,000+\n",
      "Duaa Ek Ibaadat 5,000+\n",
      "Spanish English Translator 10,000,000+\n",
      "Dictionary - Merriam-Webster 10,000,000+\n",
      "JW Library 10,000,000+\n",
      "Oxford Dictionary of English : Free 10,000,000+\n",
      "English Hindi Dictionary 10,000,000+\n",
      "English to Hindi Dictionary 5,000,000+\n",
      "EP Research Service 1,000+\n",
      "Hymnes et Louanges 100,000+\n",
      "EU Charter 1,000+\n",
      "EU Data Protection 1,000+\n",
      "EU IP Codes 100+\n",
      "EW PDF 5+\n",
      "BakaReader EX 100,000+\n",
      "EZ Quran 50,000+\n",
      "FA Part 1 & 2 Past Papers Solved Free – Offline 5,000+\n",
      "La Fe de Jesus 1,000+\n",
      "La Fe de Jesús 500+\n",
      "Le Fe de Jesus 500+\n",
      "Florida - Pocket Brainbook 1,000+\n",
      "Florida Statutes (FL Code) 1,000+\n",
      "English To Shona Dictionary 10,000+\n",
      "Greek Bible FP (Audio) 1,000+\n",
      "Golden Dictionary (FR-AR) 500,000+\n",
      "Fanfic-FR 5,000+\n",
      "Bulgarian French Dictionary Fr 10,000+\n",
      "Chemin (fr) 1,000+\n",
      "The SCP Foundation DB fr nn5n 1,000+\n"
     ]
    }
   ],
   "source": [
    "for row in free_android:\n",
    "    if row[1]==\"BOOKS_AND_REFERENCE\":\n",
    "        print(row[0],row[5])"
   ]
  },
  {
   "cell_type": "markdown",
   "metadata": {},
   "source": [
    "Besides the expected giants like Wattpad, Wikipedia etc, we do see some books here that are based on their practical advantage. Various collections of libraries and dictionaries are popular.\n",
    "\n",
    "So we can recommend a fun and interactive dictionary app that we recommened for IOS before."
   ]
  },
  {
   "cell_type": "markdown",
   "metadata": {},
   "source": [
    "## Conclusions"
   ]
  },
  {
   "cell_type": "markdown",
   "metadata": {},
   "source": [
    "In this project, we analyzed data about the App Store and Google Play mobile apps with the goal of recommending an app profile that can be profitable for both markets.\n",
    "\n",
    "We concluded that making an app based on grammar, dictionaries or translations can be profitable for the both the markets. To reinstate, the app should be free and in English Language. We can incorporate animations, word of the day and quizzes in the app to help users engage more."
   ]
  },
  {
   "cell_type": "code",
   "execution_count": null,
   "metadata": {},
   "outputs": [],
   "source": []
  }
 ],
 "metadata": {
  "kernelspec": {
   "display_name": "Python 3",
   "language": "python",
   "name": "python3"
  },
  "language_info": {
   "codemirror_mode": {
    "name": "ipython",
    "version": 3
   },
   "file_extension": ".py",
   "mimetype": "text/x-python",
   "name": "python",
   "nbconvert_exporter": "python",
   "pygments_lexer": "ipython3",
   "version": "3.8.2"
  }
 },
 "nbformat": 4,
 "nbformat_minor": 2
}
